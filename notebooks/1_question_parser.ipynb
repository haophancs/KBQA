{
 "cells": [
  {
   "cell_type": "markdown",
   "metadata": {},
   "source": [
    "# Question parser\n",
    "\n",
    "Parse question into tokens assigned to 4 groups: \n",
    "* entities and predicates for the 1st hop (E1 P1)  \n",
    "* entities and predicates for the 2nd hop (E2 P2)  \n",
    "\n",
    "Then train a supervised sequence tagging model to extract the mention text spans.\n",
    "\n",
    "Reference: https://www.depends-on-the-definition.com/sequence-tagging-lstm-crf/"
   ]
  },
  {
   "cell_type": "code",
   "execution_count": 3,
   "metadata": {},
   "outputs": [],
   "source": [
    "# setup\n",
    "dataset_name = 'lcquad'\n",
    "embeddings_choice = 'glove6B100d'\n",
    "\n",
    "import os\n",
    "os.chdir('/mpqa_new/KBQA/src')  # path to working directory for saving models\n",
    "\n",
    "# connect to MongoDB (27017 is the default port) to access the dataset\n",
    "# sudo service mongod start \n",
    "from pymongo import MongoClient\n",
    "\n",
    "\n",
    "class Mongo_Connector():\n",
    "    '''\n",
    "    Wrapper class for some of the pymongo functions: http://api.mongodb.com/python/current/tutorial.html\n",
    "    '''\n",
    "\n",
    "    def __init__(self, db_name, col_name):\n",
    "        # spin up database\n",
    "        self.mongo_client = MongoClient()\n",
    "        self.col = self.mongo_client[db_name][col_name]\n",
    "        \n",
    "    def get_sample(self, limit=100):\n",
    "        '''\n",
    "        Set limit to None to get all docs\n",
    "        '''\n",
    "        cursor = self.col.find()\n",
    "        if limit:\n",
    "            cursor = cursor.limit(limit)\n",
    "        return cursor\n",
    "\n",
    "\n",
    "mongo = Mongo_Connector('kbqa', dataset_name)"
   ]
  },
  {
   "cell_type": "markdown",
   "metadata": {},
   "source": [
    "## Prepare dataset\n",
    "\n",
    "Encode questions with IO tokens: E1E2P1P2"
   ]
  },
  {
   "cell_type": "code",
   "execution_count": 4,
   "metadata": {},
   "outputs": [
    {
     "name": "stderr",
     "output_type": "stream",
     "text": [
      "Using TensorFlow backend.\n",
      "/mpqa_new/miniconda3/envs/kbqa/lib/python3.6/site-packages/tensorflow/python/framework/dtypes.py:523: FutureWarning: Passing (type, 1) or '1type' as a synonym of type is deprecated; in a future version of numpy, it will be understood as (type, (1,)) / '(1,)type'.\n",
      "  _np_qint8 = np.dtype([(\"qint8\", np.int8, 1)])\n",
      "/mpqa_new/miniconda3/envs/kbqa/lib/python3.6/site-packages/tensorflow/python/framework/dtypes.py:524: FutureWarning: Passing (type, 1) or '1type' as a synonym of type is deprecated; in a future version of numpy, it will be understood as (type, (1,)) / '(1,)type'.\n",
      "  _np_quint8 = np.dtype([(\"quint8\", np.uint8, 1)])\n",
      "/mpqa_new/miniconda3/envs/kbqa/lib/python3.6/site-packages/tensorflow/python/framework/dtypes.py:525: FutureWarning: Passing (type, 1) or '1type' as a synonym of type is deprecated; in a future version of numpy, it will be understood as (type, (1,)) / '(1,)type'.\n",
      "  _np_qint16 = np.dtype([(\"qint16\", np.int16, 1)])\n",
      "/mpqa_new/miniconda3/envs/kbqa/lib/python3.6/site-packages/tensorflow/python/framework/dtypes.py:526: FutureWarning: Passing (type, 1) or '1type' as a synonym of type is deprecated; in a future version of numpy, it will be understood as (type, (1,)) / '(1,)type'.\n",
      "  _np_quint16 = np.dtype([(\"quint16\", np.uint16, 1)])\n",
      "/mpqa_new/miniconda3/envs/kbqa/lib/python3.6/site-packages/tensorflow/python/framework/dtypes.py:527: FutureWarning: Passing (type, 1) or '1type' as a synonym of type is deprecated; in a future version of numpy, it will be understood as (type, (1,)) / '(1,)type'.\n",
      "  _np_qint32 = np.dtype([(\"qint32\", np.int32, 1)])\n",
      "/mpqa_new/miniconda3/envs/kbqa/lib/python3.6/site-packages/tensorflow/python/framework/dtypes.py:532: FutureWarning: Passing (type, 1) or '1type' as a synonym of type is deprecated; in a future version of numpy, it will be understood as (type, (1,)) / '(1,)type'.\n",
      "  np_resource = np.dtype([(\"resource\", np.ubyte, 1)])\n"
     ]
    },
    {
     "name": "stdout",
     "output_type": "stream",
     "text": [
      "Loaded 4998 lcquad questions\n"
     ]
    }
   ],
   "source": [
    "limit = None\n",
    "verbose = False\n",
    "\n",
    "tags = ['O', 'E', 'P']  # + p_tags\n",
    "modelname = 'joint'  # joint predicate\n",
    "\n",
    "import re\n",
    "from keras.preprocessing.text import text_to_word_sequence\n",
    "\n",
    "def parse_question(question_o, spans):\n",
    "    # exclude duplicate spans\n",
    "    spans = list(set(spans))\n",
    "    # sort the mention spans into the correct sequence order in the question\n",
    "    spans.sort(key=lambda tup: tup[0])\n",
    "    # parse question into mention spans\n",
    "    cursor_idx = 0\n",
    "    words, ye = [], []\n",
    "    for span in spans:\n",
    "        idx_start, idx_end, tag = span\n",
    "        # spacing\n",
    "        space = text_to_word_sequence(question_o[cursor_idx:idx_start])\n",
    "        words.extend(space)\n",
    "        ye.extend([''] * len(space))\n",
    "        # mention\n",
    "        mention = text_to_word_sequence(question_o[idx_start:idx_end])\n",
    "        words.extend(mention)\n",
    "        ye.extend([tag] * len(mention))\n",
    "        # move cursor to the end of the current annotation span\n",
    "        cursor_idx = idx_end\n",
    "    # add the remaining spacing\n",
    "    space = text_to_word_sequence(question_o[cursor_idx:])\n",
    "    words.extend(space)\n",
    "    ye.extend([''] * len(space))\n",
    "    if verbose:\n",
    "        print(spans)\n",
    "        print(words)\n",
    "        print(ye)\n",
    "    assert len(words) == len(ye)\n",
    "    return words, ye\n",
    "\n",
    "\n",
    "samples = mongo.get_sample(limit=limit)\n",
    "# iterate over the cursor\n",
    "questions = []\n",
    "n_words_distr = []\n",
    "labels = []\n",
    "count = 0\n",
    "question_types = []  # indicate complex questions by number of hops\n",
    "for doc in samples:\n",
    "    _complex = 0  # default indicator for simple questions\n",
    "    # get sample annotations\n",
    "    question_o = doc['question']\n",
    "    # get URI distribution across the hops\n",
    "    e1, p1 = doc['1hop']\n",
    "    e2, p2 = doc['2hop']\n",
    "    \n",
    "    # collect span annotations\n",
    "    e_spans = []\n",
    "    p_spans = []\n",
    "    # fix: some entities are erroneously annotated as predicates\n",
    "    for e in doc['entity mapping']+doc['predicate mapping']:\n",
    "        # fix: use labels to find substrings since some of the span indices annotations are incorrect\n",
    "        matches = re.finditer(re.escape(e['label'].lower()), question_o.lower())\n",
    "        # pick tag for this mention\n",
    "        if e['uri'] in e1:\n",
    "            e_spans.extend([(match.start(), match.end(), 'E1') for match in matches])\n",
    "        elif e['uri'] in e2:\n",
    "            e_spans.extend([(match.start(), match.end(), 'E2') for match in matches])\n",
    "            _complex = 1  # indicate complex question\n",
    "        elif e['uri'] in p1:\n",
    "            p_spans.extend([(match.start(), match.end(), 'P1') for match in matches])\n",
    "        elif e['uri'] in p2:\n",
    "            p_spans.extend([(match.start(), match.end(), 'P2') for match in matches])\n",
    "            _complex = 1  # indicate complex question\n",
    "\n",
    "    if modelname == 'entity':\n",
    "        words, _y = parse_question(question_o, e_spans)\n",
    "    elif modelname == 'predicate':\n",
    "        words, _y = parse_question(question_o, p_spans)\n",
    "    elif modelname == 'joint':\n",
    "        words_e, y_e = parse_question(question_o, e_spans)\n",
    "        words_p, y_p = parse_question(question_o, p_spans)\n",
    "        if words_e == words_p:\n",
    "            words = words_e\n",
    "            _y = []\n",
    "            for tag_e, tag_p in zip(y_e, y_p):\n",
    "                if tag_e == '' or tag_p == '':\n",
    "                    _y.append(tag_e+tag_p)\n",
    "                else:\n",
    "                    _y.append(tag_e) # use the entity tag when tags overlap\n",
    "                \n",
    "    #     add the sample to the dataset \n",
    "    questions.append(words)\n",
    "    n_words_distr.append(len(words))\n",
    "    labels.append(_y)\n",
    "    question_types.append(_complex)\n",
    "    count += 1\n",
    "\n",
    "dataset_size = len(questions)\n",
    "print(\"Loaded %d %s questions\"%(dataset_size, dataset_name))"
   ]
  },
  {
   "cell_type": "code",
   "execution_count": 5,
   "metadata": {},
   "outputs": [
    {
     "name": "stdout",
     "output_type": "stream",
     "text": [
      "['was', 'jack', 'ryan', 'a', 'nominee', 'of', 'us', 'senate']\n",
      "['', 'E1', 'E1', '', 'P1', '', 'E1', 'E1']\n",
      "1\n"
     ]
    }
   ],
   "source": [
    "# show sample question\n",
    "i = 200\n",
    "print(questions[i])\n",
    "print(labels[i])\n",
    "print(question_types[i])"
   ]
  },
  {
   "cell_type": "code",
   "execution_count": 7,
   "metadata": {},
   "outputs": [
    {
     "name": "stdout",
     "output_type": "stream",
     "text": [
      "Number of unique words 5774\n",
      "Maximum question length in the dataset: 25\n",
      "599 OOV words\n",
      "Model settings saved.\n"
     ]
    }
   ],
   "source": [
    "# load pre-trained word embeddings for question semantic representation\n",
    "from pymagnitude import *\n",
    "embeddings_path = \"/mpqa_new/KBQA/data/embeddings/\"\n",
    "embeddings = {'glove6B100d': \"glove.6B.100d.magnitude\"}\n",
    "vectors = Magnitude(embeddings_path + embeddings[embeddings_choice])\n",
    "\n",
    "words = list(set([word for q in questions for word in q]))\n",
    "n_words = len(words)\n",
    "print(\"Number of unique words %d\"%len(words))\n",
    "word2idx = {w: i + 1 for i, w in enumerate(words)}\n",
    "\n",
    "# dataset parameters for training the model\n",
    "max_len = max(n_words_distr)\n",
    "print(\"Maximum question length in the dataset: %d\"%max_len)\n",
    "\n",
    "# prepare data and pad the max length with 0s\n",
    "from keras.preprocessing.sequence import pad_sequences\n",
    "X = [[word2idx[w] for w in s] for s in questions]\n",
    "X = pad_sequences(maxlen=max_len, sequences=X, padding=\"post\", value=0)\n",
    "\n",
    "# encode tags\n",
    "n_tags = len(tags)\n",
    "y = [[tags.index(tag[0]) if tag else 0 for tag in s] for s in labels]\n",
    "y = pad_sequences(maxlen=max_len, sequences=y, padding=\"post\", value=0)\n",
    "from keras.utils import to_categorical\n",
    "y = [to_categorical(i, num_classes=n_tags) for i in y]\n",
    "\n",
    "# load embeddings into matrix\n",
    "import math\n",
    "word_embedding_matrix = np.zeros((n_words+1, vectors.dim))\n",
    "\n",
    "n_oov = 0\n",
    "\n",
    "for w in word2idx:\n",
    "    # get the word vector from the embedding model\n",
    "    if w in vectors:\n",
    "        word_vector = vectors.query(w)\n",
    "    # OOV word\n",
    "    else:\n",
    "        n_oov += 1\n",
    "        word_vector = vectors.query('unk')\n",
    "    word_embedding_matrix[word2idx[w]] = word_vector\n",
    "\n",
    "# loaded vector # may be lower than total vocab due to w2v settings\n",
    "print('%d OOV words'%n_oov)\n",
    "\n",
    "model_settings = {'embeddings': word_embedding_matrix, 'word2idx': word2idx,\n",
    "                  'max_len': max_len, 'n_words': n_words, 'n_tags': n_tags, 'emb_dim': vectors.dim}\n",
    "\n",
    "# save model settings\n",
    "import pickle as pkl\n",
    "f = open('%s_%s.pkl'%(dataset_name, embeddings_choice), 'wb')\n",
    "pkl.dump(model_settings, f, -1)\n",
    "f.close()\n",
    "print(\"Model settings saved.\")"
   ]
  },
  {
   "cell_type": "markdown",
   "metadata": {},
   "source": [
    "## Mention extraction"
   ]
  },
  {
   "cell_type": "code",
   "execution_count": 8,
   "metadata": {},
   "outputs": [
    {
     "name": "stdout",
     "output_type": "stream",
     "text": [
      "Training on 4498 samples testing on 500 samples\n"
     ]
    }
   ],
   "source": [
    "# split dataset into training and testing subsets\n",
    "test_size = 0.1\n",
    "\n",
    "from sklearn.model_selection import train_test_split\n",
    "# fix random seed\n",
    "X_train, X_test, y_train, y_test = train_test_split(X, y, test_size=test_size,\n",
    "                                                    stratify=question_types, random_state=103232)\n",
    "print(\"Training on %d samples testing on %d samples\" % (len(X_train), len(X_test)))"
   ]
  },
  {
   "cell_type": "code",
   "execution_count": 9,
   "metadata": {},
   "outputs": [
    {
     "name": "stderr",
     "output_type": "stream",
     "text": [
      "/mpqa_new/miniconda3/envs/kbqa/lib/python3.6/site-packages/keras_contrib/layers/crf.py:346: UserWarning: CRF.loss_function is deprecated and it might be removed in the future. Please use losses.crf_loss instead.\n",
      "  warnings.warn('CRF.loss_function is deprecated '\n",
      "/mpqa_new/miniconda3/envs/kbqa/lib/python3.6/site-packages/keras_contrib/layers/crf.py:353: UserWarning: CRF.accuracy is deprecated and it might be removed in the future. Please use metrics.crf_accuracy\n",
      "  warnings.warn('CRF.accuracy is deprecated and it '\n"
     ]
    },
    {
     "name": "stdout",
     "output_type": "stream",
     "text": [
      "_________________________________________________________________\n",
      "Layer (type)                 Output Shape              Param #   \n",
      "=================================================================\n",
      "input_1 (InputLayer)         (None, 25)                0         \n",
      "_________________________________________________________________\n",
      "embedding_1 (Embedding)      (None, 25, 100)           577500    \n",
      "_________________________________________________________________\n",
      "bidirectional_1 (Bidirection (None, 25, 100)           60400     \n",
      "_________________________________________________________________\n",
      "time_distributed_1 (TimeDist (None, 25, 50)            5050      \n",
      "_________________________________________________________________\n",
      "crf_1 (CRF)                  (None, 25, 3)             168       \n",
      "=================================================================\n",
      "Total params: 643,118\n",
      "Trainable params: 65,618\n",
      "Non-trainable params: 577,500\n",
      "_________________________________________________________________\n"
     ]
    }
   ],
   "source": [
    "# bi-LSTM CRF model architecture\n",
    "from keras.models import Model, Input\n",
    "from keras.layers import LSTM, Embedding, Dense, TimeDistributed, Dropout, Bidirectional\n",
    "from keras_contrib.layers import CRF\n",
    "from keras.optimizers import Adam\n",
    "\n",
    "def build_model(model_settings):\n",
    "    # architecture\n",
    "    input = Input(shape=(model_settings['max_len'],))\n",
    "    model = Embedding(input_dim=model_settings['n_words']+1, output_dim=model_settings['emb_dim'],\n",
    "                      weights=[model_settings['embeddings']],\n",
    "                      input_length=model_settings['max_len'], mask_zero=True, trainable=False)(input)\n",
    "    model = Bidirectional(LSTM(units=50, return_sequences=True,\n",
    "                               recurrent_dropout=0.1))(model)  # variational biLSTM\n",
    "    model = TimeDistributed(Dense(50, activation=\"relu\"))(model)  # a dense layer as suggested by neuralNer\n",
    "    crf = CRF(model_settings['n_tags'])  # CRF layer\n",
    "    out = crf(model)  # output\n",
    "    model = Model(input, out)\n",
    "    model.compile(optimizer=Adam(lr=0.0001), loss=crf.loss_function, metrics=[crf.accuracy])\n",
    "    model.summary()\n",
    "    return model\n",
    "\n",
    "# load model settings\n",
    "import pickle as pkl\n",
    "with open('%s_%s.pkl'%(dataset_name, embeddings_choice), 'rb') as f:\n",
    "    model_settings = pkl.load(f)\n",
    "model = build_model(model_settings)"
   ]
  },
  {
   "cell_type": "code",
   "execution_count": 11,
   "metadata": {},
   "outputs": [
    {
     "name": "stdout",
     "output_type": "stream",
     "text": [
      "Train on 4048 samples, validate on 450 samples\n",
      "Epoch 1/50\n",
      "4048/4048 [==============================] - 5s 1ms/step - loss: 2.5652 - crf_viterbi_accuracy: 0.5966 - val_loss: 2.5629 - val_crf_viterbi_accuracy: 0.6109\n",
      "Epoch 2/50\n",
      "4048/4048 [==============================] - 6s 1ms/step - loss: 2.5272 - crf_viterbi_accuracy: 0.6279 - val_loss: 2.5222 - val_crf_viterbi_accuracy: 0.6354\n",
      "Epoch 3/50\n",
      "4048/4048 [==============================] - 6s 1ms/step - loss: 2.4789 - crf_viterbi_accuracy: 0.6538 - val_loss: 2.4695 - val_crf_viterbi_accuracy: 0.6655\n",
      "Epoch 4/50\n",
      "4048/4048 [==============================] - 6s 1ms/step - loss: 2.4175 - crf_viterbi_accuracy: 0.6812 - val_loss: 2.4026 - val_crf_viterbi_accuracy: 0.6888\n",
      "Epoch 5/50\n",
      "4048/4048 [==============================] - 6s 1ms/step - loss: 2.3490 - crf_viterbi_accuracy: 0.7090 - val_loss: 2.3355 - val_crf_viterbi_accuracy: 0.7169\n",
      "\n",
      "Epoch 00005: val_loss improved from inf to 2.33546, saving model to ../checkpoints/_joint05-0.72.h5\n",
      "Epoch 6/50\n",
      "4048/4048 [==============================] - 6s 1ms/step - loss: 2.2927 - crf_viterbi_accuracy: 0.7333 - val_loss: 2.2926 - val_crf_viterbi_accuracy: 0.7389\n",
      "Epoch 7/50\n",
      "4048/4048 [==============================] - 6s 1ms/step - loss: 2.2593 - crf_viterbi_accuracy: 0.7527 - val_loss: 2.2667 - val_crf_viterbi_accuracy: 0.7539\n",
      "Epoch 8/50\n",
      "4048/4048 [==============================] - 6s 1ms/step - loss: 2.2366 - crf_viterbi_accuracy: 0.7664 - val_loss: 2.2474 - val_crf_viterbi_accuracy: 0.7724\n",
      "Epoch 9/50\n",
      "4048/4048 [==============================] - 6s 1ms/step - loss: 2.2164 - crf_viterbi_accuracy: 0.7772 - val_loss: 2.2316 - val_crf_viterbi_accuracy: 0.7817\n",
      "Epoch 10/50\n",
      "4048/4048 [==============================] - 6s 1ms/step - loss: 2.2001 - crf_viterbi_accuracy: 0.7888 - val_loss: 2.2154 - val_crf_viterbi_accuracy: 0.7974\n",
      "\n",
      "Epoch 00010: val_loss improved from 2.33546 to 2.21537, saving model to ../checkpoints/_joint10-0.80.h5\n",
      "Epoch 11/50\n",
      "4048/4048 [==============================] - 6s 1ms/step - loss: 2.1841 - crf_viterbi_accuracy: 0.7986 - val_loss: 2.2024 - val_crf_viterbi_accuracy: 0.8031\n",
      "Epoch 12/50\n",
      "4048/4048 [==============================] - 6s 1ms/step - loss: 2.1704 - crf_viterbi_accuracy: 0.8062 - val_loss: 2.1893 - val_crf_viterbi_accuracy: 0.8151\n",
      "Epoch 13/50\n",
      "4048/4048 [==============================] - 6s 1ms/step - loss: 2.1594 - crf_viterbi_accuracy: 0.8106 - val_loss: 2.1793 - val_crf_viterbi_accuracy: 0.8201\n",
      "Epoch 14/50\n",
      "4048/4048 [==============================] - 6s 1ms/step - loss: 2.1490 - crf_viterbi_accuracy: 0.8155 - val_loss: 2.1713 - val_crf_viterbi_accuracy: 0.8226\n",
      "Epoch 15/50\n",
      "4048/4048 [==============================] - 6s 1ms/step - loss: 2.1412 - crf_viterbi_accuracy: 0.8198 - val_loss: 2.1642 - val_crf_viterbi_accuracy: 0.8261\n",
      "\n",
      "Epoch 00015: val_loss improved from 2.21537 to 2.16424, saving model to ../checkpoints/_joint15-0.83.h5\n",
      "Epoch 16/50\n",
      "4048/4048 [==============================] - 6s 1ms/step - loss: 2.1328 - crf_viterbi_accuracy: 0.8228 - val_loss: 2.1578 - val_crf_viterbi_accuracy: 0.8282\n",
      "Epoch 17/50\n",
      "4048/4048 [==============================] - 6s 1ms/step - loss: 2.1263 - crf_viterbi_accuracy: 0.8251 - val_loss: 2.1532 - val_crf_viterbi_accuracy: 0.8299\n",
      "Epoch 18/50\n",
      "4048/4048 [==============================] - 6s 1ms/step - loss: 2.1215 - crf_viterbi_accuracy: 0.8249 - val_loss: 2.1485 - val_crf_viterbi_accuracy: 0.8282\n",
      "Epoch 19/50\n",
      "4048/4048 [==============================] - 6s 1ms/step - loss: 2.1152 - crf_viterbi_accuracy: 0.8289 - val_loss: 2.1447 - val_crf_viterbi_accuracy: 0.8278\n",
      "Epoch 20/50\n",
      "4048/4048 [==============================] - 6s 1ms/step - loss: 2.1098 - crf_viterbi_accuracy: 0.8311 - val_loss: 2.1402 - val_crf_viterbi_accuracy: 0.8290\n",
      "\n",
      "Epoch 00020: val_loss improved from 2.16424 to 2.14018, saving model to ../checkpoints/_joint20-0.83.h5\n",
      "Epoch 21/50\n",
      "4048/4048 [==============================] - 6s 1ms/step - loss: 2.1072 - crf_viterbi_accuracy: 0.8307 - val_loss: 2.1360 - val_crf_viterbi_accuracy: 0.8355\n",
      "Epoch 22/50\n",
      "4048/4048 [==============================] - 6s 1ms/step - loss: 2.1026 - crf_viterbi_accuracy: 0.8325 - val_loss: 2.1324 - val_crf_viterbi_accuracy: 0.8366\n",
      "Epoch 23/50\n",
      "4048/4048 [==============================] - 6s 1ms/step - loss: 2.0987 - crf_viterbi_accuracy: 0.8337 - val_loss: 2.1291 - val_crf_viterbi_accuracy: 0.8370\n",
      "Epoch 24/50\n",
      "4048/4048 [==============================] - 6s 1ms/step - loss: 2.0947 - crf_viterbi_accuracy: 0.8347 - val_loss: 2.1269 - val_crf_viterbi_accuracy: 0.8365\n",
      "Epoch 25/50\n",
      "4048/4048 [==============================] - 6s 1ms/step - loss: 2.0919 - crf_viterbi_accuracy: 0.8349 - val_loss: 2.1237 - val_crf_viterbi_accuracy: 0.8393\n",
      "\n",
      "Epoch 00025: val_loss improved from 2.14018 to 2.12369, saving model to ../checkpoints/_joint25-0.84.h5\n",
      "Epoch 26/50\n",
      "4048/4048 [==============================] - 6s 1ms/step - loss: 2.0889 - crf_viterbi_accuracy: 0.8377 - val_loss: 2.1249 - val_crf_viterbi_accuracy: 0.8322\n",
      "Epoch 27/50\n",
      "4048/4048 [==============================] - 6s 1ms/step - loss: 2.0871 - crf_viterbi_accuracy: 0.8359 - val_loss: 2.1196 - val_crf_viterbi_accuracy: 0.8426\n",
      "Epoch 28/50\n",
      "4048/4048 [==============================] - 6s 1ms/step - loss: 2.0829 - crf_viterbi_accuracy: 0.8388 - val_loss: 2.1182 - val_crf_viterbi_accuracy: 0.8379\n",
      "Epoch 29/50\n",
      "4048/4048 [==============================] - 6s 1ms/step - loss: 2.0796 - crf_viterbi_accuracy: 0.8397 - val_loss: 2.1152 - val_crf_viterbi_accuracy: 0.8411\n",
      "Epoch 30/50\n",
      "4048/4048 [==============================] - 6s 1ms/step - loss: 2.0779 - crf_viterbi_accuracy: 0.8420 - val_loss: 2.1122 - val_crf_viterbi_accuracy: 0.8441\n",
      "\n",
      "Epoch 00030: val_loss improved from 2.12369 to 2.11218, saving model to ../checkpoints/_joint30-0.84.h5\n",
      "Epoch 31/50\n",
      "4048/4048 [==============================] - 6s 1ms/step - loss: 2.0759 - crf_viterbi_accuracy: 0.8405 - val_loss: 2.1119 - val_crf_viterbi_accuracy: 0.8438\n",
      "Epoch 32/50\n",
      "4048/4048 [==============================] - 6s 1ms/step - loss: 2.0733 - crf_viterbi_accuracy: 0.8423 - val_loss: 2.1084 - val_crf_viterbi_accuracy: 0.8444\n",
      "Epoch 33/50\n",
      "4048/4048 [==============================] - 6s 1ms/step - loss: 2.0711 - crf_viterbi_accuracy: 0.8442 - val_loss: 2.1076 - val_crf_viterbi_accuracy: 0.8449\n",
      "Epoch 34/50\n",
      "4048/4048 [==============================] - 6s 1ms/step - loss: 2.0686 - crf_viterbi_accuracy: 0.8444 - val_loss: 2.1053 - val_crf_viterbi_accuracy: 0.8436\n",
      "Epoch 35/50\n",
      "4048/4048 [==============================] - 6s 1ms/step - loss: 2.0665 - crf_viterbi_accuracy: 0.8445 - val_loss: 2.1042 - val_crf_viterbi_accuracy: 0.8441\n",
      "\n",
      "Epoch 00035: val_loss improved from 2.11218 to 2.10419, saving model to ../checkpoints/_joint35-0.84.h5\n",
      "Epoch 36/50\n",
      "4048/4048 [==============================] - 6s 1ms/step - loss: 2.0655 - crf_viterbi_accuracy: 0.8449 - val_loss: 2.1021 - val_crf_viterbi_accuracy: 0.8458\n",
      "Epoch 37/50\n",
      "4048/4048 [==============================] - 6s 1ms/step - loss: 2.0630 - crf_viterbi_accuracy: 0.8458 - val_loss: 2.1010 - val_crf_viterbi_accuracy: 0.8461\n",
      "Epoch 38/50\n",
      "4048/4048 [==============================] - 5s 1ms/step - loss: 2.0636 - crf_viterbi_accuracy: 0.8447 - val_loss: 2.1010 - val_crf_viterbi_accuracy: 0.8446\n",
      "Epoch 39/50\n",
      "4048/4048 [==============================] - 6s 1ms/step - loss: 2.0596 - crf_viterbi_accuracy: 0.8471 - val_loss: 2.0977 - val_crf_viterbi_accuracy: 0.8473\n",
      "Epoch 40/50\n",
      "4048/4048 [==============================] - 6s 1ms/step - loss: 2.0594 - crf_viterbi_accuracy: 0.8477 - val_loss: 2.0972 - val_crf_viterbi_accuracy: 0.8471\n",
      "\n",
      "Epoch 00040: val_loss improved from 2.10419 to 2.09717, saving model to ../checkpoints/_joint40-0.85.h5\n",
      "Epoch 41/50\n",
      "4048/4048 [==============================] - 6s 1ms/step - loss: 2.0565 - crf_viterbi_accuracy: 0.8481 - val_loss: 2.0965 - val_crf_viterbi_accuracy: 0.8480\n",
      "Epoch 42/50\n",
      "4048/4048 [==============================] - 6s 1ms/step - loss: 2.0566 - crf_viterbi_accuracy: 0.8476 - val_loss: 2.0941 - val_crf_viterbi_accuracy: 0.8481\n",
      "Epoch 43/50\n",
      "4048/4048 [==============================] - 6s 1ms/step - loss: 2.0547 - crf_viterbi_accuracy: 0.8475 - val_loss: 2.0929 - val_crf_viterbi_accuracy: 0.8489\n",
      "Epoch 44/50\n"
     ]
    },
    {
     "name": "stdout",
     "output_type": "stream",
     "text": [
      "4048/4048 [==============================] - 5s 1ms/step - loss: 2.0526 - crf_viterbi_accuracy: 0.8485 - val_loss: 2.0919 - val_crf_viterbi_accuracy: 0.8470\n",
      "Epoch 45/50\n",
      "4048/4048 [==============================] - 5s 1ms/step - loss: 2.0516 - crf_viterbi_accuracy: 0.8488 - val_loss: 2.0905 - val_crf_viterbi_accuracy: 0.8478\n",
      "\n",
      "Epoch 00045: val_loss improved from 2.09717 to 2.09051, saving model to ../checkpoints/_joint45-0.85.h5\n",
      "Epoch 46/50\n",
      "4048/4048 [==============================] - 6s 1ms/step - loss: 2.0492 - crf_viterbi_accuracy: 0.8503 - val_loss: 2.0897 - val_crf_viterbi_accuracy: 0.8493\n",
      "Epoch 47/50\n",
      "4048/4048 [==============================] - 6s 1ms/step - loss: 2.0488 - crf_viterbi_accuracy: 0.8497 - val_loss: 2.0880 - val_crf_viterbi_accuracy: 0.8497\n",
      "Epoch 48/50\n",
      "4048/4048 [==============================] - 6s 1ms/step - loss: 2.0475 - crf_viterbi_accuracy: 0.8511 - val_loss: 2.0875 - val_crf_viterbi_accuracy: 0.8487\n",
      "Epoch 49/50\n",
      "4048/4048 [==============================] - 6s 1ms/step - loss: 2.0453 - crf_viterbi_accuracy: 0.8514 - val_loss: 2.0860 - val_crf_viterbi_accuracy: 0.8497\n",
      "Epoch 50/50\n",
      "4048/4048 [==============================] - 6s 1ms/step - loss: 2.0446 - crf_viterbi_accuracy: 0.8527 - val_loss: 2.0852 - val_crf_viterbi_accuracy: 0.8530\n",
      "\n",
      "Epoch 00050: val_loss improved from 2.09051 to 2.08516, saving model to ../checkpoints/_joint50-0.85.h5\n"
     ]
    }
   ],
   "source": [
    "# callbacks\n",
    "from keras.callbacks import ReduceLROnPlateau, EarlyStopping, TerminateOnNaN, ModelCheckpoint\n",
    "cb_redlr = ReduceLROnPlateau(monitor='val_crf_viterbi_accuracy', factor=0.5, patience=3, min_lr=0.0001, verbose=1)\n",
    "cb_early = EarlyStopping(monitor='val_crf_viterbi_accuracy', min_delta=0, patience=5, verbose=1)\n",
    "cb_chkpt = ModelCheckpoint('../checkpoints/_'+modelname+'{epoch:02d}-{val_crf_viterbi_accuracy:.2f}.h5', verbose=1, save_best_only=True, save_weights_only=True, period=5)\n",
    "\n",
    "callbacks_list=[cb_redlr, cb_early, cb_chkpt]\n",
    "\n",
    "# start training\n",
    "log = model.fit(X_train, np.array(y_train), batch_size=32, epochs=50,\n",
    "                callbacks=callbacks_list,\n",
    "                validation_split=0.1, verbose=1)"
   ]
  },
  {
   "cell_type": "code",
   "execution_count": 12,
   "metadata": {},
   "outputs": [
    {
     "data": {
      "image/png": "[encoded data removed]",
      "text/plain": [
       "<Figure size 864x864 with 1 Axes>"
      ]
     },
     "metadata": {},
     "output_type": "display_data"
    }
   ],
   "source": [
    "# plot accuracies\n",
    "import pandas as pd\n",
    "hist = pd.DataFrame(log.history)\n",
    "# print(hist)\n",
    "%matplotlib inline\n",
    "import matplotlib.pyplot as plt\n",
    "plt.style.use(\"ggplot\")\n",
    "plt.figure(figsize=(12,12))\n",
    "plt.plot(hist[\"crf_viterbi_accuracy\"], label='Training accuracy')\n",
    "plt.plot(hist[\"val_crf_viterbi_accuracy\"], label='Validation accuracy')\n",
    "plt.legend()\n",
    "plt.show()"
   ]
  },
  {
   "cell_type": "code",
   "execution_count": 13,
   "metadata": {},
   "outputs": [
    {
     "name": "stdout",
     "output_type": "stream",
     "text": [
      "500/500 [==============================] - 1s 1ms/step\n",
      "F1-score: 83.3%\n"
     ]
    },
    {
     "name": "stderr",
     "output_type": "stream",
     "text": [
      "/mpqa_new/miniconda3/envs/kbqa/lib/python3.6/site-packages/seqeval/metrics/sequence_labeling.py:171: UserWarning: P seems not to be NE tag.\n",
      "  warnings.warn('{} seems not to be NE tag.'.format(chunk))\n"
     ]
    },
    {
     "name": "stdout",
     "output_type": "stream",
     "text": [
      "              precision    recall  f1-score   support\n",
      "\n",
      "           _       0.82      0.84      0.83      1664\n",
      "\n",
      "   micro avg       0.82      0.84      0.83      1664\n",
      "   macro avg       0.82      0.84      0.83      1664\n",
      "weighted avg       0.82      0.84      0.83      1664\n",
      "\n"
     ]
    }
   ],
   "source": [
    "# evaluate model on the test set\n",
    "test_pred = model.predict(X_test, verbose=1)\n",
    "\n",
    "pred_labels = [[tags[np.argmax(p)] for p in pred_i] for pred_i in test_pred]\n",
    "test_labels = [[tags[np.argmax(p)] for p in pred_i] for pred_i in y_test]\n",
    "\n",
    "from seqeval.metrics import precision_score, recall_score, f1_score, classification_report\n",
    "print(\"F1-score: {:.1%}\".format(f1_score(test_labels, pred_labels, average='weighted')))\n",
    "print(classification_report(test_labels, pred_labels))"
   ]
  },
  {
   "cell_type": "code",
   "execution_count": 14,
   "metadata": {},
   "outputs": [
    {
     "name": "stdout",
     "output_type": "stream",
     "text": [
      "Word           ||True ||Pred\n",
      "==============================\n",
      "what           :     2 0\n",
      "is             :     0 0\n",
      "a              :     0 0\n",
      "salthill       :     1 1\n"
     ]
    }
   ],
   "source": [
    "# show sample test prediction\n",
    "i = 15\n",
    "p = model.predict(np.array([X_test[i]]))\n",
    "p = np.argmax(p, axis=-1)\n",
    "true = np.argmax(y_test[i], -1)\n",
    "print(\"{:15}||{:5}||{}\".format(\"Word\", \"True\", \"Pred\"))\n",
    "print(30 * \"=\")\n",
    "for w, t, pred in zip(X_test[i], true, p[0]):\n",
    "    if w != 0:\n",
    "        print(\"{:15}: {:5} {}\".format(words[w-1], t, pred))"
   ]
  },
  {
   "cell_type": "code",
   "execution_count": 15,
   "metadata": {},
   "outputs": [],
   "source": [
    "# save model\n",
    "from keras_contrib.utils import save_load_utils\n",
    "with open('../models/' + modelname + '.json', 'w') as f:\n",
    "    f.write(model.to_json())\n",
    "\n",
    "# save weights\n",
    "save_load_utils.save_all_weights(model, '../models/'+modelname+'.h5')"
   ]
  },
  {
   "cell_type": "markdown",
   "metadata": {},
   "source": [
    "## Complex questions"
   ]
  },
  {
   "cell_type": "code",
   "execution_count": 16,
   "metadata": {},
   "outputs": [
    {
     "name": "stdout",
     "output_type": "stream",
     "text": [
      "Training on 4498 samples testing on 500 samples\n"
     ]
    }
   ],
   "source": [
    "modelname = 'complex_questions'\n",
    "\n",
    "# split dataset into training and testing subsets\n",
    "test_size = 0.1\n",
    "from sklearn.model_selection import train_test_split\n",
    "# fix random seed\n",
    "X_train, X_test, y_train, y_test = train_test_split(X, question_types, test_size=test_size,\n",
    "                                                    stratify=question_types, random_state=103232)\n",
    "print(\"Training on %d samples testing on %d samples\" % (len(X_train), len(X_test)))"
   ]
  },
  {
   "cell_type": "code",
   "execution_count": 17,
   "metadata": {},
   "outputs": [
    {
     "name": "stdout",
     "output_type": "stream",
     "text": [
      "_________________________________________________________________\n",
      "Layer (type)                 Output Shape              Param #   \n",
      "=================================================================\n",
      "input_2 (InputLayer)         (None, 25)                0         \n",
      "_________________________________________________________________\n",
      "embedding_2 (Embedding)      (None, 25, 100)           577500    \n",
      "_________________________________________________________________\n",
      "bidirectional_2 (Bidirection (None, 100)               60400     \n",
      "_________________________________________________________________\n",
      "dense_2 (Dense)              (None, 1)                 101       \n",
      "=================================================================\n",
      "Total params: 638,001\n",
      "Trainable params: 60,501\n",
      "Non-trainable params: 577,500\n",
      "_________________________________________________________________\n"
     ]
    }
   ],
   "source": [
    "# predict question type\n",
    "from keras.models import Model, Input\n",
    "from keras.layers import LSTM, Embedding, Dense, TimeDistributed, Dropout, Bidirectional\n",
    "from keras_contrib.layers import CRF\n",
    "from keras.optimizers import Adam\n",
    "\n",
    "def build_model(model_settings):\n",
    "    # architecture\n",
    "    input = Input(shape=(model_settings['max_len'],))\n",
    "    model = Embedding(input_dim=model_settings['n_words']+1, output_dim=model_settings['emb_dim'],\n",
    "                      weights=[model_settings['embeddings']],\n",
    "                      input_length=model_settings['max_len'], mask_zero=True, trainable=False)(input)\n",
    "    model = Bidirectional(LSTM(units=50, return_sequences=False,\n",
    "                               recurrent_dropout=0.1))(model)  # variational biLSTM\n",
    "    out = Dense(1, kernel_initializer='normal', activation='sigmoid')(model)  # output\n",
    "    model = Model(input, out)\n",
    "    model.compile(optimizer=Adam(lr=0.0001), loss='binary_crossentropy', metrics=['accuracy'])\n",
    "    model.summary()\n",
    "    return model\n",
    "\n",
    "# load model settings\n",
    "import pickle as pkl\n",
    "with open('%s_%s.pkl'%(dataset_name, embeddings_choice), 'rb') as f:\n",
    "    model_settings = pkl.load(f)\n",
    "model = build_model(model_settings)"
   ]
  },
  {
   "cell_type": "code",
   "execution_count": 19,
   "metadata": {},
   "outputs": [
    {
     "name": "stdout",
     "output_type": "stream",
     "text": [
      "Train on 4048 samples, validate on 450 samples\n",
      "Epoch 1/50\n",
      "4048/4048 [==============================] - 4s 1ms/step - loss: 1.6619 - acc: 0.3646 - val_loss: 1.6327 - val_acc: 0.3733\n",
      "Epoch 2/50\n",
      "4048/4048 [==============================] - 4s 1ms/step - loss: 1.6484 - acc: 0.3646 - val_loss: 1.6204 - val_acc: 0.3733\n",
      "Epoch 3/50\n",
      "4048/4048 [==============================] - 4s 1ms/step - loss: 1.6372 - acc: 0.3646 - val_loss: 1.6073 - val_acc: 0.3733\n",
      "Epoch 4/50\n",
      "4048/4048 [==============================] - 4s 1ms/step - loss: 1.6257 - acc: 0.3646 - val_loss: 1.5941 - val_acc: 0.3733\n",
      "Epoch 5/50\n",
      "4048/4048 [==============================] - 4s 1ms/step - loss: 1.6114 - acc: 0.3646 - val_loss: 1.5835 - val_acc: 0.3733\n",
      "\n",
      "Epoch 00005: val_loss improved from inf to 1.58354, saving model to ../checkpoints/_complex_questions05-0.37.h5\n",
      "Epoch 6/50\n",
      "4048/4048 [==============================] - 4s 1ms/step - loss: 1.6035 - acc: 0.3646 - val_loss: 1.5766 - val_acc: 0.3733\n",
      "Epoch 00006: early stopping\n"
     ]
    }
   ],
   "source": [
    "# callbacks\n",
    "from keras.callbacks import ReduceLROnPlateau, EarlyStopping, TerminateOnNaN, ModelCheckpoint\n",
    "cb_redlr = ReduceLROnPlateau(monitor='val_acc', factor=0.5, patience=3, min_lr=0.0001, verbose=1)\n",
    "cb_early = EarlyStopping(monitor='val_acc', min_delta=0, patience=5, verbose=1)\n",
    "cb_chkpt = ModelCheckpoint('../checkpoints/_'+modelname+'{epoch:02d}-{val_acc:.2f}.h5',\n",
    "                           verbose=1, save_best_only=True, save_weights_only=True, period=5)\n",
    "\n",
    "callbacks_list=[cb_redlr, cb_early, cb_chkpt]\n",
    "\n",
    "# start training: weight the classes proportional\n",
    "log = model.fit(X_train, np.array(y_train), batch_size=32, epochs=50,\n",
    "                callbacks=callbacks_list,\n",
    "                validation_split=0.1, verbose=1, class_weight={0: 1., 1: 9.})"
   ]
  },
  {
   "cell_type": "code",
   "execution_count": 20,
   "metadata": {},
   "outputs": [
    {
     "name": "stdout",
     "output_type": "stream",
     "text": [
      "500/500 [==============================] - 1s 1ms/step\n",
      "F1-score: 19.6%\n",
      "              precision    recall  f1-score   support\n",
      "\n",
      "           0       0.00      0.00      0.00       317\n",
      "           1       0.37      1.00      0.54       183\n",
      "\n",
      "    accuracy                           0.37       500\n",
      "   macro avg       0.18      0.50      0.27       500\n",
      "weighted avg       0.13      0.37      0.20       500\n",
      "\n"
     ]
    },
    {
     "name": "stderr",
     "output_type": "stream",
     "text": [
      "/mpqa_new/miniconda3/envs/kbqa/lib/python3.6/site-packages/sklearn/metrics/_classification.py:1248: UndefinedMetricWarning: Precision and F-score are ill-defined and being set to 0.0 in labels with no predicted samples. Use `zero_division` parameter to control this behavior.\n",
      "  _warn_prf(average, modifier, msg_start, len(result))\n",
      "/mpqa_new/miniconda3/envs/kbqa/lib/python3.6/site-packages/sklearn/metrics/_classification.py:1248: UndefinedMetricWarning: Precision and F-score are ill-defined and being set to 0.0 in labels with no predicted samples. Use `zero_division` parameter to control this behavior.\n",
      "  _warn_prf(average, modifier, msg_start, len(result))\n",
      "/mpqa_new/miniconda3/envs/kbqa/lib/python3.6/site-packages/sklearn/metrics/_classification.py:1248: UndefinedMetricWarning: Precision and F-score are ill-defined and being set to 0.0 in labels with no predicted samples. Use `zero_division` parameter to control this behavior.\n",
      "  _warn_prf(average, modifier, msg_start, len(result))\n"
     ]
    }
   ],
   "source": [
    "# evaluate\n",
    "# np.set_printoptions(precision=4, suppress=True)\n",
    "# eval_results = model.evaluate(X_test, y_test, verbose=0) \n",
    "# print(\"\\nLoss, accuracy on test data: \")\n",
    "# print(\"%0.4f %0.2f%%\" % (eval_results[0], \\\n",
    "#   eval_results[1]*100))\n",
    "\n",
    "# evaluate model on the test set\n",
    "test_pred = model.predict(X_test, verbose=1)\n",
    "y_pred = [1 if pred > 0.5 else 0 for pred in test_pred]\n",
    "from sklearn.metrics import precision_score, recall_score, f1_score, classification_report\n",
    "print(\"F1-score: {:.1%}\".format(f1_score(y_test, y_pred, average='weighted')))\n",
    "print(classification_report(y_test, y_pred))"
   ]
  },
  {
   "cell_type": "code",
   "execution_count": 21,
   "metadata": {},
   "outputs": [
    {
     "name": "stdout",
     "output_type": "stream",
     "text": [
      "who is the authority of maine school of science and mathematics\n",
      "0.85\n"
     ]
    }
   ],
   "source": [
    "# show sample test prediction\n",
    "i = 30\n",
    "p = model.predict(np.array([X_test[i]]))\n",
    "q = \" \".join([words[w-1] for w in X_test[i] if w != 0])\n",
    "print(q)\n",
    "print(\"%.2f\"%p[0][0])"
   ]
  },
  {
   "cell_type": "code",
   "execution_count": null,
   "metadata": {},
   "outputs": [],
   "source": []
  }
 ],
 "metadata": {
  "kernelspec": {
   "display_name": "Python 3",
   "language": "python",
   "name": "python3"
  },
  "language_info": {
   "codemirror_mode": {
    "name": "ipython",
    "version": 3
   },
   "file_extension": ".py",
   "mimetype": "text/x-python",
   "name": "python",
   "nbconvert_exporter": "python",
   "pygments_lexer": "ipython3",
   "version": "3.6.13"
  }
 },
 "nbformat": 4,
 "nbformat_minor": 2
}
