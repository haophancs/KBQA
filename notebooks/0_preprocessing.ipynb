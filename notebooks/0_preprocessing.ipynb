{
 "cells": [
  {
   "cell_type": "code",
   "execution_count": 2,
   "metadata": {},
   "outputs": [],
   "source": [
    "import os\n",
    "os.chdir('/mpqa/KBQA/src')\n",
    "from setup import IndexSearch, Mongo_Connector\n",
    "\n",
    "e_index = IndexSearch('dbpedia201604e')\n",
    "p_index = IndexSearch('dbpedia201604p')\n",
    "\n",
    "import json\n",
    "from collections import Counter"
   ]
  },
  {
   "cell_type": "markdown",
   "metadata": {},
   "source": [
    "### LC-QUAD"
   ]
  },
  {
   "cell_type": "code",
   "execution_count": null,
   "outputs": [],
   "source": [
    "mongo = Mongo_Connector('kbqa', 'lcquad')\n",
    "os.chdir(\"/mpqa/KBQA/data/lcquad\")\n",
    "lcquad_path = \"lcquad_answers.json\"\n",
    "mongo.load_json(lcquad_path)\n",
    "mongo.count_all_docs()\n",
    "doc = mongo.get_sample(limit=1).next()\n",
    "doc"
   ],
   "metadata": {
    "collapsed": false,
    "pycharm": {
     "name": "#%%\n"
    }
   }
  },
  {
   "cell_type": "code",
   "execution_count": 20,
   "metadata": {},
   "outputs": [
    {
     "name": "stdout",
     "output_type": "stream",
     "text": [
      "True\n"
     ]
    }
   ],
   "source": [
    "# reproduce the original lcquad test/train splits\n",
    "limit = None\n",
    "lcquad_train_path = 'train-data.json'  # wget https://raw.githubusercontent.com/AskNowQA/LC-QuAD/data/train-data.json\n",
    "\n",
    "X_train = []\n",
    "   \n",
    "with open(lcquad_train_path, \"r\") as json_file:\n",
    "    docs = json.load(json_file)\n",
    "    for doc in docs:\n",
    "        X_train.append(str(int(doc['_id']) + 1))\n",
    "    print(\"%d docs loaded\"%len(docs))\n",
    "\n",
    "print(\"%d train samples\" % (len(X_train)))\n",
    "# annotate\n",
    "samples = mongo.get_sample(train=False, limit=limit)\n",
    "train_count = 0\n",
    "for doc in samples:\n",
    "    if doc['SerialNumber'] in X_train:\n",
    "        doc['train'] = True\n",
    "        train_count += 1\n",
    "    else:\n",
    "        doc['train'] = False\n",
    "    mongo.col.update_one({'_id': doc['_id']}, {\"$set\": doc}, upsert=True)\n",
    "print(\"Train: {}, Test: {}\".format(train_count, samples.count() - train_count))\n",
    "sample = mongo.get_sample(limit=1)[100]\n",
    "print(sample['train'])"
   ]
  },
  {
   "cell_type": "code",
   "execution_count": 8,
   "metadata": {},
   "outputs": [
    {
     "name": "stdout",
     "output_type": "stream",
     "text": [
      "1000 documents annotated with entities and predicates URIs across hops\n",
      "[['http://dbpedia.org/resource/Gestapo'], ['http://dbpedia.org/ontology/parentOrganisation']]\n",
      "[[], ['http://dbpedia.org/ontology/leader']]\n",
      "['http://dbpedia.org/resource/Gestapo']\n",
      "['http://dbpedia.org/ontology/leader', 'http://dbpedia.org/ontology/parentOrganisation']\n"
     ]
    }
   ],
   "source": [
    "# annotate GS entities and predicates across hops\n",
    "# parse entities and predicates annotations across hops from the SQL query and update MongoDB collection\n",
    "verbose = False\n",
    "limit = None\n",
    "\n",
    "samples = mongo.get_sample(train=False, limit=limit)\n",
    "count = 0\n",
    "for doc in samples:\n",
    "    # fix URI !\n",
    "    sparql_query = doc['sparql_query']\n",
    "    # parse the SPARQL query into spo triples\n",
    "    tripples = sparql_query[sparql_query.find(\"{\")+1:sparql_query.find(\"}\")].split('. ')\n",
    "\n",
    "    # collect entities and predicates separately for 2 hops\n",
    "    correct_intermediate_predicates = []\n",
    "    correct_intermediate_entities = []\n",
    "    correct_question_predicates = []\n",
    "    correct_question_entities = []\n",
    "\n",
    "    for tripple in tripples:\n",
    "        if tripple:\n",
    "            entities = []\n",
    "            s, p, o = tripple.strip().split()\n",
    "            if s[0] != '?':\n",
    "                entities.append(s[1:-1])\n",
    "            if o[0] != '?':\n",
    "                entities.append(o[1:-1])\n",
    "            p = p[1:-1]\n",
    "\n",
    "            if '?uri' not in tripple:\n",
    "                correct_intermediate_predicates.append(p)\n",
    "                correct_intermediate_entities.extend(entities)\n",
    "            else:\n",
    "                correct_question_predicates.append(p)\n",
    "                correct_question_entities.extend(entities)\n",
    "    if verbose:\n",
    "        print('\\n')\n",
    "        print(sparql_query)\n",
    "        print(correct_intermediate_entities, correct_intermediate_predicates)\n",
    "        print(correct_question_entities, correct_question_predicates)\n",
    "\n",
    "    # update question annotations save in MongoDB\n",
    "    if not correct_intermediate_predicates:\n",
    "        # 1 hop\n",
    "        doc['1hop'] = [correct_question_entities, correct_question_predicates]\n",
    "        doc['2hop'] = [[], []]\n",
    "    else:\n",
    "        # 2 hops\n",
    "        doc['1hop'] = [correct_intermediate_entities, correct_intermediate_predicates]\n",
    "        doc['2hop'] = [correct_question_entities, correct_question_predicates]\n",
    "\n",
    "    doc['entity_uris'] = list(set(correct_question_entities+correct_intermediate_entities))\n",
    "    # store all predicate URIs for subgraph extraction\n",
    "    doc['predicate_uris'] = list(set(correct_question_predicates+correct_intermediate_predicates))\n",
    "\n",
    "    mongo.col.update_one({'_id': doc['_id']}, {\"$set\": doc}, upsert=True)\n",
    "    count +=1\n",
    "\n",
    "print(\"%d documents annotated with entities and predicates URIs across hops\"%count)\n",
    "\n",
    "# show sample annotation\n",
    "sample = mongo.get_by_id(\"3\")\n",
    "print(sample['1hop'])\n",
    "print(sample['2hop'])\n",
    "print(sample['entity_uris'])\n",
    "print(sample['predicate_uris'])"
   ]
  },
  {
   "cell_type": "code",
   "execution_count": 9,
   "metadata": {},
   "outputs": [
    {
     "name": "stdout",
     "output_type": "stream",
     "text": [
      "1000 documents annotated with ids\n",
      "1000 documents annotated with ids\n",
      "[[20271581, 24029645], [1076]]\n",
      "[[], []]\n"
     ]
    }
   ],
   "source": [
    "# store HDT IDs across hops\n",
    "limit = None\n",
    "\n",
    "def annotate_hop_ids(hop):\n",
    "    samples = mongo.get_all(limit=limit)\n",
    "    count = 0\n",
    "    for doc in samples:\n",
    "        e, p = doc[hop]\n",
    "        e_ids = []\n",
    "        for uri in e:\n",
    "            try:\n",
    "                e_ids.append(e_index.look_up_by_uri(uri)[0]['_source']['id'])\n",
    "            except:\n",
    "                uri = str(uri).encode('utf-8')\n",
    "                print(\"{} not found in the entity catalog\".format(uri))\n",
    "\n",
    "        p_ids = []\n",
    "        for uri in p:\n",
    "            try:\n",
    "                p_ids.append(p_index.look_up_by_uri(uri)[0]['_source']['id'])\n",
    "            except:\n",
    "                uri = str(uri).encode('utf-8')\n",
    "                print(\"{} not found in the predicate catalog\".format(uri))\n",
    "        \n",
    "        doc[hop+'_ids'] = e_ids, p_ids\n",
    "            \n",
    "        # update doc in MongoDB\n",
    "        mongo.col.update_one({'_id': doc['_id']}, {\"$set\": doc}, upsert=True)\n",
    "        count += 1\n",
    "        \n",
    "    print(\"%d documents annotated with ids\"%count)\n",
    "\n",
    "\n",
    "annotate_hop_ids('1hop')\n",
    "annotate_hop_ids('2hop')\n",
    "\n",
    "# show sample annotations\n",
    "sample = mongo.get_sample(limit=1)[0]\n",
    "print(sample['1hop_ids'])\n",
    "print(sample['2hop_ids'])"
   ]
  },
  {
   "cell_type": "code",
   "execution_count": 10,
   "metadata": {},
   "outputs": [
    {
     "name": "stdout",
     "output_type": "stream",
     "text": [
      "1000 documents annotated with ids\n",
      "[24029645, 20271581]\n",
      "[1076]\n"
     ]
    }
   ],
   "source": [
    "# store HDT IDs for questions and answers URIs\n",
    "loaded = False\n",
    "limit = None\n",
    "\n",
    "if not loaded:\n",
    "    samples = mongo.get_sample(train=False, limit=limit)\n",
    "    count = 0\n",
    "    for doc in samples:\n",
    "        # get all correct entity and predicate from the GS annotations\n",
    "        e_ids = []\n",
    "        for uri in doc['entity_uris']:\n",
    "            try:\n",
    "                e_ids.append(e_index.look_up_by_uri(uri)[0]['_source']['id'])\n",
    "            except:\n",
    "                print(\"%s not found in the entity catalog\"%uri)\n",
    "        doc['entity_ids'] = e_ids\n",
    "\n",
    "        p_ids = []\n",
    "        for uri in doc['predicate_uris']:\n",
    "            try:\n",
    "                p_ids.append(p_index.look_up_by_uri(uri)[0]['_source']['id'])\n",
    "            except:\n",
    "                print(\"%s not found in the predicate catalog\"%uri)\n",
    "        \n",
    "        doc['predicate_ids'] = p_ids\n",
    "        \n",
    "        if 'answers' in doc:\n",
    "            a_ids = []\n",
    "            for uri in doc['answers']:\n",
    "                try:\n",
    "                    a_ids.append(e_index.look_up_by_uri(uri)[0]['_source']['id'])\n",
    "                except:\n",
    "                    print(\"%s not found in the entity catalog\"%uri)\n",
    "\n",
    "            doc['answers_ids'] = a_ids\n",
    "            \n",
    "        # update doc in MongoDB\n",
    "        mongo.col.update_one({'_id': doc['_id']}, {\"$set\": doc}, upsert=True)\n",
    "        count += 1\n",
    "        \n",
    "    print(\"%d documents annotated with ids\"%count)\n",
    "\n",
    "# show sample annotations\n",
    "sample = mongo.get_sample(limit=1)[0]\n",
    "print(sample['entity_ids'])\n",
    "print(sample['predicate_ids'])\n",
    "if 'answers' in sample:\n",
    "    print(sample['answers_ids'])"
   ]
  },
  {
   "cell_type": "code",
   "execution_count": 21,
   "metadata": {},
   "outputs": [
    {
     "name": "stdout",
     "output_type": "stream",
     "text": [
      "1982 complex questions (with more than one variable)\n",
      "1599 complex questions (with more than one variable)\n",
      "383 complex questions (with more than one variable)\n"
     ]
    },
    {
     "name": "stderr",
     "output_type": "stream",
     "text": [
      "/home/zola/anaconda3/envs/tf36/lib/python3.6/site-packages/ipykernel_launcher.py:4: DeprecationWarning: count is deprecated. Use Collection.count_documents instead.\n",
      "  after removing the cwd from sys.path.\n",
      "/home/zola/anaconda3/envs/tf36/lib/python3.6/site-packages/ipykernel_launcher.py:5: DeprecationWarning: count is deprecated. Use Collection.count_documents instead.\n",
      "  \"\"\"\n",
      "/home/zola/anaconda3/envs/tf36/lib/python3.6/site-packages/ipykernel_launcher.py:6: DeprecationWarning: count is deprecated. Use Collection.count_documents instead.\n",
      "  \n"
     ]
    }
   ],
   "source": [
    "# dataset stats\n",
    "predicate_ids\n",
    "# number of documents with 2 hops\n",
    "print(\"%d complex questions (with more than one variable)\"%mongo.col.find({\"2hop\": { \"$ne\": [[], []] }}).count())\n",
    "print(\"%d complex questions (with more than one variable)\"%mongo.col.find({\"train\": True, \"2hop\": { \"$ne\": [[], []] }}).count())\n",
    "print(\"%d complex questions (with more than one variable)\"%mongo.col.find({\"train\": False, \"2hop\": { \"$ne\": [[], []] }}).count())"
   ]
  },
  {
   "cell_type": "code",
   "execution_count": 6,
   "metadata": {},
   "outputs": [
    {
     "name": "stdout",
     "output_type": "stream",
     "text": [
      "3131\n"
     ]
    }
   ],
   "source": [
    "# number of documents with >1 triple\n",
    "limit = None\n",
    "samples = mongo.get_sample(train=True, limit=limit)\n",
    "counter = 0\n",
    "for doc in samples:\n",
    "    n_components = len(doc['predicate_ids']) + len(doc['entity_ids'])\n",
    "    if n_components > 2:\n",
    "        counter += 1\n",
    "print(counter)"
   ]
  },
  {
   "cell_type": "code",
   "execution_count": 24,
   "metadata": {},
   "outputs": [
    {
     "name": "stdout",
     "output_type": "stream",
     "text": [
      "Min:3 Avg:11 Max:22\n"
     ]
    }
   ],
   "source": [
    "# question lengths distribution\n",
    "limit = None\n",
    "from keras.preprocessing.text import text_to_word_sequence\n",
    "import numpy as np\n",
    "samples = mongo.get_sample(train=False, limit=limit)\n",
    "n_words_distr = []\n",
    "for doc in samples:\n",
    "    words = text_to_word_sequence(doc['question'])\n",
    "    # add the sample to the dataset \n",
    "    n_words_distr.append(len(words))\n",
    "\n",
    "# show basic stats\n",
    "min_len = min(n_words_distr)\n",
    "mean_len = np.mean(n_words_distr)\n",
    "max_len = max(n_words_distr)\n",
    "print(\"Min:%d Avg:%d Max:%d\"%(min_len, mean_len, max_len))"
   ]
  },
  {
   "cell_type": "code",
   "execution_count": 25,
   "metadata": {},
   "outputs": [
    {
     "name": "stdout",
     "output_type": "stream",
     "text": [
      "Min:2 Avg:3 Max:6\n"
     ]
    }
   ],
   "source": [
    "# question number of question URIs distribution (predicate + entity)\n",
    "from keras.preprocessing.text import text_to_word_sequence\n",
    "import numpy as np\n",
    "samples = mongo.get_sample(train=False, limit=limit)\n",
    "n_distr = []\n",
    "for doc in samples:\n",
    "    n_distr.append(len(doc['entity_uris']+doc['predicate_uris']))\n",
    "\n",
    "# show basic stats\n",
    "min_len = min(n_distr)\n",
    "mean_len = np.mean(n_distr)\n",
    "max_len = max(n_distr)\n",
    "print(\"Min:%d Avg:%d Max:%d\"%(min_len, mean_len, max_len))"
   ]
  },
  {
   "cell_type": "code",
   "execution_count": 14,
   "metadata": {},
   "outputs": [
    {
     "name": "stdout",
     "output_type": "stream",
     "text": [
      "Min:1 Median:1 Max:8195\n"
     ]
    }
   ],
   "source": [
    "# number of answers per question\n",
    "import numpy as np\n",
    "\n",
    "samples = mongo.get_sample(train=False, limit=None)\n",
    "n_distr = []\n",
    "for doc in samples:\n",
    "    n_distr.append(len(doc['answers']) if 'answers' in doc else 1)\n",
    "\n",
    "# show basic stats\n",
    "min_len = min(n_distr)\n",
    "mean_len = np.median(n_distr)\n",
    "max_len = max(n_distr)\n",
    "print(\"Min:%d Median:%d Max:%d\"%(min_len, mean_len, max_len))\n",
    "p_distribution = Counter(n_distr)"
   ]
  },
  {
   "cell_type": "code",
   "execution_count": 10,
   "metadata": {},
   "outputs": [
    {
     "name": "stdout",
     "output_type": "stream",
     "text": [
      "[('http://dbpedia.org/ontology/religion', 64), ('http://dbpedia.org/ontology/award', 64), ('http://dbpedia.org/ontology/birthPlace', 52), ('http://dbpedia.org/property/awards', 50), ('http://dbpedia.org/ontology/deathPlace', 44), ('http://dbpedia.org/ontology/team', 44), ('http://dbpedia.org/ontology/country', 42), ('http://dbpedia.org/ontology/sport', 42), ('http://dbpedia.org/ontology/almaMater', 41), ('http://dbpedia.org/property/owner', 41), ('http://dbpedia.org/ontology/manufacturer', 41), ('http://dbpedia.org/property/placeOfBirth', 40), ('http://dbpedia.org/ontology/location', 39), ('http://dbpedia.org/ontology/occupation', 38), ('http://dbpedia.org/property/writer', 35), ('http://dbpedia.org/property/distributor', 35), ('http://dbpedia.org/property/birthPlace', 34), ('http://dbpedia.org/ontology/author', 34), ('http://dbpedia.org/ontology/knownFor', 34), ('http://dbpedia.org/ontology/producer', 33), ('http://dbpedia.org/ontology/formerTeam', 33), ('http://dbpedia.org/property/headquarters', 33), ('http://dbpedia.org/property/almaMater', 32), ('http://dbpedia.org/property/mascot', 31), ('http://dbpedia.org/property/successor', 31), ('http://dbpedia.org/property/starring', 31), ('http://dbpedia.org/property/label', 30), ('http://dbpedia.org/ontology/developer', 29), ('http://dbpedia.org/property/themeMusicComposer', 29), ('http://dbpedia.org/property/children', 29)]\n",
      "592 predicates\n"
     ]
    }
   ],
   "source": [
    "# number of unique predicates and distribution \n",
    "limit = None\n",
    "\n",
    "# training set\n",
    "samples = mongo.get_sample(train=True, limit=limit)\n",
    "predicates = []\n",
    "for doc in samples:\n",
    "    predicates.extend(doc['predicate_uris'])\n",
    "\n",
    "# test set\n",
    "# samples = mongo.get_sample(train=False, limit=limit)\n",
    "# for doc in samples:\n",
    "#     predicates.extend(doc['predicate_uris'])    \n",
    "\n",
    "\n",
    "p_distribution = Counter([p for p in predicates if p != 'http://www.w3.org/1999/02/22-rdf-syntax-ns#type'])\n",
    "# most common\n",
    "print (p_distribution.most_common(30))\n",
    "\n",
    "predicates = list(set(predicates))\n",
    "print(\"%d predicates\"%len(predicates))"
   ]
  },
  {
   "cell_type": "markdown",
   "metadata": {},
   "source": [
    "* 5 predicates not seen during training\n",
    "* most frequent predicate: type ('http://www.w3.org/1999/02/22-rdf-syntax-ns#type', 1568)"
   ]
  },
  {
   "cell_type": "code",
   "execution_count": 11,
   "metadata": {},
   "outputs": [
    {
     "data": {
      "image/png": "[encoded data removed]",
      "text/plain": [
       "<Figure size 432x288 with 1 Axes>"
      ]
     },
     "metadata": {},
     "output_type": "display_data"
    }
   ],
   "source": [
    "import matplotlib.pyplot as plt\n",
    "\n",
    "def plot_distribution(counter):\n",
    "    '''\n",
    "    Plot the distribution stored in the counter object\n",
    "    '''\n",
    "    # prepare data\n",
    "    import numpy as np\n",
    "    labels, values = zip(*counter.items())\n",
    "    indexes = np.arange(len(labels))\n",
    "\n",
    "    # generate a plot\n",
    "    import seaborn as sns\n",
    "    sns.set(color_codes=True)\n",
    "    sns.distplot(values)\n",
    "    plt.show()\n",
    "\n",
    "plot_distribution(p_distribution)"
   ]
  },
  {
   "cell_type": "code",
   "execution_count": 23,
   "metadata": {},
   "outputs": [],
   "source": [
    "# write questions into file to generate embeddings\n",
    "samples = mongo.get_sample(train=True, limit=limit)\n",
    "os.chdir(\"/home/zola/Projects/temp/KBQA/data/lcquad\")\n",
    "with open('questions.txt', 'w') as fout:\n",
    "    for doc in samples:\n",
    "        fout.write(doc['question']+'\\n')"
   ]
  },
  {
   "cell_type": "code",
   "execution_count": 4,
   "metadata": {},
   "outputs": [
    {
     "name": "stdout",
     "output_type": "stream",
     "text": [
      "999 documents annotated with entities and predicates URIs across hops\n",
      "SELECT DISTINCT ?uri WHERE {?uri <http://dbpedia.org/property/music> <http://dbpedia.org/resource/Akira_Ifukube>  . ?uri <http://www.w3.org/1999/02/22-rdf-syntax-ns#type> <http://dbpedia.org/ontology/Film>}\n",
      "['http://dbpedia.org/ontology/Film']\n",
      "[2979987]\n"
     ]
    }
   ],
   "source": [
    "# annotate types separately\n",
    "loaded = True\n",
    "\n",
    "verbose = False\n",
    "limit = None\n",
    "\n",
    "if not loaded:\n",
    "    samples = mongo.get_sample(train=False, limit=limit)\n",
    "    count = 0\n",
    "    for doc in samples:\n",
    "        # fix URI !\n",
    "        sparql_query = doc['sparql_query']\n",
    "        # parse the SPARQL query into spo triples\n",
    "        tripples = sparql_query[sparql_query.find(\"{\")+1:sparql_query.find(\"}\")].split('. ')\n",
    "\n",
    "        # collect entities and predicates separately for 2 hops\n",
    "        classes = []\n",
    "        cids = []\n",
    "        for tripple in tripples:\n",
    "            if tripple:\n",
    "                entities = []\n",
    "                s, p, o = tripple.strip().split()\n",
    "#                     \n",
    "                p = p[1:-1]\n",
    "                if p == 'http://www.w3.org/1999/02/22-rdf-syntax-ns#type':\n",
    "                    if o[0] != '?':\n",
    "                        uri = o[1:-1]\n",
    "                        classes.append(uri)\n",
    "                        try:\n",
    "                            cids.append(e_index.look_up_by_uri(uri)[0]['_source']['id'])\n",
    "                        except:\n",
    "                            print(\"%s not found in the entity catalog\"%uri)\n",
    "               \n",
    "        if classes and verbose:\n",
    "            print(sparql_query)\n",
    "            print(classes)\n",
    "            print(cids)\n",
    "       \n",
    "        doc['classes'] = classes\n",
    "        doc['classes_ids'] = cids\n",
    "\n",
    "        mongo.col.update_one({'_id': doc['_id']}, {\"$set\": doc}, upsert=True)\n",
    "        count +=1\n",
    "\n",
    "    print(\"%d documents annotated with entities and predicates URIs across hops\"%count)\n",
    "\n",
    "# show sample annotation\n",
    "sample = mongo.get_by_id(\"2652\")\n",
    "print(sample['sparql_query'])\n",
    "print(sample['classes'])\n",
    "print(sample['classes_ids'])"
   ]
  },
  {
   "cell_type": "markdown",
   "metadata": {},
   "source": [
    "## QALD"
   ]
  },
  {
   "cell_type": "code",
   "execution_count": 57,
   "metadata": {},
   "outputs": [
    {
     "name": "stdout",
     "output_type": "stream",
     "text": [
      "215 docs\n",
      "{'SerialNumber': '0',\n",
      " '_id': ObjectId('5c5dddac06669524ac939efa'),\n",
      " 'answers': ['1863-07-03'],\n",
      " 'question': 'When was the Battle of Gettysburg?',\n",
      " 'sparql_query': 'PREFIX dbo: <http://dbpedia.org/ontology/> PREFIX res: '\n",
      "                 '<http://dbpedia.org/resource/> SELECT DISTINCT ?date  WHERE '\n",
      "                 '{         res:Battle_of_Gettysburg dbo:date ?date . }',\n",
      " 'train': False}\n",
      "PREFIX dbo: <http://dbpedia.org/ontology/> PREFIX res: <http://dbpedia.org/resource/> SELECT DISTINCT ?date  WHERE {         res:Battle_of_Gettysburg dbo:date ?date . }\n"
     ]
    }
   ],
   "source": [
    "mongo = Mongo_Connector('kbqa', 'qald')\n",
    "\n",
    "ENDPOINT = 'http://wikidata.communidata.at/dbpedia/query'\n",
    "\n",
    "# load LC-QUAD dataset\n",
    "loaded = True\n",
    "\n",
    "if not loaded:\n",
    "    import os\n",
    "    os.chdir(\"/home/zola/Projects/temp/KBQA/data/qald\")\n",
    "\n",
    "    import json\n",
    "    import pprint\n",
    "    data_path = \"qald-7-train-multilingual.json\"\n",
    "    with open(data_path) as f:\n",
    "        dataset = json.load(f)\n",
    "        for q in dataset['questions']:\n",
    "            doc = {}\n",
    "            doc['SerialNumber'] = q['id']\n",
    "            doc['question'] = q['question'][0]['string']\n",
    "            doc['sparql_query'] = q['query']['sparql'].replace('\\n', ' ')\n",
    "            response = requests.get(ENDPOINT, params={'query': doc['sparql_query'], 'output': 'json'}).json()\n",
    "            if 'results' in response:\n",
    "                results = response['results']['bindings']\n",
    "                doc['answers'] = [v['value'] for r in results for v in r.values()]\n",
    "            elif 'boolean' in response:\n",
    "                doc['bool_answer'] = response['boolean']\n",
    "            doc['train'] = False\n",
    "            mongo.col.insert_one(doc)\n",
    "        \n",
    "mongo.count_all_docs()\n",
    "doc = mongo.get_sample(train=False, limit=1)[0]\n",
    "pprint.pprint(doc)\n",
    "print(doc['sparql_query'])"
   ]
  },
  {
   "cell_type": "code",
   "execution_count": 59,
   "metadata": {},
   "outputs": [
    {
     "name": "stdout",
     "output_type": "stream",
     "text": [
      "PREFIX dbo: <http://dbpedia.org/ontology/> PREFIX res: <http://dbpedia.org/resource/> SELECT DISTINCT ?date  WHERE {         res:Battle_of_Gettysburg dbo:date ?date . }\n",
      "['res:Battle_of_Gettysburg']\n",
      "['dbo:date']\n"
     ]
    }
   ],
   "source": [
    "# parse the SPARQL query into spo triples\n",
    "cursor = mongo.get_sample(train=False, limit=1)\n",
    "with cursor:\n",
    "    for doc in cursor:\n",
    "        sparql_query = doc['sparql_query']\n",
    "        print(sparql_query)\n",
    "        tripples = sparql_query[sparql_query.find(\"{\")+1:sparql_query.find(\"}\")].split('. ')\n",
    "\n",
    "        # collect entities and predicates\n",
    "        for tripple in tripples:\n",
    "            if tripple:\n",
    "                entities, predicates = [], []\n",
    "                clause = tripple.strip().split()\n",
    "                if clause[0] != 'filter':\n",
    "                    s, p, o = clause\n",
    "                    if s[0] != '?':\n",
    "                        entities.append(s)\n",
    "                    if o[0] != '?':\n",
    "                        entities.append(o)\n",
    "                    predicates.append(p)\n",
    "                print(entities)\n",
    "                print(predicates)"
   ]
  },
  {
   "cell_type": "code",
   "execution_count": null,
   "metadata": {},
   "outputs": [],
   "source": []
  }
 ],
 "metadata": {
  "kernelspec": {
   "display_name": "tf36",
   "language": "python",
   "name": "tf36"
  },
  "language_info": {
   "codemirror_mode": {
    "name": "ipython",
    "version": 3
   },
   "file_extension": ".py",
   "mimetype": "text/x-python",
   "name": "python",
   "nbconvert_exporter": "python",
   "pygments_lexer": "ipython3",
   "version": "3.6.7"
  }
 },
 "nbformat": 4,
 "nbformat_minor": 2
}