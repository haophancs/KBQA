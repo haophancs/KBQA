{
 "cells": [
  {
   "cell_type": "code",
   "execution_count": 1,
   "metadata": {},
   "outputs": [],
   "source": [
    "import os\n",
    "os.chdir('/mpqa_new/KBQA/src')\n",
    "from setup import IndexSearch, Mongo_Connector\n",
    "\n",
    "e_index = IndexSearch('dbpedia201604e')\n",
    "p_index = IndexSearch('dbpedia201604p')\n",
    "\n",
    "import json\n",
    "from collections import Counter"
   ]
  },
  {
   "cell_type": "markdown",
   "metadata": {},
   "source": [
    "### LC-QUAD"
   ]
  },
  {
   "cell_type": "code",
   "execution_count": 2,
   "metadata": {},
   "outputs": [
    {
     "name": "stdout",
     "output_type": "stream",
     "text": [
      "Inserting 4998 new docs\n",
      "4998 docs\n"
     ]
    },
    {
     "data": {
      "text/plain": [
       "{'_id': ObjectId('61125659fe3a62e9bbd222bf'),\n",
       " 'sparql_id': '301',\n",
       " 'question': 'Which comic characters are painted by Bill Finger?',\n",
       " 'SerialNumber': '1',\n",
       " 'sparql_query': 'SELECT DISTINCT ?uri WHERE {?uri <http://dbpedia.org/ontology/creator> <http://dbpedia.org/resource/Bill_Finger>  . ?uri <http://www.w3.org/1999/02/22-rdf-syntax-ns#type> <http://dbpedia.org/ontology/ComicsCharacter>}',\n",
       " 'checked': 'true',\n",
       " 'entity mapping': [{'label': 'Bill Finger',\n",
       "   'matchedBy': 'spotlight',\n",
       "   'uri': 'http://dbpedia.org/resource/Bill_Finger',\n",
       "   'seq': '38,49'}],\n",
       " 'id': 'f0a9f1ca14764095ae089b152e0e7f12',\n",
       " 'predicate mapping': [{'label': 'painted by',\n",
       "   'uri': 'http://dbpedia.org/ontology/creator',\n",
       "   'seq': '27,37',\n",
       "   'mappedBy': 'manual corrections'},\n",
       "  {'label': 'comic characters',\n",
       "   'uri': 'http://dbpedia.org/ontology/ComicsCharacter',\n",
       "   'seq': '6,22',\n",
       "   'mappedBy': 'manual corrections'}],\n",
       " 'answers': ['http://dbpedia.org/resource/Batman',\n",
       "  'http://dbpedia.org/resource/Alfred_Pennyworth',\n",
       "  'http://dbpedia.org/resource/Apache_Chief',\n",
       "  'http://dbpedia.org/resource/James_Gordon_(comics)',\n",
       "  'http://dbpedia.org/resource/Hugo_Strange',\n",
       "  'http://dbpedia.org/resource/Wildcat_(comics)',\n",
       "  'http://dbpedia.org/resource/Bat-Mite',\n",
       "  'http://dbpedia.org/resource/Vicki_Vale',\n",
       "  'http://dbpedia.org/resource/Squire_(comics)',\n",
       "  'http://dbpedia.org/resource/Crime_Doctor_(comics)',\n",
       "  'http://dbpedia.org/resource/Knight_(comics)',\n",
       "  'http://dbpedia.org/resource/Signalman_(comics)',\n",
       "  'http://dbpedia.org/resource/Lana_Lang',\n",
       "  'http://dbpedia.org/resource/Penguin_(comics)',\n",
       "  'http://dbpedia.org/resource/Riddler',\n",
       "  'http://dbpedia.org/resource/Scarecrow_(DC_Comics)',\n",
       "  'http://dbpedia.org/resource/Dick_Grayson',\n",
       "  'http://dbpedia.org/resource/Lori_Lemaris',\n",
       "  'http://dbpedia.org/resource/Two-Face',\n",
       "  'http://dbpedia.org/resource/Clayface',\n",
       "  'http://dbpedia.org/resource/Super-Sons',\n",
       "  'http://dbpedia.org/resource/Mad_Hatter_(comics)',\n",
       "  'http://dbpedia.org/resource/Firefly_(DC_Comics)',\n",
       "  'http://dbpedia.org/resource/Killer_Moth',\n",
       "  'http://dbpedia.org/resource/Catman_(comics)',\n",
       "  'http://dbpedia.org/resource/Doiby_Dickles',\n",
       "  'http://dbpedia.org/resource/Martha_Wayne',\n",
       "  'http://dbpedia.org/resource/Ace_the_Bat-Hound',\n",
       "  'http://dbpedia.org/resource/Calendar_Man',\n",
       "  'http://dbpedia.org/resource/Alan_Scott',\n",
       "  'http://dbpedia.org/resource/Tony_Zucco',\n",
       "  'http://dbpedia.org/resource/Isbisa',\n",
       "  'http://dbpedia.org/resource/Batman_(Dark_Knight_Universe)',\n",
       "  'http://dbpedia.org/resource/Tiger_Shark_(DC_Comics)',\n",
       "  'http://dbpedia.org/resource/Joker_(comics)',\n",
       "  'http://dbpedia.org/resource/Thomas_Wayne',\n",
       "  'http://dbpedia.org/resource/Robin_(Earth-Two)',\n",
       "  'http://dbpedia.org/resource/Lew_Moxon',\n",
       "  'http://dbpedia.org/resource/Batman_(Terry_McGinnis)',\n",
       "  'http://dbpedia.org/resource/Joe_Chill',\n",
       "  'http://dbpedia.org/resource/Professor_Milo',\n",
       "  'http://dbpedia.org/resource/Kite_Man',\n",
       "  'http://dbpedia.org/resource/Zebra-Man',\n",
       "  'http://dbpedia.org/resource/Bette_Kane',\n",
       "  'http://dbpedia.org/resource/Batman_(Earth-Two)',\n",
       "  'http://dbpedia.org/resource/Sal_Maroni'],\n",
       " 'question_type': 'SELECT'}"
      ]
     },
     "execution_count": 2,
     "metadata": {},
     "output_type": "execute_result"
    }
   ],
   "source": [
    "mongo = Mongo_Connector('kbqa', 'lcquad')\n",
    "os.chdir(\"/mpqa_new/KBQA/data/lcquad\")\n",
    "lcquad_path = \"lcquad_answers.json\"\n",
    "mongo.load_json(lcquad_path)\n",
    "mongo.count_all_docs()\n",
    "doc = mongo.get_sample(limit=1).next()\n",
    "doc"
   ]
  },
  {
   "cell_type": "code",
   "execution_count": 3,
   "metadata": {},
   "outputs": [
    {
     "name": "stdout",
     "output_type": "stream",
     "text": [
      "4000 docs loaded\n",
      "4000 train samples\n",
      "Train: 3999, Test: 999\n",
      "True\n"
     ]
    },
    {
     "name": "stderr",
     "output_type": "stream",
     "text": [
      "/mpqa_new/miniconda3/envs/kbqa/lib/python3.6/site-packages/ipykernel_launcher.py:24: DeprecationWarning: count is deprecated. Use Collection.count_documents instead.\n"
     ]
    }
   ],
   "source": [
    "# reproduce the original lcquad test/train splits\n",
    "limit = None\n",
    "lcquad_train_path = 'train-data.json'  # wget https://raw.githubusercontent.com/AskNowQA/LC-QuAD/data/train-data.json\n",
    "\n",
    "X_train = []\n",
    "   \n",
    "with open(lcquad_train_path, \"r\") as json_file:\n",
    "    docs = json.load(json_file)\n",
    "    for doc in docs:\n",
    "        X_train.append(str(int(doc['_id']) + 1))\n",
    "    print(\"%d docs loaded\"%len(docs))\n",
    "\n",
    "print(\"%d train samples\" % (len(X_train)))\n",
    "# annotate\n",
    "samples = mongo.get_sample(limit=limit)\n",
    "train_count = 0\n",
    "for doc in samples:\n",
    "    if doc['SerialNumber'] in X_train:\n",
    "        doc['train'] = True\n",
    "        train_count += 1\n",
    "    else:\n",
    "        doc['train'] = False\n",
    "    mongo.col.update_one({'_id': doc['_id']}, {\"$set\": doc}, upsert=True)\n",
    "print(\"Train: {}, Test: {}\".format(train_count, samples.count() - train_count))\n",
    "sample = mongo.get_sample(limit=1)[100]\n",
    "print(sample['train'])"
   ]
  },
  {
   "cell_type": "code",
   "execution_count": 4,
   "metadata": {},
   "outputs": [
    {
     "name": "stdout",
     "output_type": "stream",
     "text": [
      "4998 documents annotated with entities and predicates URIs across hops\n",
      "[['http://dbpedia.org/resource/Gestapo'], ['http://dbpedia.org/ontology/parentOrganisation']]\n",
      "[[], ['http://dbpedia.org/ontology/leader']]\n",
      "['http://dbpedia.org/resource/Gestapo']\n",
      "['http://dbpedia.org/ontology/parentOrganisation', 'http://dbpedia.org/ontology/leader']\n"
     ]
    }
   ],
   "source": [
    "# annotate GS entities and predicates across hops\n",
    "# parse entities and predicates annotations across hops from the SQL query and update MongoDB collection\n",
    "verbose = False\n",
    "limit = None\n",
    "\n",
    "samples = mongo.get_sample(limit=limit)\n",
    "count = 0\n",
    "for doc in samples:\n",
    "    # fix URI !\n",
    "    sparql_query = doc['sparql_query']\n",
    "    # parse the SPARQL query into spo triples\n",
    "    tripples = sparql_query[sparql_query.find(\"{\")+1:sparql_query.find(\"}\")].split('. ')\n",
    "\n",
    "    # collect entities and predicates separately for 2 hops\n",
    "    correct_intermediate_predicates = []\n",
    "    correct_intermediate_entities = []\n",
    "    correct_question_predicates = []\n",
    "    correct_question_entities = []\n",
    "\n",
    "    for tripple in tripples:\n",
    "        if tripple:\n",
    "            entities = []\n",
    "            s, p, o = tripple.strip().split()\n",
    "            if s[0] != '?':\n",
    "                entities.append(s[1:-1])\n",
    "            if o[0] != '?':\n",
    "                entities.append(o[1:-1])\n",
    "            p = p[1:-1]\n",
    "\n",
    "            if '?uri' not in tripple:\n",
    "                correct_intermediate_predicates.append(p)\n",
    "                correct_intermediate_entities.extend(entities)\n",
    "            else:\n",
    "                correct_question_predicates.append(p)\n",
    "                correct_question_entities.extend(entities)\n",
    "    if verbose:\n",
    "        print('\\n')\n",
    "        print(sparql_query)\n",
    "        print(correct_intermediate_entities, correct_intermediate_predicates)\n",
    "        print(correct_question_entities, correct_question_predicates)\n",
    "\n",
    "    # update question annotations save in MongoDB\n",
    "    if not correct_intermediate_predicates:\n",
    "        # 1 hop\n",
    "        doc['1hop'] = [correct_question_entities, correct_question_predicates]\n",
    "        doc['2hop'] = [[], []]\n",
    "    else:\n",
    "        # 2 hops\n",
    "        doc['1hop'] = [correct_intermediate_entities, correct_intermediate_predicates]\n",
    "        doc['2hop'] = [correct_question_entities, correct_question_predicates]\n",
    "\n",
    "    doc['entity_uris'] = list(set(correct_question_entities+correct_intermediate_entities))\n",
    "    # store all predicate URIs for subgraph extraction\n",
    "    doc['predicate_uris'] = list(set(correct_question_predicates+correct_intermediate_predicates))\n",
    "\n",
    "    mongo.col.update_one({'_id': doc['_id']}, {\"$set\": doc}, upsert=True)\n",
    "    count +=1\n",
    "\n",
    "print(\"%d documents annotated with entities and predicates URIs across hops\"%count)\n",
    "\n",
    "# show sample annotation\n",
    "sample = mongo.get_by_id(\"3\").next()\n",
    "print(sample['1hop'])\n",
    "print(sample['2hop'])\n",
    "print(sample['entity_uris'])\n",
    "print(sample['predicate_uris'])"
   ]
  },
  {
   "cell_type": "code",
   "execution_count": 5,
   "metadata": {},
   "outputs": [
    {
     "name": "stdout",
     "output_type": "stream",
     "text": [
      "4998 documents annotated with ids\n",
      "8206 0 7838 0\n",
      "4998 documents annotated with ids\n",
      "335 0 2317 0\n",
      "[[5516345, 2979916], [362, 69289]]\n",
      "[[], []]\n"
     ]
    }
   ],
   "source": [
    "# store HDT IDs across hops\n",
    "limit = None\n",
    "\n",
    "def annotate_hop_ids(hop):\n",
    "    e_found = 0\n",
    "    e_not_found = 0\n",
    "    p_found = 0\n",
    "    p_not_found = 0\n",
    "    \n",
    "    samples = mongo.get_all(limit=limit)\n",
    "    count = 0\n",
    "    for doc in samples:\n",
    "        e, p = doc[hop]\n",
    "        e_ids = []\n",
    "        for uri in e:\n",
    "            try:\n",
    "                e_ids.append(e_index.look_up_by_uri(uri)[0]['_source']['id'])\n",
    "                e_found += 1\n",
    "            except:\n",
    "                uri = str(uri).encode('utf-8')\n",
    "                print(\"{} not found in the entity catalog\".format(uri))\n",
    "                e_not_found += 1\n",
    "\n",
    "        p_ids = []\n",
    "        for uri in p:\n",
    "            try:\n",
    "                p_ids.append(p_index.look_up_by_uri(uri)[0]['_source']['id'])\n",
    "                p_found += 1\n",
    "            except:\n",
    "                uri = str(uri).encode('utf-8')\n",
    "                print(\"{} not found in the predicate catalog\".format(uri))\n",
    "                p_not_found += 1\n",
    "        \n",
    "        doc[hop+'_ids'] = e_ids, p_ids\n",
    "            \n",
    "        # update doc in MongoDB\n",
    "        mongo.col.update_one({'_id': doc['_id']}, {\"$set\": doc}, upsert=True)\n",
    "        count += 1\n",
    "        \n",
    "    print(\"%d documents annotated with ids\"%count)\n",
    "    print(e_found, e_not_found, p_found, p_not_found)\n",
    "\n",
    "\n",
    "annotate_hop_ids('1hop')\n",
    "annotate_hop_ids('2hop')\n",
    "\n",
    "# show sample annotations\n",
    "sample = mongo.get_sample(limit=1)[0]\n",
    "print(sample['1hop_ids'])\n",
    "print(sample['2hop_ids'])"
   ]
  },
  {
   "cell_type": "code",
   "execution_count": 6,
   "metadata": {},
   "outputs": [
    {
     "name": "stdout",
     "output_type": "stream",
     "text": [
      "http://dbpedia.org/resource/Miami_Children's_Hospital__Miami_Children’s_Health_Foundation__1 not found in the entity catalog\n",
      "http://dbpedia.org/resource/Equality;_or,_A_History_of_Lithconia not found in the entity catalog\n",
      "http://dbpedia.org/resource/Equality;_or,_A_History_of_Lithconia not found in the entity catalog\n",
      "http://dbpedia.org/resource/Buddy_Holly:_Listen_to_Me;_The_Ultimate_Buddy_Party not found in the entity catalog\n",
      "http://dbpedia.org/resource/Robotics;Notes not found in the entity catalog\n",
      "http://dbpedia.org/resource/Steins;Gate_0 not found in the entity catalog\n",
      "http://dbpedia.org/resource/Steins;Gate:_Fuka_Ryōiki_no_Déjà_vu not found in the entity catalog\n",
      "http://dbpedia.org/resource/Chaos;Head not found in the entity catalog\n",
      "http://dbpedia.org/resource/Steins;Gate not found in the entity catalog\n",
      "http://dbpedia.org/resource/Egotism;_or,_The_Bosom-Serpent not found in the entity catalog\n",
      "4998 documents annotated with ids\n",
      "[2979916, 5516345]\n",
      "[362, 69289]\n",
      "[5031630, 4164151, 4620349, 13091507, 12436800, 23909243, 5242458, 23314400, 20929173, 8450386, 14247619, 20536971, 14560937, 18175910, 19363274, 20129584, 9057727, 15268137, 22849128, 8068063, 21290182, 15533836, 10659084, 14160974, 7562161, 9202607, 15873650, 3760930, 6144287, 4025516, 22612661, 12879671, 5249181, 22465651, 13559159, 22417130, 19482439, 14816637, 5249199, 13398486, 18737298, 14224699, 24375813, 5456603, 5249183, 19921099]\n"
     ]
    }
   ],
   "source": [
    "# store HDT IDs for questions and answers URIs\n",
    "loaded = False\n",
    "limit = None\n",
    "\n",
    "if not loaded:\n",
    "    samples = mongo.get_sample(limit=limit)\n",
    "    count = 0\n",
    "    for doc in samples:\n",
    "        # get all correct entity and predicate from the GS annotations\n",
    "        e_ids = []\n",
    "        for uri in doc['entity_uris']:\n",
    "            try:\n",
    "                e_ids.append(e_index.look_up_by_uri(uri)[0]['_source']['id'])\n",
    "            except:\n",
    "                print(\"%s not found in the entity catalog\"%uri)\n",
    "        doc['entity_ids'] = e_ids\n",
    "\n",
    "        p_ids = []\n",
    "        for uri in doc['predicate_uris']:\n",
    "            try:\n",
    "                p_ids.append(p_index.look_up_by_uri(uri)[0]['_source']['id'])\n",
    "            except:\n",
    "                print(\"%s not found in the predicate catalog\"%uri)\n",
    "        \n",
    "        doc['predicate_ids'] = p_ids\n",
    "        \n",
    "        if 'answers' in doc:\n",
    "            a_ids = []\n",
    "            for uri in doc['answers']:\n",
    "                try:\n",
    "                    a_ids.append(e_index.look_up_by_uri(uri)[0]['_source']['id'])\n",
    "                except:\n",
    "                    print(\"%s not found in the entity catalog\"%uri)\n",
    "\n",
    "            doc['answers_ids'] = a_ids\n",
    "            \n",
    "        # update doc in MongoDB\n",
    "        mongo.col.update_one({'_id': doc['_id']}, {\"$set\": doc}, upsert=True)\n",
    "        count += 1\n",
    "        \n",
    "    print(\"%d documents annotated with ids\"%count)\n",
    "\n",
    "# show sample annotations\n",
    "sample = mongo.get_sample(limit=1)[0]\n",
    "print(sample['entity_ids'])\n",
    "print(sample['predicate_ids'])\n",
    "if 'answers' in sample:\n",
    "    print(sample['answers_ids'])"
   ]
  },
  {
   "cell_type": "code",
   "execution_count": 7,
   "metadata": {},
   "outputs": [
    {
     "name": "stdout",
     "output_type": "stream",
     "text": [
      "1982 complex questions (with more than one variable)\n",
      "1599 complex questions (with more than one variable)\n",
      "383 complex questions (with more than one variable)\n"
     ]
    },
    {
     "name": "stderr",
     "output_type": "stream",
     "text": [
      "/mpqa_new/miniconda3/envs/kbqa/lib/python3.6/site-packages/ipykernel_launcher.py:2: DeprecationWarning: count is deprecated. Use Collection.count_documents instead.\n",
      "  \n",
      "/mpqa_new/miniconda3/envs/kbqa/lib/python3.6/site-packages/ipykernel_launcher.py:3: DeprecationWarning: count is deprecated. Use Collection.count_documents instead.\n",
      "  This is separate from the ipykernel package so we can avoid doing imports until\n",
      "/mpqa_new/miniconda3/envs/kbqa/lib/python3.6/site-packages/ipykernel_launcher.py:4: DeprecationWarning: count is deprecated. Use Collection.count_documents instead.\n",
      "  after removing the cwd from sys.path.\n"
     ]
    }
   ],
   "source": [
    "# number of documents with 2 hops\n",
    "print(\"%d complex questions (with more than one variable)\"%mongo.col.find({\"2hop\": { \"$ne\": [[], []] }}).count())\n",
    "print(\"%d complex questions (with more than one variable)\"%mongo.col.find({\"train\": True, \"2hop\": { \"$ne\": [[], []] }}).count())\n",
    "print(\"%d complex questions (with more than one variable)\"%mongo.col.find({\"train\": False, \"2hop\": { \"$ne\": [[], []] }}).count())"
   ]
  },
  {
   "cell_type": "code",
   "execution_count": 8,
   "metadata": {},
   "outputs": [
    {
     "name": "stdout",
     "output_type": "stream",
     "text": [
      "3131\n"
     ]
    }
   ],
   "source": [
    "# number of documents with >1 triple\n",
    "limit = None\n",
    "samples = mongo.get_sample(train=True, limit=limit)\n",
    "counter = 0\n",
    "for doc in samples:\n",
    "    n_components = len(doc['predicate_ids']) + len(doc['entity_ids'])\n",
    "    if n_components > 2:\n",
    "        counter += 1\n",
    "print(counter)"
   ]
  },
  {
   "cell_type": "code",
   "execution_count": 9,
   "metadata": {},
   "outputs": [
    {
     "name": "stderr",
     "output_type": "stream",
     "text": [
      "Using TensorFlow backend.\n",
      "/mpqa_new/miniconda3/envs/kbqa/lib/python3.6/site-packages/tensorflow/python/framework/dtypes.py:523: FutureWarning: Passing (type, 1) or '1type' as a synonym of type is deprecated; in a future version of numpy, it will be understood as (type, (1,)) / '(1,)type'.\n",
      "  _np_qint8 = np.dtype([(\"qint8\", np.int8, 1)])\n",
      "/mpqa_new/miniconda3/envs/kbqa/lib/python3.6/site-packages/tensorflow/python/framework/dtypes.py:524: FutureWarning: Passing (type, 1) or '1type' as a synonym of type is deprecated; in a future version of numpy, it will be understood as (type, (1,)) / '(1,)type'.\n",
      "  _np_quint8 = np.dtype([(\"quint8\", np.uint8, 1)])\n",
      "/mpqa_new/miniconda3/envs/kbqa/lib/python3.6/site-packages/tensorflow/python/framework/dtypes.py:525: FutureWarning: Passing (type, 1) or '1type' as a synonym of type is deprecated; in a future version of numpy, it will be understood as (type, (1,)) / '(1,)type'.\n",
      "  _np_qint16 = np.dtype([(\"qint16\", np.int16, 1)])\n",
      "/mpqa_new/miniconda3/envs/kbqa/lib/python3.6/site-packages/tensorflow/python/framework/dtypes.py:526: FutureWarning: Passing (type, 1) or '1type' as a synonym of type is deprecated; in a future version of numpy, it will be understood as (type, (1,)) / '(1,)type'.\n",
      "  _np_quint16 = np.dtype([(\"quint16\", np.uint16, 1)])\n",
      "/mpqa_new/miniconda3/envs/kbqa/lib/python3.6/site-packages/tensorflow/python/framework/dtypes.py:527: FutureWarning: Passing (type, 1) or '1type' as a synonym of type is deprecated; in a future version of numpy, it will be understood as (type, (1,)) / '(1,)type'.\n",
      "  _np_qint32 = np.dtype([(\"qint32\", np.int32, 1)])\n",
      "/mpqa_new/miniconda3/envs/kbqa/lib/python3.6/site-packages/tensorflow/python/framework/dtypes.py:532: FutureWarning: Passing (type, 1) or '1type' as a synonym of type is deprecated; in a future version of numpy, it will be understood as (type, (1,)) / '(1,)type'.\n",
      "  np_resource = np.dtype([(\"resource\", np.ubyte, 1)])\n"
     ]
    },
    {
     "name": "stdout",
     "output_type": "stream",
     "text": [
      "Min:2 Avg:11 Max:25\n"
     ]
    }
   ],
   "source": [
    "# question lengths distribution\n",
    "limit = None\n",
    "from keras.preprocessing.text import text_to_word_sequence\n",
    "import numpy as np\n",
    "samples = mongo.get_sample(limit=limit)\n",
    "n_words_distr = []\n",
    "for doc in samples:\n",
    "    words = text_to_word_sequence(doc['question'])\n",
    "    # add the sample to the dataset \n",
    "    n_words_distr.append(len(words))\n",
    "\n",
    "# show basic stats\n",
    "min_len = min(n_words_distr)\n",
    "mean_len = np.mean(n_words_distr)\n",
    "max_len = max(n_words_distr)\n",
    "print(\"Min:%d Avg:%d Max:%d\"%(min_len, mean_len, max_len))"
   ]
  },
  {
   "cell_type": "code",
   "execution_count": 11,
   "metadata": {},
   "outputs": [
    {
     "name": "stdout",
     "output_type": "stream",
     "text": [
      "Min:2 Avg:3 Max:6\n"
     ]
    }
   ],
   "source": [
    "# question number of question URIs distribution (predicate + entity)\n",
    "from keras.preprocessing.text import text_to_word_sequence\n",
    "import numpy as np\n",
    "samples = mongo.get_sample(limit=limit)\n",
    "n_distr = []\n",
    "for doc in samples:\n",
    "    n_distr.append(len(doc['entity_uris']+doc['predicate_uris']))\n",
    "\n",
    "# show basic stats\n",
    "min_len = min(n_distr)\n",
    "mean_len = np.mean(n_distr)\n",
    "max_len = max(n_distr)\n",
    "print(\"Min:%d Avg:%d Max:%d\"%(min_len, mean_len, max_len))"
   ]
  },
  {
   "cell_type": "code",
   "execution_count": 12,
   "metadata": {},
   "outputs": [
    {
     "name": "stdout",
     "output_type": "stream",
     "text": [
      "Min:1 Median:2 Max:10000\n"
     ]
    }
   ],
   "source": [
    "# number of answers per question\n",
    "import numpy as np\n",
    "\n",
    "samples = mongo.get_sample(limit=None)\n",
    "n_distr = []\n",
    "for doc in samples:\n",
    "    n_distr.append(len(doc['answers']) if 'answers' in doc else 1)\n",
    "\n",
    "# show basic stats\n",
    "min_len = min(n_distr)\n",
    "mean_len = np.median(n_distr)\n",
    "max_len = max(n_distr)\n",
    "print(\"Min:%d Median:%d Max:%d\"%(min_len, mean_len, max_len))\n",
    "p_distribution = Counter(n_distr)"
   ]
  },
  {
   "cell_type": "code",
   "execution_count": 13,
   "metadata": {},
   "outputs": [
    {
     "name": "stdout",
     "output_type": "stream",
     "text": [
      "[('http://dbpedia.org/ontology/religion', 84), ('http://dbpedia.org/ontology/award', 77), ('http://dbpedia.org/ontology/birthPlace', 68), ('http://dbpedia.org/property/awards', 58), ('http://dbpedia.org/property/owner', 57), ('http://dbpedia.org/ontology/country', 53), ('http://dbpedia.org/ontology/deathPlace', 51), ('http://dbpedia.org/ontology/manufacturer', 51), ('http://dbpedia.org/ontology/almaMater', 50), ('http://dbpedia.org/property/placeOfBirth', 49), ('http://dbpedia.org/ontology/sport', 48), ('http://dbpedia.org/ontology/team', 47), ('http://dbpedia.org/property/writer', 46), ('http://dbpedia.org/ontology/location', 46), ('http://dbpedia.org/ontology/occupation', 45), ('http://dbpedia.org/property/birthPlace', 44), ('http://dbpedia.org/ontology/knownFor', 44), ('http://dbpedia.org/property/distributor', 41), ('http://dbpedia.org/property/artist', 41), ('http://dbpedia.org/ontology/formerTeam', 40), ('http://dbpedia.org/property/headquarters', 40), ('http://dbpedia.org/ontology/author', 39), ('http://dbpedia.org/property/successor', 39), ('http://dbpedia.org/ontology/developer', 39), ('http://dbpedia.org/property/almaMater', 39), ('http://dbpedia.org/property/placeOfDeath', 38), ('http://dbpedia.org/property/themeMusicComposer', 37), ('http://dbpedia.org/property/mascot', 36), ('http://dbpedia.org/property/music', 36), ('http://dbpedia.org/ontology/residence', 35)]\n",
      "597 predicates\n"
     ]
    }
   ],
   "source": [
    "# number of unique predicates and distribution \n",
    "limit = None\n",
    "\n",
    "# training set\n",
    "samples = mongo.get_sample(train=True, limit=limit)\n",
    "predicates = []\n",
    "for doc in samples:\n",
    "    predicates.extend(doc['predicate_uris'])\n",
    "\n",
    "# test set\n",
    "samples = mongo.get_sample(train=False, limit=limit)\n",
    "for doc in samples:\n",
    "    predicates.extend(doc['predicate_uris'])    \n",
    "\n",
    "\n",
    "p_distribution = Counter([p for p in predicates if p != 'http://www.w3.org/1999/02/22-rdf-syntax-ns#type'])\n",
    "# most common\n",
    "print (p_distribution.most_common(30))\n",
    "\n",
    "predicates = list(set(predicates))\n",
    "print(\"%d predicates\"%len(predicates))"
   ]
  },
  {
   "cell_type": "markdown",
   "metadata": {},
   "source": [
    "* 5 predicates not seen during training\n",
    "* most frequent predicate: type ('http://www.w3.org/1999/02/22-rdf-syntax-ns#type', 1568)"
   ]
  },
  {
   "cell_type": "code",
   "execution_count": 14,
   "metadata": {},
   "outputs": [
    {
     "name": "stderr",
     "output_type": "stream",
     "text": [
      "/mpqa_new/miniconda3/envs/kbqa/lib/python3.6/site-packages/seaborn/distributions.py:2557: FutureWarning: `distplot` is a deprecated function and will be removed in a future version. Please adapt your code to use either `displot` (a figure-level function with similar flexibility) or `histplot` (an axes-level function for histograms).\n",
      "  warnings.warn(msg, FutureWarning)\n"
     ]
    },
    {
     "data": {
      "image/png": "[encoded data removed]",
      "text/plain": [
       "<Figure size 432x288 with 1 Axes>"
      ]
     },
     "metadata": {},
     "output_type": "display_data"
    }
   ],
   "source": [
    "import matplotlib.pyplot as plt\n",
    "\n",
    "def plot_distribution(counter):\n",
    "    '''\n",
    "    Plot the distribution stored in the counter object\n",
    "    '''\n",
    "    # prepare data\n",
    "    import numpy as np\n",
    "    labels, values = zip(*counter.items())\n",
    "    indexes = np.arange(len(labels))\n",
    "\n",
    "    # generate a plot\n",
    "    import seaborn as sns\n",
    "    sns.set(color_codes=True)\n",
    "    sns.distplot(values)\n",
    "    plt.show()\n",
    "\n",
    "plot_distribution(p_distribution)"
   ]
  },
  {
   "cell_type": "code",
   "execution_count": 15,
   "metadata": {},
   "outputs": [],
   "source": [
    "# write questions into file to generate embeddings\n",
    "samples = mongo.get_sample(train=True, limit=limit)\n",
    "os.chdir(\"/mpqa_new/KBQA/data/lcquad\")\n",
    "with open('questions.txt', 'w', encoding='utf-8') as fout:\n",
    "    for doc in samples:\n",
    "        fout.write(doc['question']+'\\n')"
   ]
  },
  {
   "cell_type": "code",
   "execution_count": 16,
   "metadata": {},
   "outputs": [
    {
     "name": "stdout",
     "output_type": "stream",
     "text": [
      "4998 documents annotated with entities and predicates URIs across hops\n",
      "SELECT DISTINCT ?uri WHERE {?uri <http://dbpedia.org/property/music> <http://dbpedia.org/resource/Akira_Ifukube>  . ?uri <http://www.w3.org/1999/02/22-rdf-syntax-ns#type> <http://dbpedia.org/ontology/Film>}\n",
      "['http://dbpedia.org/ontology/Film']\n",
      "[2979987]\n"
     ]
    }
   ],
   "source": [
    "# annotate types separately\n",
    "loaded = False\n",
    "\n",
    "verbose = False\n",
    "limit = None\n",
    "\n",
    "if not loaded:\n",
    "    samples = mongo.get_sample(limit=limit)\n",
    "    count = 0\n",
    "    for doc in samples:\n",
    "        # fix URI !\n",
    "        sparql_query = doc['sparql_query']\n",
    "        # parse the SPARQL query into spo triples\n",
    "        tripples = sparql_query[sparql_query.find(\"{\")+1:sparql_query.find(\"}\")].split('. ')\n",
    "\n",
    "        # collect entities and predicates separately for 2 hops\n",
    "        classes = []\n",
    "        cids = []\n",
    "        for tripple in tripples:\n",
    "            if tripple:\n",
    "                entities = []\n",
    "                s, p, o = tripple.strip().split()\n",
    "#                     \n",
    "                p = p[1:-1]\n",
    "                if p == 'http://www.w3.org/1999/02/22-rdf-syntax-ns#type':\n",
    "                    if o[0] != '?':\n",
    "                        uri = o[1:-1]\n",
    "                        classes.append(uri)\n",
    "                        try:\n",
    "                            cids.append(e_index.look_up_by_uri(uri)[0]['_source']['id'])\n",
    "                        except:\n",
    "                            print(\"%s not found in the entity catalog\"%uri)\n",
    "               \n",
    "        if classes and verbose:\n",
    "            print(sparql_query)\n",
    "            print(classes)\n",
    "            print(cids)\n",
    "       \n",
    "        doc['classes'] = classes\n",
    "        doc['classes_ids'] = cids\n",
    "\n",
    "        mongo.col.update_one({'_id': doc['_id']}, {\"$set\": doc}, upsert=True)\n",
    "        count +=1\n",
    "\n",
    "    print(\"%d documents annotated with entities and predicates URIs across hops\"%count)\n",
    "\n",
    "# show sample annotation\n",
    "sample = mongo.get_by_id(\"2652\").next()\n",
    "print(sample['sparql_query'])\n",
    "print(sample['classes'])\n",
    "print(sample['classes_ids'])"
   ]
  },
  {
   "cell_type": "markdown",
   "metadata": {},
   "source": [
    "## QALD-7"
   ]
  },
  {
   "cell_type": "code",
   "execution_count": null,
   "metadata": {},
   "outputs": [],
   "source": [
    "mongo = Mongo_Connector('kbqa', 'qald_7_train')\n",
    "data_path = \"qald-7-train-multilingual.json\"\n",
    "\n",
    "ENDPOINT = 'https://dbpedia.org/sparql'\n",
    "\n",
    "# load LC-QUAD dataset\n",
    "loaded = False\n",
    "\n",
    "if not loaded:\n",
    "    import os\n",
    "    os.chdir(\"/mpqa_new/KBQA/data/qald-7\")\n",
    "\n",
    "    import json\n",
    "    import pprint\n",
    "    import requests\n",
    "    with open(data_path, encoding='utf-8') as f:\n",
    "        dataset = json.load(f)\n",
    "        for q in dataset['questions']:\n",
    "            doc = {}\n",
    "            doc['SerialNumber'] = q['id']\n",
    "            doc['question'] = q['question'][0]['string']\n",
    "            doc['sparql_query'] = q['query']['sparql'].replace('\\n', ' ')\n",
    "            response = requests.get(ENDPOINT, params={'query': doc['sparql_query'], 'output': 'json'}).json()\n",
    "            if 'results' in response:\n",
    "                results = response['results']['bindings']\n",
    "                doc['answers'] = [v['value'] for r in results for v in r.values()]\n",
    "            elif 'boolean' in response:\n",
    "                doc['bool_answer'] = response['boolean']\n",
    "            doc['train'] = False\n",
    "            mongo.col.insert_one(doc)\n",
    "            \n",
    "mongo.count_all_docs()\n",
    "doc = mongo.get_sample(train=False, limit=1)[0]\n",
    "pprint.pprint(doc)\n",
    "print(doc['sparql_query'])"
   ]
  },
  {
   "cell_type": "code",
   "execution_count": null,
   "metadata": {},
   "outputs": [],
   "source": [
    "# parse the SPARQL query into spo triples\n",
    "cursor = mongo.get_sample(limit=1)\n",
    "with cursor:\n",
    "    for doc in cursor:\n",
    "        sparql_query = doc['sparql_query']\n",
    "        print(sparql_query)\n",
    "        tripples = sparql_query[sparql_query.find(\"{\")+1:sparql_query.find(\"}\")].split('. ')\n",
    "\n",
    "        # collect entities and predicates\n",
    "        for tripple in tripples:\n",
    "            if tripple:\n",
    "                entities, predicates = [], []\n",
    "                clause = tripple.strip().split()\n",
    "                if clause[0] != 'filter':\n",
    "                    s, p, o = clause\n",
    "                    if s[0] != '?':\n",
    "                        entities.append(s)\n",
    "                    if o[0] != '?':\n",
    "                        entities.append(o)\n",
    "                    predicates.append(p)\n",
    "                print(entities)\n",
    "                print(predicates)"
   ]
  },
  {
   "cell_type": "markdown",
   "metadata": {},
   "source": [
    "## QALD-8"
   ]
  },
  {
   "cell_type": "code",
   "execution_count": null,
   "metadata": {},
   "outputs": [],
   "source": [
    "\n",
    "mongo = Mongo_Connector('kbqa', 'qald_7_train')\n",
    "data_path = \"qald-7-train-multilingual.json\"\n",
    "\n",
    "ENDPOINT = 'https://dbpedia.org/sparql'\n",
    "\n",
    "# load LC-QUAD dataset\n",
    "loaded = False\n",
    "\n",
    "if not loaded:\n",
    "    import os\n",
    "    os.chdir(\"/mpqa_new/KBQA/data/qald-7\")\n",
    "\n",
    "    import json\n",
    "    import pprint\n",
    "    import requests\n",
    "    with open(data_path, encoding='utf-8') as f:\n",
    "        dataset = json.load(f)\n",
    "        for q in dataset['questions']:\n",
    "            doc = {}\n",
    "            doc['SerialNumber'] = q['id']\n",
    "            doc['question'] = q['question'][0]['string']\n",
    "            doc['sparql_query'] = q['query']['sparql'].replace('\\n', ' ')\n",
    "            response = requests.get(ENDPOINT, params={'query': doc['sparql_query'], 'output': 'json'}).json()\n",
    "            if 'results' in response:\n",
    "                results = response['results']['bindings']\n",
    "                doc['answers'] = [v['value'] for r in results for v in r.values()]\n",
    "            elif 'boolean' in response:\n",
    "                doc['bool_answer'] = response['boolean']\n",
    "            doc['train'] = False\n",
    "            mongo.col.insert_one(doc)\n",
    "            \n",
    "mongo.count_all_docs()\n",
    "doc = mongo.get_sample(train=False, limit=1)[0]\n",
    "pprint.pprint(doc)\n",
    "print(doc['sparql_query'])\n",
    "\n",
    "# parse the SPARQL query into spo triples\n",
    "cursor = mongo.get_sample(limit=1)\n",
    "with cursor:\n",
    "    for doc in cursor:\n",
    "        sparql_query = doc['sparql_query']\n",
    "        print(sparql_query)\n",
    "        tripples = sparql_query[sparql_query.find(\"{\")+1:sparql_query.find(\"}\")].split('. ')\n",
    "\n",
    "        # collect entities and predicates\n",
    "        for tripple in tripples:\n",
    "            if tripple:\n",
    "                entities, predicates = [], []\n",
    "                clause = tripple.strip().split()\n",
    "                if clause[0] != 'filter':\n",
    "                    s, p, o = clause\n",
    "                    if s[0] != '?':\n",
    "                        entities.append(s)\n",
    "                    if o[0] != '?':\n",
    "                        entities.append(o)\n",
    "                    predicates.append(p)\n",
    "                print(entities)\n",
    "                print(predicates)"
   ]
  }
 ],
 "metadata": {
  "kernelspec": {
   "display_name": "Python 3",
   "language": "python",
   "name": "python3"
  },
  "language_info": {
   "codemirror_mode": {
    "name": "ipython",
    "version": 3
   },
   "file_extension": ".py",
   "mimetype": "text/x-python",
   "name": "python",
   "nbconvert_exporter": "python",
   "pygments_lexer": "ipython3",
   "version": "3.6.13"
  }
 },
 "nbformat": 4,
 "nbformat_minor": 2
}
