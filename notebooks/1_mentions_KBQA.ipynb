{
 "cells": [
  {
   "cell_type": "markdown",
   "metadata": {},
   "source": [
    "# Mentions Extraction for KBQA\n",
    "\n",
    "Parsing question into entities and predicate mentions text spans.\n",
    "\n",
    "bi-LSTM + CRF  \n",
    "https://github.com/UKPLab/emnlp2017-bilstm-cnn-crf  \n",
    "https://www.depends-on-the-definition.com/sequence-tagging-lstm-crf/  \n",
    "https://github.com/SNUDerek/multiLSTM  "
   ]
  },
  {
   "cell_type": "code",
   "execution_count": 1,
   "metadata": {},
   "outputs": [
    {
     "name": "stderr",
     "output_type": "stream",
     "text": [
      "/mpqa/miniconda3/envs/kbqa/lib/python3.6/site-packages/tensorflow/python/framework/dtypes.py:523: FutureWarning: Passing (type, 1) or '1type' as a synonym of type is deprecated; in a future version of numpy, it will be understood as (type, (1,)) / '(1,)type'.\n",
      "  _np_qint8 = np.dtype([(\"qint8\", np.int8, 1)])\n",
      "/mpqa/miniconda3/envs/kbqa/lib/python3.6/site-packages/tensorflow/python/framework/dtypes.py:524: FutureWarning: Passing (type, 1) or '1type' as a synonym of type is deprecated; in a future version of numpy, it will be understood as (type, (1,)) / '(1,)type'.\n",
      "  _np_quint8 = np.dtype([(\"quint8\", np.uint8, 1)])\n",
      "/mpqa/miniconda3/envs/kbqa/lib/python3.6/site-packages/tensorflow/python/framework/dtypes.py:525: FutureWarning: Passing (type, 1) or '1type' as a synonym of type is deprecated; in a future version of numpy, it will be understood as (type, (1,)) / '(1,)type'.\n",
      "  _np_qint16 = np.dtype([(\"qint16\", np.int16, 1)])\n",
      "/mpqa/miniconda3/envs/kbqa/lib/python3.6/site-packages/tensorflow/python/framework/dtypes.py:526: FutureWarning: Passing (type, 1) or '1type' as a synonym of type is deprecated; in a future version of numpy, it will be understood as (type, (1,)) / '(1,)type'.\n",
      "  _np_quint16 = np.dtype([(\"quint16\", np.uint16, 1)])\n",
      "/mpqa/miniconda3/envs/kbqa/lib/python3.6/site-packages/tensorflow/python/framework/dtypes.py:527: FutureWarning: Passing (type, 1) or '1type' as a synonym of type is deprecated; in a future version of numpy, it will be understood as (type, (1,)) / '(1,)type'.\n",
      "  _np_qint32 = np.dtype([(\"qint32\", np.int32, 1)])\n",
      "/mpqa/miniconda3/envs/kbqa/lib/python3.6/site-packages/tensorflow/python/framework/dtypes.py:532: FutureWarning: Passing (type, 1) or '1type' as a synonym of type is deprecated; in a future version of numpy, it will be understood as (type, (1,)) / '(1,)type'.\n",
      "  np_resource = np.dtype([(\"resource\", np.ubyte, 1)])\n",
      "Using TensorFlow backend.\n"
     ]
    }
   ],
   "source": [
    "# setup\n",
    "dataset_name = 'lcquad'\n",
    "embeddings_choice = 'glove840B300d'\n",
    "\n",
    "import numpy as np\n",
    "# set seed\n",
    "from numpy.random import seed\n",
    "seed(1)\n",
    "from tensorflow import set_random_seed\n",
    "set_random_seed(2)\n",
    "\n",
    "import os\n",
    "os.chdir('/mpqa/KBQA/src')\n",
    "\n",
    "# load word frequencies\n",
    "import pickle\n",
    "#wfd = pickle.load(open(\"wfd.pkl\", \"rb\"))\n",
    "\n",
    "# make sure Keras is using the GPU\n",
    "from keras import backend\n",
    "assert len(backend.tensorflow_backend._get_available_gpus()) > 0\n",
    "\n",
    "# load pre-trained word embeddings\n",
    "from pymagnitude import *\n",
    "embeddings_path = \"/mpqa/KBQA/data/embeddings/\"\n",
    "embeddings = {'glove840B300d': \"glove.840B.300d.magnitude\"}\n",
    "vectors = Magnitude(embeddings_path + embeddings[embeddings_choice])"
   ]
  },
  {
   "cell_type": "code",
   "execution_count": 2,
   "metadata": {},
   "outputs": [
    {
     "name": "stdout",
     "output_type": "stream",
     "text": [
      "Loaded 5000/5000 lcquad questions\n"
     ]
    }
   ],
   "source": [
    "# load lcquad span annotations\n",
    "# wget https://raw.githubusercontent.com/AskNowQA/EARL/master/data/lcquad.json\n",
    "import json\n",
    "with open(\"../data/%s.json\"%dataset_name, \"r\", encoding='utf-8') as file:\n",
    "    qas = json.load(file)\n",
    "\n",
    "# prepare data for entity and predicate mention extraction models training via sequence tagging\n",
    "limit = 5000\n",
    "from keras.preprocessing.text import text_to_word_sequence\n",
    "\n",
    "questions = []\n",
    "n_words_distr = []\n",
    "\n",
    "e_spans = []\n",
    "y_e = []\n",
    "correct_entities_uris = []\n",
    "\n",
    "p_spans = []\n",
    "y_p = []\n",
    "correct_predicates_uris = []\n",
    "\n",
    "for q in qas[:limit]:\n",
    "    # parse question\n",
    "    question_o = q['question']\n",
    "    words = text_to_word_sequence(question_o)\n",
    "    n_words_distr.append(len(words))\n",
    "    questions.append(words)\n",
    "\n",
    "    # generate IO tags from mention spans\n",
    "    entity_spans = [e['label'].lower().split() for e in q['entity mapping']]\n",
    "    e_spans.append(entity_spans)\n",
    "    y_e.append([1 if word in [entity for entity_span in entity_spans for entity in entity_span] else 0 for word in words])\n",
    "    correct_entities_uris.append([e['uri'] for e in q['entity mapping']])\n",
    "    \n",
    "    predicate_spans = [e['label'].lower().split() for e in q['predicate mapping']]\n",
    "    p_spans.append(predicate_spans)\n",
    "    y_p.append([1 if word in [entity for entity_span in predicate_spans for entity in entity_span] else 0 for word in words])\n",
    "    correct_predicates_uris.append([e['uri'] for e in q['predicate mapping']])\n",
    "\n",
    "dataset_size = len(questions)\n",
    "print(\"Loaded %d/%d %s questions\"%(dataset_size, len(qas), dataset_name))"
   ]
  },
  {
   "cell_type": "code",
   "execution_count": 3,
   "metadata": {},
   "outputs": [
    {
     "name": "stdout",
     "output_type": "stream",
     "text": [
      "Was winston churchill the prime minister of Selwyn Lloyd?\n",
      "\n",
      "\n",
      "[['selwyn', 'lloyd'], ['winston', 'churchill']]\n",
      "[0, 1, 1, 0, 0, 0, 0, 1, 1]\n",
      "['http://dbpedia.org/resource/Selwyn_Lloyd', 'http://dbpedia.org/resource/Winston_Churchill']\n",
      "\n",
      "\n",
      "[['prime', 'minister']]\n",
      "[0, 0, 0, 0, 1, 1, 0, 0, 0]\n",
      "['http://dbpedia.org/ontology/primeMinister']\n"
     ]
    }
   ],
   "source": [
    "# show sample question\n",
    "i = 1\n",
    "question_o = qas[i]['question']\n",
    "print(question_o)\n",
    "print('\\n')\n",
    "print(e_spans[i])\n",
    "print(y_e[i])\n",
    "print(correct_entities_uris[i])\n",
    "print('\\n')\n",
    "print(p_spans[i])\n",
    "print(y_p[i])\n",
    "print(correct_predicates_uris[i])"
   ]
  },
  {
   "cell_type": "code",
   "execution_count": 4,
   "metadata": {},
   "outputs": [
    {
     "name": "stdout",
     "output_type": "stream",
     "text": [
      "Number of unique words 7113\n",
      "Maximum question length in the dataset: 25\n",
      "1262 OOV words\n",
      "Model settings saved.\n"
     ]
    }
   ],
   "source": [
    "# load pre-trained embeddings for question words\n",
    "words = list(set([word for q in questions for word in q]))\n",
    "n_words = len(words)\n",
    "print(\"Number of unique words %d\"%len(words))\n",
    "word2idx = {w: i + 1 for i, w in enumerate(words)}\n",
    "\n",
    "# dataset parameters for training the model\n",
    "max_len = max(n_words_distr)\n",
    "print(\"Maximum question length in the dataset: %d\"%max_len)\n",
    "n_tags = 2\n",
    "\n",
    "# prepare data and pad the max length with 0s\n",
    "from keras.preprocessing.sequence import pad_sequences\n",
    "X = [[word2idx[w] for w in s] for s in questions]\n",
    "X = pad_sequences(maxlen=max_len, sequences=X, padding=\"post\", value=0)\n",
    "\n",
    "# load embeddings into matrix\n",
    "import math\n",
    "word_embedding_matrix = np.zeros((n_words+1, vectors.dim))\n",
    "\n",
    "n_oov = 0\n",
    "\n",
    "for w in word2idx:\n",
    "    # get the word vector from the embedding model\n",
    "    if w in vectors:\n",
    "        word_vector = vectors.query(w)\n",
    "    # OOV word\n",
    "    else:\n",
    "        n_oov += 1\n",
    "        word_vector = vectors.query('unk')\n",
    "    word_embedding_matrix[word2idx[w]] = word_vector\n",
    "\n",
    "# loaded vector # may be lower than total vocab due to w2v settings\n",
    "print('%d OOV words'%n_oov)\n",
    "\n",
    "model_settings = {'embeddings': word_embedding_matrix, 'word2idx': word2idx,\n",
    "                  'max_len': max_len, 'n_words': n_words, 'n_tags': n_tags, 'emb_dim': vectors.dim}\n",
    "\n",
    "# save model settings\n",
    "import pickle as pkl\n",
    "f = open('%s_%s.pkl'%(dataset_name, embeddings_choice), 'wb')\n",
    "pkl.dump(model_settings, f, -1)\n",
    "f.close()\n",
    "print(\"Model settings saved.\")"
   ]
  },
  {
   "cell_type": "code",
   "execution_count": 5,
   "metadata": {},
   "outputs": [
    {
     "name": "stderr",
     "output_type": "stream",
     "text": [
      "/mpqa/miniconda3/envs/kbqa/lib/python3.6/site-packages/keras_contrib/layers/crf.py:346: UserWarning: CRF.loss_function is deprecated and it might be removed in the future. Please use losses.crf_loss instead.\n",
      "  warnings.warn('CRF.loss_function is deprecated '\n",
      "/mpqa/miniconda3/envs/kbqa/lib/python3.6/site-packages/keras_contrib/layers/crf.py:353: UserWarning: CRF.accuracy is deprecated and it might be removed in the future. Please use metrics.crf_accuracy\n",
      "  warnings.warn('CRF.accuracy is deprecated and it '\n"
     ]
    },
    {
     "name": "stdout",
     "output_type": "stream",
     "text": [
      "_________________________________________________________________\n",
      "Layer (type)                 Output Shape              Param #   \n",
      "=================================================================\n",
      "input_1 (InputLayer)         (None, 25)                0         \n",
      "_________________________________________________________________\n",
      "embedding_1 (Embedding)      (None, 25, 300)           2134200   \n",
      "_________________________________________________________________\n",
      "bidirectional_1 (Bidirection (None, 25, 100)           140400    \n",
      "_________________________________________________________________\n",
      "time_distributed_1 (TimeDist (None, 25, 50)            5050      \n",
      "_________________________________________________________________\n",
      "crf_1 (CRF)                  (None, 25, 2)             110       \n",
      "=================================================================\n",
      "Total params: 2,279,760\n",
      "Trainable params: 145,560\n",
      "Non-trainable params: 2,134,200\n",
      "_________________________________________________________________\n"
     ]
    }
   ],
   "source": [
    "# build biLSTM-CRF model for mention extraction\n",
    "from keras.models import Model, Input\n",
    "from keras.layers import LSTM, Embedding, Dense, TimeDistributed, Dropout, Bidirectional\n",
    "from keras_contrib.layers import CRF\n",
    "from keras.optimizers import Adam\n",
    "\n",
    "def build_model(model_settings):\n",
    "    # architecture\n",
    "    input = Input(shape=(model_settings['max_len'],))\n",
    "    model = Embedding(input_dim=model_settings['n_words']+1, output_dim=model_settings['emb_dim'],\n",
    "                      weights=[model_settings['embeddings']],\n",
    "                      input_length=model_settings['max_len'], mask_zero=True, trainable=False)(input)\n",
    "    model = Bidirectional(LSTM(units=50, return_sequences=True,\n",
    "                               recurrent_dropout=0.1))(model)  # variational biLSTM\n",
    "    model = TimeDistributed(Dense(50, activation=\"relu\"))(model)  # a dense layer as suggested by neuralNer\n",
    "    crf = CRF(model_settings['n_tags'])  # CRF layer\n",
    "    out = crf(model)  # output\n",
    "    model = Model(input, out)\n",
    "    model.compile(optimizer=Adam(lr=0.0001), loss=crf.loss_function, metrics=[crf.accuracy])\n",
    "    model.summary()\n",
    "    return model\n",
    "\n",
    "model = build_model(model_settings)"
   ]
  },
  {
   "cell_type": "markdown",
   "metadata": {},
   "source": [
    "## Entity mentions"
   ]
  },
  {
   "cell_type": "code",
   "execution_count": 6,
   "metadata": {},
   "outputs": [
    {
     "name": "stdout",
     "output_type": "stream",
     "text": [
      "Training on 4500 samples testing on 500 samples\n"
     ]
    }
   ],
   "source": [
    "# train entity mention span model\n",
    "y = y_e\n",
    "modelname = 'entity_model'\n",
    "\n",
    "# prepare data\n",
    "y = pad_sequences(maxlen=max_len, sequences=y, padding=\"post\", value=0)\n",
    "from keras.utils import to_categorical\n",
    "y = [to_categorical(i, num_classes=n_tags) for i in y]\n",
    "\n",
    "# split dataset into training and testing subsets\n",
    "from sklearn.model_selection import train_test_split\n",
    "X_train, X_test, y_train, y_test = train_test_split(X, y, test_size=0.1)\n",
    "print(\"Training on %d samples testing on %d samples\" % (len(X_train), len(X_test)))"
   ]
  },
  {
   "cell_type": "code",
   "execution_count": 7,
   "metadata": {},
   "outputs": [
    {
     "name": "stdout",
     "output_type": "stream",
     "text": [
      "Train on 4050 samples, validate on 450 samples\n",
      "Epoch 1/50\n",
      "4050/4050 [==============================] - 20s 5ms/step - loss: 1.5506 - crf_viterbi_accuracy: 0.7547 - val_loss: 1.5037 - val_crf_viterbi_accuracy: 0.7878\n",
      "Epoch 2/50\n",
      "4050/4050 [==============================] - 17s 4ms/step - loss: 1.4194 - crf_viterbi_accuracy: 0.8177 - val_loss: 1.4055 - val_crf_viterbi_accuracy: 0.8423\n",
      "Epoch 3/50\n",
      "4050/4050 [==============================] - 17s 4ms/step - loss: 1.3383 - crf_viterbi_accuracy: 0.8635 - val_loss: 1.3387 - val_crf_viterbi_accuracy: 0.8729\n",
      "Epoch 4/50\n",
      "4050/4050 [==============================] - 17s 4ms/step - loss: 1.2947 - crf_viterbi_accuracy: 0.8874 - val_loss: 1.3110 - val_crf_viterbi_accuracy: 0.8872\n",
      "Epoch 5/50\n",
      "4050/4050 [==============================] - 17s 4ms/step - loss: 1.2767 - crf_viterbi_accuracy: 0.8937 - val_loss: 1.2978 - val_crf_viterbi_accuracy: 0.8942\n",
      "\n",
      "Epoch 00005: val_loss improved from inf to 1.29779, saving model to ../checkpoints/_entity_model05-0.89.h5\n",
      "Epoch 6/50\n",
      "4050/4050 [==============================] - 17s 4ms/step - loss: 1.2654 - crf_viterbi_accuracy: 0.8986 - val_loss: 1.2888 - val_crf_viterbi_accuracy: 0.8963\n",
      "Epoch 7/50\n",
      "4050/4050 [==============================] - 17s 4ms/step - loss: 1.2571 - crf_viterbi_accuracy: 0.9022 - val_loss: 1.2824 - val_crf_viterbi_accuracy: 0.9047\n",
      "Epoch 8/50\n",
      "4050/4050 [==============================] - 17s 4ms/step - loss: 1.2510 - crf_viterbi_accuracy: 0.9040 - val_loss: 1.2765 - val_crf_viterbi_accuracy: 0.9052\n",
      "Epoch 9/50\n",
      "4050/4050 [==============================] - 18s 4ms/step - loss: 1.2455 - crf_viterbi_accuracy: 0.9063 - val_loss: 1.2723 - val_crf_viterbi_accuracy: 0.9061\n",
      "Epoch 10/50\n",
      "4050/4050 [==============================] - 17s 4ms/step - loss: 1.2404 - crf_viterbi_accuracy: 0.9089 - val_loss: 1.2688 - val_crf_viterbi_accuracy: 0.9095\n",
      "\n",
      "Epoch 00010: val_loss improved from 1.29779 to 1.26884, saving model to ../checkpoints/_entity_model10-0.91.h5\n",
      "Epoch 11/50\n",
      "4050/4050 [==============================] - 18s 4ms/step - loss: 1.2367 - crf_viterbi_accuracy: 0.9109 - val_loss: 1.2654 - val_crf_viterbi_accuracy: 0.9096\n",
      "Epoch 12/50\n",
      "4050/4050 [==============================] - 18s 4ms/step - loss: 1.2325 - crf_viterbi_accuracy: 0.9131 - val_loss: 1.2627 - val_crf_viterbi_accuracy: 0.9099\n",
      "Epoch 13/50\n",
      "4050/4050 [==============================] - 17s 4ms/step - loss: 1.2289 - crf_viterbi_accuracy: 0.9133 - val_loss: 1.2608 - val_crf_viterbi_accuracy: 0.9129\n",
      "Epoch 14/50\n",
      "4050/4050 [==============================] - 17s 4ms/step - loss: 1.2262 - crf_viterbi_accuracy: 0.9151 - val_loss: 1.2582 - val_crf_viterbi_accuracy: 0.9122\n",
      "Epoch 15/50\n",
      "4050/4050 [==============================] - 17s 4ms/step - loss: 1.2239 - crf_viterbi_accuracy: 0.9174 - val_loss: 1.2566 - val_crf_viterbi_accuracy: 0.9139\n",
      "\n",
      "Epoch 00015: val_loss improved from 1.26884 to 1.25658, saving model to ../checkpoints/_entity_model15-0.91.h5\n",
      "Epoch 16/50\n",
      "4050/4050 [==============================] - 18s 4ms/step - loss: 1.2210 - crf_viterbi_accuracy: 0.9191 - val_loss: 1.2554 - val_crf_viterbi_accuracy: 0.9176\n",
      "Epoch 17/50\n",
      "4050/4050 [==============================] - 17s 4ms/step - loss: 1.2186 - crf_viterbi_accuracy: 0.9193 - val_loss: 1.2549 - val_crf_viterbi_accuracy: 0.9162\n",
      "Epoch 18/50\n",
      "4050/4050 [==============================] - 17s 4ms/step - loss: 1.2159 - crf_viterbi_accuracy: 0.9201 - val_loss: 1.2527 - val_crf_viterbi_accuracy: 0.9171\n",
      "Epoch 19/50\n",
      "4050/4050 [==============================] - 17s 4ms/step - loss: 1.2147 - crf_viterbi_accuracy: 0.9219 - val_loss: 1.2514 - val_crf_viterbi_accuracy: 0.9189\n",
      "Epoch 20/50\n",
      "4050/4050 [==============================] - 17s 4ms/step - loss: 1.2124 - crf_viterbi_accuracy: 0.9220 - val_loss: 1.2509 - val_crf_viterbi_accuracy: 0.9195\n",
      "\n",
      "Epoch 00020: val_loss improved from 1.25658 to 1.25085, saving model to ../checkpoints/_entity_model20-0.92.h5\n",
      "Epoch 21/50\n",
      "4050/4050 [==============================] - 17s 4ms/step - loss: 1.2106 - crf_viterbi_accuracy: 0.9230 - val_loss: 1.2500 - val_crf_viterbi_accuracy: 0.9194\n",
      "Epoch 22/50\n",
      "4050/4050 [==============================] - 18s 4ms/step - loss: 1.2086 - crf_viterbi_accuracy: 0.9235 - val_loss: 1.2481 - val_crf_viterbi_accuracy: 0.9165\n",
      "Epoch 23/50\n",
      "4050/4050 [==============================] - 17s 4ms/step - loss: 1.2077 - crf_viterbi_accuracy: 0.9231 - val_loss: 1.2471 - val_crf_viterbi_accuracy: 0.9185\n",
      "Epoch 24/50\n",
      "4050/4050 [==============================] - 17s 4ms/step - loss: 1.2060 - crf_viterbi_accuracy: 0.9244 - val_loss: 1.2464 - val_crf_viterbi_accuracy: 0.9181\n",
      "Epoch 25/50\n",
      "4050/4050 [==============================] - 17s 4ms/step - loss: 1.2042 - crf_viterbi_accuracy: 0.9256 - val_loss: 1.2463 - val_crf_viterbi_accuracy: 0.9227\n",
      "\n",
      "Epoch 00025: val_loss improved from 1.25085 to 1.24632, saving model to ../checkpoints/_entity_model25-0.92.h5\n",
      "Epoch 26/50\n",
      "4050/4050 [==============================] - 17s 4ms/step - loss: 1.2027 - crf_viterbi_accuracy: 0.9263 - val_loss: 1.2447 - val_crf_viterbi_accuracy: 0.9200\n",
      "Epoch 27/50\n",
      "4050/4050 [==============================] - 18s 4ms/step - loss: 1.2007 - crf_viterbi_accuracy: 0.9269 - val_loss: 1.2449 - val_crf_viterbi_accuracy: 0.9225\n",
      "Epoch 28/50\n",
      "4050/4050 [==============================] - 17s 4ms/step - loss: 1.1999 - crf_viterbi_accuracy: 0.9275 - val_loss: 1.2435 - val_crf_viterbi_accuracy: 0.9223\n",
      "Epoch 29/50\n",
      "4050/4050 [==============================] - 18s 4ms/step - loss: 1.1981 - crf_viterbi_accuracy: 0.9280 - val_loss: 1.2424 - val_crf_viterbi_accuracy: 0.9208\n",
      "Epoch 30/50\n",
      "4050/4050 [==============================] - 17s 4ms/step - loss: 1.1973 - crf_viterbi_accuracy: 0.9282 - val_loss: 1.2417 - val_crf_viterbi_accuracy: 0.9222\n",
      "\n",
      "Epoch 00030: val_loss improved from 1.24632 to 1.24170, saving model to ../checkpoints/_entity_model30-0.92.h5\n",
      "Epoch 00030: early stopping\n"
     ]
    }
   ],
   "source": [
    "# callbacks\n",
    "from keras.callbacks import ReduceLROnPlateau, EarlyStopping, TerminateOnNaN, ModelCheckpoint\n",
    "cb_redlr = ReduceLROnPlateau(monitor='val_crf_viterbi_accuracy', factor=0.5, patience=3, min_lr=0.0001, verbose=1)\n",
    "cb_early = EarlyStopping(monitor='val_crf_viterbi_accuracy', min_delta=0, patience=5, verbose=1)\n",
    "cb_chkpt = ModelCheckpoint('../checkpoints/_'+modelname+'{epoch:02d}-{val_crf_viterbi_accuracy:.2f}.h5', verbose=1, save_best_only=True, save_weights_only=True, period=5)\n",
    "\n",
    "callbacks_list=[cb_redlr, cb_early, cb_chkpt]\n",
    "\n",
    "# start training\n",
    "log = model.fit(X_train, np.array(y_train), batch_size=32, epochs=50,\n",
    "                callbacks=callbacks_list,\n",
    "                validation_split=0.1, verbose=1)"
   ]
  },
  {
   "cell_type": "code",
   "execution_count": 8,
   "metadata": {},
   "outputs": [
    {
     "data": {
      "image/png": "[encoded data removed]",
      "text/plain": [
       "<Figure size 864x864 with 1 Axes>"
      ]
     },
     "metadata": {},
     "output_type": "display_data"
    }
   ],
   "source": [
    "# plot accuracies\n",
    "import pandas as pd\n",
    "hist = pd.DataFrame(log.history)\n",
    "# print(hist)\n",
    "%matplotlib inline\n",
    "import matplotlib.pyplot as plt\n",
    "plt.style.use(\"ggplot\")\n",
    "plt.figure(figsize=(12,12))\n",
    "plt.plot(hist[\"crf_viterbi_accuracy\"], label='Training accuracy')\n",
    "plt.plot(hist[\"val_crf_viterbi_accuracy\"], label='Validation accuracy')\n",
    "plt.legend()\n",
    "plt.show()"
   ]
  },
  {
   "cell_type": "code",
   "execution_count": 9,
   "metadata": {},
   "outputs": [],
   "source": [
    "# save model\n",
    "from keras_contrib.utils import save_load_utils\n",
    "with open('../models/' + modelname + '.json', 'w') as f:\n",
    "    f.write(model.to_json())\n",
    "# save weights\n",
    "save_load_utils.save_all_weights(model, '../models/'+modelname+'.h5')"
   ]
  },
  {
   "cell_type": "code",
   "execution_count": 10,
   "metadata": {},
   "outputs": [
    {
     "name": "stderr",
     "output_type": "stream",
     "text": [
      "/mpqa/miniconda3/envs/kbqa/lib/python3.6/site-packages/keras_contrib/layers/crf.py:346: UserWarning: CRF.loss_function is deprecated and it might be removed in the future. Please use losses.crf_loss instead.\n",
      "  warnings.warn('CRF.loss_function is deprecated '\n",
      "/mpqa/miniconda3/envs/kbqa/lib/python3.6/site-packages/keras_contrib/layers/crf.py:353: UserWarning: CRF.accuracy is deprecated and it might be removed in the future. Please use metrics.crf_accuracy\n",
      "  warnings.warn('CRF.accuracy is deprecated and it '\n"
     ]
    },
    {
     "name": "stdout",
     "output_type": "stream",
     "text": [
      "_________________________________________________________________\n",
      "Layer (type)                 Output Shape              Param #   \n",
      "=================================================================\n",
      "input_2 (InputLayer)         (None, 25)                0         \n",
      "_________________________________________________________________\n",
      "embedding_2 (Embedding)      (None, 25, 300)           2134200   \n",
      "_________________________________________________________________\n",
      "bidirectional_2 (Bidirection (None, 25, 100)           140400    \n",
      "_________________________________________________________________\n",
      "time_distributed_2 (TimeDist (None, 25, 50)            5050      \n",
      "_________________________________________________________________\n",
      "crf_2 (CRF)                  (None, 25, 2)             110       \n",
      "=================================================================\n",
      "Total params: 2,279,760\n",
      "Trainable params: 145,560\n",
      "Non-trainable params: 2,134,200\n",
      "_________________________________________________________________\n",
      "500/500 [==============================] - 1s 2ms/step\n",
      "F1-score: 69.2%\n",
      "Precision-score: 70.4%\n",
      "Recall-score: 68.0%\n"
     ]
    }
   ],
   "source": [
    "# load model settings\n",
    "import pickle as pkl\n",
    "with open('%s_%s.pkl'%(dataset_name, embeddings_choice), 'rb') as f:\n",
    "    model_settings = pkl.load(f)\n",
    "model = build_model(model_settings)\n",
    "\n",
    "# load weights\n",
    "model.load_weights('../models/'+modelname+'.h5')\n",
    "\n",
    "# evaluate model on the test set\n",
    "test_pred = model.predict(X_test, verbose=1)\n",
    "\n",
    "idx2tag = {1: 'I', 0: 'O'}\n",
    "pred_labels = [[idx2tag[np.argmax(p)] for p in pred_i] for pred_i in test_pred]\n",
    "test_labels = [[idx2tag[np.argmax(p)] for p in pred_i] for pred_i in y_test]\n",
    "\n",
    "from seqeval.metrics import precision_score, recall_score, f1_score, classification_report\n",
    "print(\"F1-score: {:.1%}\".format(f1_score(test_labels, pred_labels, average='weighted')))\n",
    "print(\"Precision-score: {:.1%}\".format(precision_score(test_labels, pred_labels, average='weighted')))\n",
    "print(\"Recall-score: {:.1%}\".format(recall_score(test_labels, pred_labels, average='weighted')))"
   ]
  },
  {
   "cell_type": "code",
   "execution_count": 11,
   "metadata": {},
   "outputs": [
    {
     "name": "stdout",
     "output_type": "stream",
     "text": [
      "Word           ||True ||Pred\n",
      "==============================\n",
      "what           :     0 0\n",
      "are            :     0 0\n",
      "some           :     0 0\n",
      "musical        :     0 0\n",
      "artists        :     0 0\n",
      "associated     :     0 0\n",
      "with           :     0 0\n",
      "the            :     0 0\n",
      "ones           :     0 0\n",
      "signed         :     0 0\n",
      "up             :     0 0\n",
      "with           :     0 0\n",
      "emi            :     1 1\n"
     ]
    }
   ],
   "source": [
    "# show sample test prediction\n",
    "# i = 1\n",
    "p = model.predict(np.array([X_test[i]]))\n",
    "p = np.argmax(p, axis=-1)\n",
    "true = np.argmax(y_test[i], -1)\n",
    "print(\"{:15}||{:5}||{}\".format(\"Word\", \"True\", \"Pred\"))\n",
    "print(30 * \"=\")\n",
    "for w, t, pred in zip(X_test[i], true, p[0]):\n",
    "    if w != 0:\n",
    "        print(\"{:15}: {:5} {}\".format(words[w-1], t, pred))"
   ]
  },
  {
   "cell_type": "markdown",
   "metadata": {},
   "source": [
    "## Predicate mentions"
   ]
  },
  {
   "cell_type": "code",
   "execution_count": 12,
   "metadata": {},
   "outputs": [
    {
     "name": "stdout",
     "output_type": "stream",
     "text": [
      "Training on 4500 samples testing on 500 samples\n"
     ]
    }
   ],
   "source": [
    "# train entity mention span model\n",
    "y = y_p\n",
    "modelname = 'predicate_model'\n",
    "\n",
    "# prepare data\n",
    "y = pad_sequences(maxlen=max_len, sequences=y, padding=\"post\", value=0)\n",
    "from keras.utils import to_categorical\n",
    "y = [to_categorical(i, num_classes=n_tags) for i in y]\n",
    "\n",
    "# split dataset into training and testing subsets\n",
    "from sklearn.model_selection import train_test_split\n",
    "X_train, X_test, y_train, y_test = train_test_split(X, y, test_size=0.1)\n",
    "print(\"Training on %d samples testing on %d samples\" % (len(X_train), len(X_test)))"
   ]
  },
  {
   "cell_type": "code",
   "execution_count": 13,
   "metadata": {},
   "outputs": [
    {
     "name": "stdout",
     "output_type": "stream",
     "text": [
      "Train on 4050 samples, validate on 450 samples\n",
      "Epoch 1/50\n",
      "4050/4050 [==============================] - 20s 5ms/step - loss: 1.9275 - crf_viterbi_accuracy: 0.6716 - val_loss: 1.6588 - val_crf_viterbi_accuracy: 0.7395\n",
      "Epoch 2/50\n",
      "4050/4050 [==============================] - 17s 4ms/step - loss: 1.6104 - crf_viterbi_accuracy: 0.7698 - val_loss: 1.5009 - val_crf_viterbi_accuracy: 0.7851\n",
      "Epoch 3/50\n",
      "4050/4050 [==============================] - 18s 4ms/step - loss: 1.5024 - crf_viterbi_accuracy: 0.8010 - val_loss: 1.4344 - val_crf_viterbi_accuracy: 0.8096\n",
      "Epoch 4/50\n",
      "4050/4050 [==============================] - 18s 4ms/step - loss: 1.4505 - crf_viterbi_accuracy: 0.8208 - val_loss: 1.3955 - val_crf_viterbi_accuracy: 0.8255\n",
      "Epoch 5/50\n",
      "4050/4050 [==============================] - 17s 4ms/step - loss: 1.4192 - crf_viterbi_accuracy: 0.8371 - val_loss: 1.3712 - val_crf_viterbi_accuracy: 0.8421\n",
      "\n",
      "Epoch 00005: val_loss improved from inf to 1.37120, saving model to ../checkpoints/_predicate_model05-0.84.h5\n",
      "Epoch 6/50\n",
      "4050/4050 [==============================] - 17s 4ms/step - loss: 1.3986 - crf_viterbi_accuracy: 0.8475 - val_loss: 1.3542 - val_crf_viterbi_accuracy: 0.8537\n",
      "Epoch 7/50\n",
      "4050/4050 [==============================] - 17s 4ms/step - loss: 1.3829 - crf_viterbi_accuracy: 0.8569 - val_loss: 1.3418 - val_crf_viterbi_accuracy: 0.8585\n",
      "Epoch 8/50\n",
      "4050/4050 [==============================] - 18s 4ms/step - loss: 1.3715 - crf_viterbi_accuracy: 0.8610 - val_loss: 1.3323 - val_crf_viterbi_accuracy: 0.8623\n",
      "Epoch 9/50\n",
      "4050/4050 [==============================] - 18s 4ms/step - loss: 1.3622 - crf_viterbi_accuracy: 0.8658 - val_loss: 1.3245 - val_crf_viterbi_accuracy: 0.8669\n",
      "Epoch 10/50\n",
      "4050/4050 [==============================] - 18s 4ms/step - loss: 1.3552 - crf_viterbi_accuracy: 0.8704 - val_loss: 1.3184 - val_crf_viterbi_accuracy: 0.8700\n",
      "\n",
      "Epoch 00010: val_loss improved from 1.37120 to 1.31837, saving model to ../checkpoints/_predicate_model10-0.87.h5\n",
      "Epoch 11/50\n",
      "4050/4050 [==============================] - 18s 4ms/step - loss: 1.3489 - crf_viterbi_accuracy: 0.8728 - val_loss: 1.3129 - val_crf_viterbi_accuracy: 0.8725\n",
      "Epoch 12/50\n",
      "4050/4050 [==============================] - 17s 4ms/step - loss: 1.3437 - crf_viterbi_accuracy: 0.8754 - val_loss: 1.3087 - val_crf_viterbi_accuracy: 0.8748\n",
      "Epoch 13/50\n",
      "4050/4050 [==============================] - 17s 4ms/step - loss: 1.3396 - crf_viterbi_accuracy: 0.8786 - val_loss: 1.3047 - val_crf_viterbi_accuracy: 0.8755\n",
      "Epoch 14/50\n",
      "4050/4050 [==============================] - 17s 4ms/step - loss: 1.3354 - crf_viterbi_accuracy: 0.8797 - val_loss: 1.3019 - val_crf_viterbi_accuracy: 0.8776\n",
      "Epoch 15/50\n",
      "4050/4050 [==============================] - 18s 4ms/step - loss: 1.3322 - crf_viterbi_accuracy: 0.8813 - val_loss: 1.2989 - val_crf_viterbi_accuracy: 0.8782\n",
      "\n",
      "Epoch 00015: val_loss improved from 1.31837 to 1.29890, saving model to ../checkpoints/_predicate_model15-0.88.h5\n",
      "Epoch 16/50\n",
      "4050/4050 [==============================] - 18s 4ms/step - loss: 1.3287 - crf_viterbi_accuracy: 0.8833 - val_loss: 1.2958 - val_crf_viterbi_accuracy: 0.8813\n",
      "Epoch 17/50\n",
      "4050/4050 [==============================] - 17s 4ms/step - loss: 1.3267 - crf_viterbi_accuracy: 0.8847 - val_loss: 1.2938 - val_crf_viterbi_accuracy: 0.8831\n",
      "Epoch 18/50\n",
      "4050/4050 [==============================] - 17s 4ms/step - loss: 1.3235 - crf_viterbi_accuracy: 0.8863 - val_loss: 1.2916 - val_crf_viterbi_accuracy: 0.8835\n",
      "Epoch 19/50\n",
      "4050/4050 [==============================] - 18s 4ms/step - loss: 1.3218 - crf_viterbi_accuracy: 0.8869 - val_loss: 1.2894 - val_crf_viterbi_accuracy: 0.8848\n",
      "Epoch 20/50\n",
      "4050/4050 [==============================] - 18s 4ms/step - loss: 1.3196 - crf_viterbi_accuracy: 0.8878 - val_loss: 1.2878 - val_crf_viterbi_accuracy: 0.8864\n",
      "\n",
      "Epoch 00020: val_loss improved from 1.29890 to 1.28783, saving model to ../checkpoints/_predicate_model20-0.89.h5\n",
      "Epoch 21/50\n",
      "4050/4050 [==============================] - 18s 4ms/step - loss: 1.3172 - crf_viterbi_accuracy: 0.8903 - val_loss: 1.2863 - val_crf_viterbi_accuracy: 0.8863\n",
      "Epoch 22/50\n",
      "4050/4050 [==============================] - 18s 4ms/step - loss: 1.3155 - crf_viterbi_accuracy: 0.8899 - val_loss: 1.2848 - val_crf_viterbi_accuracy: 0.8892\n",
      "Epoch 23/50\n",
      "4050/4050 [==============================] - 18s 4ms/step - loss: 1.3141 - crf_viterbi_accuracy: 0.8901 - val_loss: 1.2833 - val_crf_viterbi_accuracy: 0.8888\n",
      "Epoch 24/50\n",
      "4050/4050 [==============================] - 18s 4ms/step - loss: 1.3116 - crf_viterbi_accuracy: 0.8911 - val_loss: 1.2828 - val_crf_viterbi_accuracy: 0.8888\n",
      "Epoch 25/50\n",
      "4050/4050 [==============================] - 18s 4ms/step - loss: 1.3104 - crf_viterbi_accuracy: 0.8927 - val_loss: 1.2814 - val_crf_viterbi_accuracy: 0.8898\n",
      "\n",
      "Epoch 00025: val_loss improved from 1.28783 to 1.28139, saving model to ../checkpoints/_predicate_model25-0.89.h5\n",
      "Epoch 26/50\n",
      "4050/4050 [==============================] - 19s 5ms/step - loss: 1.3091 - crf_viterbi_accuracy: 0.8923 - val_loss: 1.2798 - val_crf_viterbi_accuracy: 0.8906\n",
      "Epoch 27/50\n",
      "4050/4050 [==============================] - 19s 5ms/step - loss: 1.3076 - crf_viterbi_accuracy: 0.8936 - val_loss: 1.2785 - val_crf_viterbi_accuracy: 0.8914\n",
      "Epoch 28/50\n",
      "4050/4050 [==============================] - 19s 5ms/step - loss: 1.3065 - crf_viterbi_accuracy: 0.8943 - val_loss: 1.2778 - val_crf_viterbi_accuracy: 0.8926\n",
      "Epoch 29/50\n",
      "4050/4050 [==============================] - 19s 5ms/step - loss: 1.3059 - crf_viterbi_accuracy: 0.8946 - val_loss: 1.2766 - val_crf_viterbi_accuracy: 0.8928\n",
      "Epoch 30/50\n",
      "4050/4050 [==============================] - 19s 5ms/step - loss: 1.3036 - crf_viterbi_accuracy: 0.8959 - val_loss: 1.2756 - val_crf_viterbi_accuracy: 0.8940\n",
      "\n",
      "Epoch 00030: val_loss improved from 1.28139 to 1.27565, saving model to ../checkpoints/_predicate_model30-0.89.h5\n",
      "Epoch 31/50\n",
      "4050/4050 [==============================] - 19s 5ms/step - loss: 1.3029 - crf_viterbi_accuracy: 0.8960 - val_loss: 1.2745 - val_crf_viterbi_accuracy: 0.8932\n",
      "Epoch 32/50\n",
      "4050/4050 [==============================] - 19s 5ms/step - loss: 1.3018 - crf_viterbi_accuracy: 0.8955 - val_loss: 1.2744 - val_crf_viterbi_accuracy: 0.8929\n",
      "Epoch 33/50\n",
      "4050/4050 [==============================] - 19s 5ms/step - loss: 1.3010 - crf_viterbi_accuracy: 0.8958 - val_loss: 1.2733 - val_crf_viterbi_accuracy: 0.8948\n",
      "Epoch 34/50\n",
      "4050/4050 [==============================] - 19s 5ms/step - loss: 1.2999 - crf_viterbi_accuracy: 0.8975 - val_loss: 1.2721 - val_crf_viterbi_accuracy: 0.8950\n",
      "Epoch 35/50\n",
      "4050/4050 [==============================] - 19s 5ms/step - loss: 1.2984 - crf_viterbi_accuracy: 0.8983 - val_loss: 1.2716 - val_crf_viterbi_accuracy: 0.8958\n",
      "\n",
      "Epoch 00035: val_loss improved from 1.27565 to 1.27158, saving model to ../checkpoints/_predicate_model35-0.90.h5\n",
      "Epoch 36/50\n",
      "4050/4050 [==============================] - 19s 5ms/step - loss: 1.2974 - crf_viterbi_accuracy: 0.8989 - val_loss: 1.2709 - val_crf_viterbi_accuracy: 0.8960\n",
      "Epoch 37/50\n",
      "4050/4050 [==============================] - 19s 5ms/step - loss: 1.2963 - crf_viterbi_accuracy: 0.8987 - val_loss: 1.2703 - val_crf_viterbi_accuracy: 0.8956\n",
      "Epoch 38/50\n",
      "4050/4050 [==============================] - 19s 5ms/step - loss: 1.2951 - crf_viterbi_accuracy: 0.9002 - val_loss: 1.2694 - val_crf_viterbi_accuracy: 0.8957\n",
      "Epoch 39/50\n",
      "4050/4050 [==============================] - 19s 5ms/step - loss: 1.2941 - crf_viterbi_accuracy: 0.9006 - val_loss: 1.2687 - val_crf_viterbi_accuracy: 0.8975\n",
      "Epoch 40/50\n",
      "4050/4050 [==============================] - 19s 5ms/step - loss: 1.2933 - crf_viterbi_accuracy: 0.9002 - val_loss: 1.2681 - val_crf_viterbi_accuracy: 0.8986\n",
      "\n",
      "Epoch 00040: val_loss improved from 1.27158 to 1.26813, saving model to ../checkpoints/_predicate_model40-0.90.h5\n",
      "Epoch 41/50\n",
      "4050/4050 [==============================] - 19s 5ms/step - loss: 1.2923 - crf_viterbi_accuracy: 0.9007 - val_loss: 1.2680 - val_crf_viterbi_accuracy: 0.8984\n",
      "Epoch 42/50\n",
      "4050/4050 [==============================] - 19s 5ms/step - loss: 1.2918 - crf_viterbi_accuracy: 0.9010 - val_loss: 1.2670 - val_crf_viterbi_accuracy: 0.8989\n",
      "Epoch 43/50\n"
     ]
    },
    {
     "name": "stdout",
     "output_type": "stream",
     "text": [
      "4050/4050 [==============================] - 19s 5ms/step - loss: 1.2909 - crf_viterbi_accuracy: 0.9006 - val_loss: 1.2666 - val_crf_viterbi_accuracy: 0.9000\n",
      "Epoch 44/50\n",
      "4050/4050 [==============================] - 19s 5ms/step - loss: 1.2898 - crf_viterbi_accuracy: 0.9016 - val_loss: 1.2667 - val_crf_viterbi_accuracy: 0.8983\n",
      "Epoch 45/50\n",
      "4050/4050 [==============================] - 19s 5ms/step - loss: 1.2888 - crf_viterbi_accuracy: 0.9022 - val_loss: 1.2656 - val_crf_viterbi_accuracy: 0.9006\n",
      "\n",
      "Epoch 00045: val_loss improved from 1.26813 to 1.26556, saving model to ../checkpoints/_predicate_model45-0.90.h5\n",
      "Epoch 46/50\n",
      "4050/4050 [==============================] - 19s 5ms/step - loss: 1.2884 - crf_viterbi_accuracy: 0.9034 - val_loss: 1.2656 - val_crf_viterbi_accuracy: 0.8998\n",
      "Epoch 47/50\n",
      "4050/4050 [==============================] - 19s 5ms/step - loss: 1.2873 - crf_viterbi_accuracy: 0.9030 - val_loss: 1.2644 - val_crf_viterbi_accuracy: 0.9012\n",
      "Epoch 48/50\n",
      "4050/4050 [==============================] - 19s 5ms/step - loss: 1.2865 - crf_viterbi_accuracy: 0.9039 - val_loss: 1.2647 - val_crf_viterbi_accuracy: 0.9006\n",
      "Epoch 49/50\n",
      "4050/4050 [==============================] - 19s 5ms/step - loss: 1.2860 - crf_viterbi_accuracy: 0.9033 - val_loss: 1.2643 - val_crf_viterbi_accuracy: 0.9004\n",
      "Epoch 50/50\n",
      "4050/4050 [==============================] - 19s 5ms/step - loss: 1.2841 - crf_viterbi_accuracy: 0.9041 - val_loss: 1.2636 - val_crf_viterbi_accuracy: 0.9016\n",
      "\n",
      "Epoch 00050: val_loss improved from 1.26556 to 1.26365, saving model to ../checkpoints/_predicate_model50-0.90.h5\n"
     ]
    }
   ],
   "source": [
    "# callbacks\n",
    "from keras.callbacks import ReduceLROnPlateau, EarlyStopping, TerminateOnNaN, ModelCheckpoint\n",
    "cb_redlr = ReduceLROnPlateau(monitor='val_crf_viterbi_accuracy', factor=0.5, patience=3, min_lr=0.0001, verbose=1)\n",
    "cb_early = EarlyStopping(monitor='val_crf_viterbi_accuracy', min_delta=0, patience=5, verbose=1)\n",
    "cb_chkpt = ModelCheckpoint('../checkpoints/_'+modelname+'{epoch:02d}-{val_crf_viterbi_accuracy:.2f}.h5', verbose=1, save_best_only=True, save_weights_only=True, period=5)\n",
    "\n",
    "callbacks_list=[cb_redlr, cb_early, cb_chkpt]\n",
    "\n",
    "# start training\n",
    "log = model.fit(X_train, np.array(y_train), batch_size=32, epochs=50,\n",
    "                callbacks=callbacks_list,\n",
    "                validation_split=0.1, verbose=1)"
   ]
  },
  {
   "cell_type": "code",
   "execution_count": 14,
   "metadata": {},
   "outputs": [
    {
     "data": {
      "image/png": "[encoded data removed]",
      "text/plain": [
       "<Figure size 864x864 with 1 Axes>"
      ]
     },
     "metadata": {},
     "output_type": "display_data"
    }
   ],
   "source": [
    "# plot accuracies\n",
    "import pandas as pd\n",
    "hist = pd.DataFrame(log.history)\n",
    "# print(hist)\n",
    "%matplotlib inline\n",
    "import matplotlib.pyplot as plt\n",
    "plt.style.use(\"ggplot\")\n",
    "plt.figure(figsize=(12,12))\n",
    "plt.plot(hist[\"crf_viterbi_accuracy\"], label='Training accuracy')\n",
    "plt.plot(hist[\"val_crf_viterbi_accuracy\"], label='Validation accuracy')\n",
    "plt.legend()\n",
    "plt.show()"
   ]
  },
  {
   "cell_type": "code",
   "execution_count": 15,
   "metadata": {},
   "outputs": [
    {
     "name": "stdout",
     "output_type": "stream",
     "text": [
      "500/500 [==============================] - 1s 2ms/step\n",
      "F1-score: 59.6%\n"
     ]
    }
   ],
   "source": [
    "# save model\n",
    "from keras_contrib.utils import save_load_utils\n",
    "with open('../models/' + modelname + '.json', 'w') as f:\n",
    "    f.write(model.to_json())\n",
    "# save weights\n",
    "save_load_utils.save_all_weights(model, '../models/'+modelname+'.h5')\n",
    "\n",
    "# load weights\n",
    "model.load_weights('../models/'+modelname+'.h5')\n",
    "\n",
    "# evaluate model on the test set\n",
    "test_pred = model.predict(X_test, verbose=1)\n",
    "\n",
    "idx2tag = {1: 'I', 0: 'O'}\n",
    "pred_labels = [[idx2tag[np.argmax(p)] for p in pred_i] for pred_i in test_pred]\n",
    "test_labels = [[idx2tag[np.argmax(p)] for p in pred_i] for pred_i in y_test]\n",
    "\n",
    "from seqeval.metrics import precision_score, recall_score, f1_score, classification_report\n",
    "print(\"F1-score: {:.1%}\".format(f1_score(test_labels, pred_labels, average='weighted')))"
   ]
  },
  {
   "cell_type": "code",
   "execution_count": 16,
   "metadata": {},
   "outputs": [
    {
     "name": "stdout",
     "output_type": "stream",
     "text": [
      "Word           ||True ||Pred\n",
      "==============================\n",
      "who            :     0 0\n",
      "are            :     0 0\n",
      "the            :     1 0\n",
      "judges         :     1 1\n",
      "of             :     0 0\n",
      "the            :     1 0\n",
      "television     :     1 1\n",
      "show           :     1 0\n",
      "whose          :     0 0\n",
      "anchor         :     0 1\n",
      "is             :     0 0\n",
      "josh           :     0 0\n",
      "groban         :     0 0\n"
     ]
    }
   ],
   "source": [
    "# show sample test prediction\n",
    "i = 1\n",
    "p = model.predict(np.array([X_test[i]]))\n",
    "p = np.argmax(p, axis=-1)\n",
    "true = np.argmax(y_test[i], -1)\n",
    "print(\"{:15}||{:5}||{}\".format(\"Word\", \"True\", \"Pred\"))\n",
    "print(30 * \"=\")\n",
    "for w, t, pred in zip(X_test[i], true, p[0]):\n",
    "    if w != 0:\n",
    "        print(\"{:15}: {:5} {}\".format(words[w-1], t, pred))"
   ]
  },
  {
   "cell_type": "code",
   "execution_count": null,
   "metadata": {},
   "outputs": [],
   "source": []
  }
 ],
 "metadata": {
  "kernelspec": {
   "display_name": "Python 3",
   "language": "python",
   "name": "python3"
  },
  "language_info": {
   "codemirror_mode": {
    "name": "ipython",
    "version": 3
   },
   "file_extension": ".py",
   "mimetype": "text/x-python",
   "name": "python",
   "nbconvert_exporter": "python",
   "pygments_lexer": "ipython3",
   "version": "3.6.13"
  }
 },
 "nbformat": 4,
 "nbformat_minor": 2
}
