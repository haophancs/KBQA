{
 "cells": [
  {
   "cell_type": "markdown",
   "metadata": {},
   "source": [
    "# Mentions Extraction for KBQA\n",
    "\n",
    "Parsing question into entities and predicate mentions text spans.\n",
    "\n",
    "bi-LSTM + CRF  \n",
    "https://github.com/UKPLab/emnlp2017-bilstm-cnn-crf  \n",
    "https://www.depends-on-the-definition.com/sequence-tagging-lstm-crf/  \n",
    "https://github.com/SNUDerek/multiLSTM  "
   ]
  },
  {
   "cell_type": "code",
   "execution_count": 2,
   "metadata": {},
   "outputs": [],
   "source": [
    "# setup\n",
    "dataset_name = 'lcquad'\n",
    "embeddings_choice = 'glove6B100d'\n",
    "\n",
    "import numpy as np\n",
    "# set seed\n",
    "from numpy.random import seed\n",
    "seed(1)\n",
    "from tensorflow import set_random_seed\n",
    "set_random_seed(2)\n",
    "\n",
    "import os\n",
    "os.chdir('/mpqa_new/KBQA/src')\n",
    "\n",
    "# load word frequencies\n",
    "import pickle\n",
    "#wfd = pickle.load(open(\"wfd.pkl\", \"rb\"))\n",
    "\n",
    "# make sure Keras is using the GPU\n",
    "from keras import backend\n",
    "# assert len(backend.tensorflow_backend._get_available_gpus()) > 0\n",
    "\n",
    "# load pre-trained word embeddings\n",
    "from pymagnitude import *\n",
    "embeddings_path = \"/mpqa_new/KBQA/data/embeddings/\"\n",
    "embeddings = {'glove6B100d': \"glove.6B.100d.magnitude\"}\n",
    "vectors = Magnitude(embeddings_path + embeddings[embeddings_choice])"
   ]
  },
  {
   "cell_type": "code",
   "execution_count": 4,
   "metadata": {},
   "outputs": [
    {
     "name": "stdout",
     "output_type": "stream",
     "text": [
      "--2021-08-10 14:15:21--  https://raw.githubusercontent.com/AskNowQA/EARL/master/data/lcquad.json\n",
      "Resolving raw.githubusercontent.com (raw.githubusercontent.com)... 185.199.109.133, 185.199.110.133, 185.199.108.133, ...\n",
      "Connecting to raw.githubusercontent.com (raw.githubusercontent.com)|185.199.109.133|:443... connected.\n",
      "HTTP request sent, awaiting response... 200 OK\n",
      "Length: 5505752 (5.2M) [text/plain]\n",
      "Saving to: '../data/lcquad.json'\n",
      "\n",
      "lcquad.json         100%[===================>]   5.25M  --.-KB/s    in 0.1s    \n",
      "\n",
      "2021-08-10 14:15:22 (43.3 MB/s) - '../data/lcquad.json' saved [5505752/5505752]\n",
      "\n"
     ]
    }
   ],
   "source": [
    "!wget https://raw.githubusercontent.com/AskNowQA/EARL/master/data/lcquad.json -P ../data/"
   ]
  },
  {
   "cell_type": "code",
   "execution_count": 6,
   "metadata": {},
   "outputs": [
    {
     "name": "stdout",
     "output_type": "stream",
     "text": [
      "Loaded 5000/5000 lcquad questions\n"
     ]
    }
   ],
   "source": [
    "# load lcquad span annotations\n",
    "# wget https://raw.githubusercontent.com/AskNowQA/EARL/master/data/lcquad.json\n",
    "import json\n",
    "with open(\"../data/%s.json\"%dataset_name, \"r\", encoding='utf-8') as file:\n",
    "    qas = json.load(file)\n",
    "\n",
    "# prepare data for entity and predicate mention extraction models training via sequence tagging\n",
    "limit = 5000\n",
    "from keras.preprocessing.text import text_to_word_sequence\n",
    "\n",
    "questions = []\n",
    "n_words_distr = []\n",
    "\n",
    "e_spans = []\n",
    "y_e = []\n",
    "correct_entities_uris = []\n",
    "\n",
    "p_spans = []\n",
    "y_p = []\n",
    "correct_predicates_uris = []\n",
    "\n",
    "for q in qas[:limit]:\n",
    "    # parse question\n",
    "    question_o = q['question']\n",
    "    words = text_to_word_sequence(question_o)\n",
    "    n_words_distr.append(len(words))\n",
    "    questions.append(words)\n",
    "\n",
    "    # generate IO tags from mention spans\n",
    "    entity_spans = [e['label'].lower().split() for e in q['entity mapping']]\n",
    "    e_spans.append(entity_spans)\n",
    "    y_e.append([1 if word in [entity for entity_span in entity_spans for entity in entity_span] else 0 for word in words])\n",
    "    correct_entities_uris.append([e['uri'] for e in q['entity mapping']])\n",
    "    \n",
    "    predicate_spans = [e['label'].lower().split() for e in q['predicate mapping']]\n",
    "    p_spans.append(predicate_spans)\n",
    "    y_p.append([1 if word in [entity for entity_span in predicate_spans for entity in entity_span] else 0 for word in words])\n",
    "    correct_predicates_uris.append([e['uri'] for e in q['predicate mapping']])\n",
    "\n",
    "dataset_size = len(questions)\n",
    "print(\"Loaded %d/%d %s questions\"%(dataset_size, len(qas), dataset_name))"
   ]
  },
  {
   "cell_type": "code",
   "execution_count": 7,
   "metadata": {},
   "outputs": [
    {
     "name": "stdout",
     "output_type": "stream",
     "text": [
      "Was winston churchill the prime minister of Selwyn Lloyd?\n",
      "\n",
      "\n",
      "[['selwyn', 'lloyd'], ['winston', 'churchill']]\n",
      "[0, 1, 1, 0, 0, 0, 0, 1, 1]\n",
      "['http://dbpedia.org/resource/Selwyn_Lloyd', 'http://dbpedia.org/resource/Winston_Churchill']\n",
      "\n",
      "\n",
      "[['prime', 'minister']]\n",
      "[0, 0, 0, 0, 1, 1, 0, 0, 0]\n",
      "['http://dbpedia.org/ontology/primeMinister']\n"
     ]
    }
   ],
   "source": [
    "# show sample question\n",
    "i = 1\n",
    "question_o = qas[i]['question']\n",
    "print(question_o)\n",
    "print('\\n')\n",
    "print(e_spans[i])\n",
    "print(y_e[i])\n",
    "print(correct_entities_uris[i])\n",
    "print('\\n')\n",
    "print(p_spans[i])\n",
    "print(y_p[i])\n",
    "print(correct_predicates_uris[i])"
   ]
  },
  {
   "cell_type": "code",
   "execution_count": 29,
   "metadata": {},
   "outputs": [
    {
     "name": "stdout",
     "output_type": "stream",
     "text": [
      "Number of unique words 7113\n",
      "Maximum question length in the dataset: 25\n",
      "916 OOV words\n",
      "Model settings saved.\n"
     ]
    }
   ],
   "source": [
    "# load pre-trained embeddings for question words\n",
    "words = list(set([word for q in questions for word in q]))\n",
    "n_words = len(words)\n",
    "print(\"Number of unique words %d\"%len(words))\n",
    "word2idx = {w: i + 1 for i, w in enumerate(words)}\n",
    "\n",
    "# dataset parameters for training the model\n",
    "max_len = max(n_words_distr)\n",
    "print(\"Maximum question length in the dataset: %d\"%max_len)\n",
    "n_tags = 2\n",
    "\n",
    "# prepare data and pad the max length with 0s\n",
    "from keras.preprocessing.sequence import pad_sequences\n",
    "X = [[word2idx[w] for w in s] for s in questions]\n",
    "X = pad_sequences(maxlen=max_len, sequences=X, padding=\"post\", value=0)\n",
    "\n",
    "# load embeddings into matrix\n",
    "import math\n",
    "word_embedding_matrix = np.zeros((n_words+1, vectors.dim))\n",
    "\n",
    "n_oov = 0\n",
    "\n",
    "for w in word2idx:\n",
    "    # get the word vector from the embedding model\n",
    "    if w in vectors:\n",
    "        word_vector = vectors.query(w)\n",
    "    # OOV word\n",
    "    else:\n",
    "        n_oov += 1\n",
    "        word_vector = vectors.query('unk')\n",
    "    word_embedding_matrix[word2idx[w]] = word_vector\n",
    "\n",
    "# loaded vector # may be lower than total vocab due to w2v settings\n",
    "print('%d OOV words'%n_oov)\n",
    "\n",
    "model_settings = {'embeddings': word_embedding_matrix, 'word2idx': word2idx,\n",
    "                  'max_len': max_len, 'n_words': n_words, 'n_tags': n_tags, 'emb_dim': vectors.dim}\n",
    "\n",
    "# save model settings\n",
    "import pickle as pkl\n",
    "f = open('%s_%s.pkl'%(dataset_name, embeddings_choice), 'wb')\n",
    "pkl.dump(model_settings, f, -1)\n",
    "f.close()\n",
    "print(\"Model settings saved.\")"
   ]
  },
  {
   "cell_type": "code",
   "execution_count": 30,
   "metadata": {},
   "outputs": [
    {
     "name": "stdout",
     "output_type": "stream",
     "text": [
      "_________________________________________________________________\n",
      "Layer (type)                 Output Shape              Param #   \n",
      "=================================================================\n",
      "input_4 (InputLayer)         (None, 25)                0         \n",
      "_________________________________________________________________\n",
      "embedding_4 (Embedding)      (None, 25, 100)           711400    \n",
      "_________________________________________________________________\n",
      "bidirectional_4 (Bidirection (None, 25, 100)           60400     \n",
      "_________________________________________________________________\n",
      "time_distributed_4 (TimeDist (None, 25, 50)            5050      \n",
      "_________________________________________________________________\n",
      "crf_4 (CRF)                  (None, 25, 2)             110       \n",
      "=================================================================\n",
      "Total params: 776,960\n",
      "Trainable params: 65,560\n",
      "Non-trainable params: 711,400\n",
      "_________________________________________________________________\n"
     ]
    }
   ],
   "source": [
    "# build biLSTM-CRF model for mention extraction\n",
    "from keras.models import Model, Input\n",
    "from keras.layers import LSTM, Embedding, Dense, TimeDistributed, Dropout, Bidirectional\n",
    "from keras_contrib.layers import CRF\n",
    "from keras.optimizers import Adam\n",
    "\n",
    "def build_model(model_settings):\n",
    "    # architecture\n",
    "    input = Input(shape=(model_settings['max_len'],))\n",
    "    model = Embedding(input_dim=model_settings['n_words']+1, output_dim=model_settings['emb_dim'],\n",
    "                      weights=[model_settings['embeddings']],\n",
    "                      input_length=model_settings['max_len'], mask_zero=True, trainable=False)(input)\n",
    "    model = Bidirectional(LSTM(units=50, return_sequences=True,\n",
    "                               recurrent_dropout=0.1))(model)  # variational biLSTM\n",
    "    model = TimeDistributed(Dense(50, activation=\"relu\"))(model)  # a dense layer as suggested by neuralNer\n",
    "    crf = CRF(model_settings['n_tags'])  # CRF layer\n",
    "    out = crf(model)  # output\n",
    "    model = Model(input, out)\n",
    "    model.compile(optimizer=Adam(lr=0.0001), loss=crf.loss_function, metrics=[crf.accuracy])\n",
    "    model.summary()\n",
    "    return model\n",
    "\n",
    "model = build_model(model_settings)"
   ]
  },
  {
   "cell_type": "markdown",
   "metadata": {},
   "source": [
    "## Entity mentions"
   ]
  },
  {
   "cell_type": "code",
   "execution_count": 31,
   "metadata": {},
   "outputs": [
    {
     "name": "stdout",
     "output_type": "stream",
     "text": [
      "Training on 4500 samples testing on 500 samples\n"
     ]
    }
   ],
   "source": [
    "# train entity mention span model\n",
    "y = y_e\n",
    "modelname = 'entity_model'\n",
    "\n",
    "# prepare data\n",
    "y = pad_sequences(maxlen=max_len, sequences=y, padding=\"post\", value=0)\n",
    "from keras.utils import to_categorical\n",
    "y = [to_categorical(i, num_classes=n_tags) for i in y]\n",
    "\n",
    "# split dataset into training and testing subsets\n",
    "from sklearn.model_selection import train_test_split\n",
    "X_train, X_test, y_train, y_test = train_test_split(X, y, test_size=0.1)\n",
    "print(\"Training on %d samples testing on %d samples\" % (len(X_train), len(X_test)))"
   ]
  },
  {
   "cell_type": "code",
   "execution_count": 32,
   "metadata": {},
   "outputs": [
    {
     "name": "stdout",
     "output_type": "stream",
     "text": [
      "Train on 4050 samples, validate on 450 samples\n",
      "Epoch 1/50\n",
      "4050/4050 [==============================] - 8s 2ms/step - loss: 1.6562 - crf_viterbi_accuracy: 0.7619 - val_loss: 1.6031 - val_crf_viterbi_accuracy: 0.7877\n",
      "Epoch 2/50\n",
      "4050/4050 [==============================] - 5s 1ms/step - loss: 1.5444 - crf_viterbi_accuracy: 0.7821 - val_loss: 1.5234 - val_crf_viterbi_accuracy: 0.7896\n",
      "Epoch 3/50\n",
      "4050/4050 [==============================] - 5s 1ms/step - loss: 1.4887 - crf_viterbi_accuracy: 0.8085 - val_loss: 1.4698 - val_crf_viterbi_accuracy: 0.8177\n",
      "Epoch 4/50\n",
      "4050/4050 [==============================] - 5s 1ms/step - loss: 1.4389 - crf_viterbi_accuracy: 0.8327 - val_loss: 1.4218 - val_crf_viterbi_accuracy: 0.8449\n",
      "Epoch 5/50\n",
      "4050/4050 [==============================] - 5s 1ms/step - loss: 1.4006 - crf_viterbi_accuracy: 0.8521 - val_loss: 1.3932 - val_crf_viterbi_accuracy: 0.8565\n",
      "\n",
      "Epoch 00005: val_loss improved from inf to 1.39316, saving model to ../checkpoints/_entity_model05-0.86.h5\n",
      "Epoch 6/50\n",
      "4050/4050 [==============================] - 5s 1ms/step - loss: 1.3783 - crf_viterbi_accuracy: 0.8617 - val_loss: 1.3698 - val_crf_viterbi_accuracy: 0.8628\n",
      "Epoch 7/50\n",
      "4050/4050 [==============================] - 5s 1ms/step - loss: 1.3597 - crf_viterbi_accuracy: 0.8696 - val_loss: 1.3537 - val_crf_viterbi_accuracy: 0.8689\n",
      "Epoch 8/50\n",
      "4050/4050 [==============================] - 5s 1ms/step - loss: 1.3457 - crf_viterbi_accuracy: 0.8748 - val_loss: 1.3397 - val_crf_viterbi_accuracy: 0.8757\n",
      "Epoch 9/50\n",
      "4050/4050 [==============================] - 5s 1ms/step - loss: 1.3343 - crf_viterbi_accuracy: 0.8791 - val_loss: 1.3286 - val_crf_viterbi_accuracy: 0.8809\n",
      "Epoch 10/50\n",
      "4050/4050 [==============================] - 5s 1ms/step - loss: 1.3246 - crf_viterbi_accuracy: 0.8845 - val_loss: 1.3196 - val_crf_viterbi_accuracy: 0.8887\n",
      "\n",
      "Epoch 00010: val_loss improved from 1.39316 to 1.31960, saving model to ../checkpoints/_entity_model10-0.89.h5\n",
      "Epoch 11/50\n",
      "4050/4050 [==============================] - 5s 1ms/step - loss: 1.3178 - crf_viterbi_accuracy: 0.8873 - val_loss: 1.3129 - val_crf_viterbi_accuracy: 0.8897\n",
      "Epoch 12/50\n",
      "4050/4050 [==============================] - 5s 1ms/step - loss: 1.3107 - crf_viterbi_accuracy: 0.8895 - val_loss: 1.3074 - val_crf_viterbi_accuracy: 0.8919\n",
      "Epoch 13/50\n",
      "4050/4050 [==============================] - 5s 1ms/step - loss: 1.3051 - crf_viterbi_accuracy: 0.8928 - val_loss: 1.3024 - val_crf_viterbi_accuracy: 0.8931\n",
      "Epoch 14/50\n",
      "4050/4050 [==============================] - 5s 1ms/step - loss: 1.3006 - crf_viterbi_accuracy: 0.8948 - val_loss: 1.2986 - val_crf_viterbi_accuracy: 0.8944\n",
      "Epoch 15/50\n",
      "4050/4050 [==============================] - 5s 1ms/step - loss: 1.2960 - crf_viterbi_accuracy: 0.8969 - val_loss: 1.2955 - val_crf_viterbi_accuracy: 0.8983\n",
      "\n",
      "Epoch 00015: val_loss improved from 1.31960 to 1.29551, saving model to ../checkpoints/_entity_model15-0.90.h5\n",
      "Epoch 16/50\n",
      "4050/4050 [==============================] - 5s 1ms/step - loss: 1.2921 - crf_viterbi_accuracy: 0.8978 - val_loss: 1.2921 - val_crf_viterbi_accuracy: 0.8976\n",
      "Epoch 17/50\n",
      "4050/4050 [==============================] - 5s 1ms/step - loss: 1.2880 - crf_viterbi_accuracy: 0.8994 - val_loss: 1.2898 - val_crf_viterbi_accuracy: 0.8991\n",
      "Epoch 18/50\n",
      "4050/4050 [==============================] - 5s 1ms/step - loss: 1.2846 - crf_viterbi_accuracy: 0.9013 - val_loss: 1.2863 - val_crf_viterbi_accuracy: 0.8996\n",
      "Epoch 19/50\n",
      "4050/4050 [==============================] - 5s 1ms/step - loss: 1.2820 - crf_viterbi_accuracy: 0.9010 - val_loss: 1.2842 - val_crf_viterbi_accuracy: 0.9017\n",
      "Epoch 20/50\n",
      "4050/4050 [==============================] - 5s 1ms/step - loss: 1.2802 - crf_viterbi_accuracy: 0.9028 - val_loss: 1.2818 - val_crf_viterbi_accuracy: 0.9010\n",
      "\n",
      "Epoch 00020: val_loss improved from 1.29551 to 1.28183, saving model to ../checkpoints/_entity_model20-0.90.h5\n",
      "Epoch 21/50\n",
      "4050/4050 [==============================] - 5s 1ms/step - loss: 1.2763 - crf_viterbi_accuracy: 0.9037 - val_loss: 1.2796 - val_crf_viterbi_accuracy: 0.9020\n",
      "Epoch 22/50\n",
      "4050/4050 [==============================] - 5s 1ms/step - loss: 1.2741 - crf_viterbi_accuracy: 0.9049 - val_loss: 1.2792 - val_crf_viterbi_accuracy: 0.9008\n",
      "Epoch 23/50\n",
      "4050/4050 [==============================] - 5s 1ms/step - loss: 1.2724 - crf_viterbi_accuracy: 0.9055 - val_loss: 1.2766 - val_crf_viterbi_accuracy: 0.9022\n",
      "Epoch 24/50\n",
      "4050/4050 [==============================] - 5s 1ms/step - loss: 1.2703 - crf_viterbi_accuracy: 0.9063 - val_loss: 1.2747 - val_crf_viterbi_accuracy: 0.9030\n",
      "Epoch 25/50\n",
      "4050/4050 [==============================] - 5s 1ms/step - loss: 1.2677 - crf_viterbi_accuracy: 0.9072 - val_loss: 1.2722 - val_crf_viterbi_accuracy: 0.9051\n",
      "\n",
      "Epoch 00025: val_loss improved from 1.28183 to 1.27225, saving model to ../checkpoints/_entity_model25-0.91.h5\n",
      "Epoch 26/50\n",
      "4050/4050 [==============================] - 5s 1ms/step - loss: 1.2654 - crf_viterbi_accuracy: 0.9087 - val_loss: 1.2714 - val_crf_viterbi_accuracy: 0.9047\n",
      "Epoch 27/50\n",
      "4050/4050 [==============================] - 5s 1ms/step - loss: 1.2635 - crf_viterbi_accuracy: 0.9083 - val_loss: 1.2688 - val_crf_viterbi_accuracy: 0.9063\n",
      "Epoch 28/50\n",
      "4050/4050 [==============================] - 5s 1ms/step - loss: 1.2625 - crf_viterbi_accuracy: 0.9094 - val_loss: 1.2686 - val_crf_viterbi_accuracy: 0.9050\n",
      "Epoch 29/50\n",
      "4050/4050 [==============================] - 5s 1ms/step - loss: 1.2587 - crf_viterbi_accuracy: 0.9099 - val_loss: 1.2650 - val_crf_viterbi_accuracy: 0.9057\n",
      "Epoch 30/50\n",
      "4050/4050 [==============================] - 5s 1ms/step - loss: 1.2584 - crf_viterbi_accuracy: 0.9107 - val_loss: 1.2645 - val_crf_viterbi_accuracy: 0.9075\n",
      "\n",
      "Epoch 00030: val_loss improved from 1.27225 to 1.26452, saving model to ../checkpoints/_entity_model30-0.91.h5\n",
      "Epoch 31/50\n",
      "4050/4050 [==============================] - 5s 1ms/step - loss: 1.2555 - crf_viterbi_accuracy: 0.9119 - val_loss: 1.2621 - val_crf_viterbi_accuracy: 0.9065\n",
      "Epoch 32/50\n",
      "4050/4050 [==============================] - 5s 1ms/step - loss: 1.2536 - crf_viterbi_accuracy: 0.9119 - val_loss: 1.2611 - val_crf_viterbi_accuracy: 0.9072\n",
      "Epoch 33/50\n",
      "4050/4050 [==============================] - 5s 1ms/step - loss: 1.2522 - crf_viterbi_accuracy: 0.9123 - val_loss: 1.2596 - val_crf_viterbi_accuracy: 0.9075\n",
      "Epoch 34/50\n",
      "4050/4050 [==============================] - 5s 1ms/step - loss: 1.2501 - crf_viterbi_accuracy: 0.9140 - val_loss: 1.2581 - val_crf_viterbi_accuracy: 0.9101\n",
      "Epoch 35/50\n",
      "4050/4050 [==============================] - 5s 1ms/step - loss: 1.2502 - crf_viterbi_accuracy: 0.9122 - val_loss: 1.2576 - val_crf_viterbi_accuracy: 0.9086\n",
      "\n",
      "Epoch 00035: val_loss improved from 1.26452 to 1.25762, saving model to ../checkpoints/_entity_model35-0.91.h5\n",
      "Epoch 36/50\n",
      "4050/4050 [==============================] - 5s 1ms/step - loss: 1.2486 - crf_viterbi_accuracy: 0.9138 - val_loss: 1.2558 - val_crf_viterbi_accuracy: 0.9092\n",
      "Epoch 37/50\n",
      "4050/4050 [==============================] - 5s 1ms/step - loss: 1.2462 - crf_viterbi_accuracy: 0.9150 - val_loss: 1.2541 - val_crf_viterbi_accuracy: 0.9091\n",
      "Epoch 38/50\n",
      "4050/4050 [==============================] - 5s 1ms/step - loss: 1.2448 - crf_viterbi_accuracy: 0.9150 - val_loss: 1.2529 - val_crf_viterbi_accuracy: 0.9097\n",
      "Epoch 39/50\n",
      "4050/4050 [==============================] - 5s 1ms/step - loss: 1.2441 - crf_viterbi_accuracy: 0.9153 - val_loss: 1.2517 - val_crf_viterbi_accuracy: 0.9110\n",
      "Epoch 40/50\n",
      "4050/4050 [==============================] - 5s 1ms/step - loss: 1.2426 - crf_viterbi_accuracy: 0.9153 - val_loss: 1.2521 - val_crf_viterbi_accuracy: 0.9094\n",
      "\n",
      "Epoch 00040: val_loss improved from 1.25762 to 1.25213, saving model to ../checkpoints/_entity_model40-0.91.h5\n",
      "Epoch 41/50\n",
      "4050/4050 [==============================] - 5s 1ms/step - loss: 1.2402 - crf_viterbi_accuracy: 0.9166 - val_loss: 1.2494 - val_crf_viterbi_accuracy: 0.9108\n",
      "Epoch 42/50\n",
      "4050/4050 [==============================] - 5s 1ms/step - loss: 1.2395 - crf_viterbi_accuracy: 0.9163 - val_loss: 1.2495 - val_crf_viterbi_accuracy: 0.9101\n",
      "Epoch 43/50\n",
      "4050/4050 [==============================] - 5s 1ms/step - loss: 1.2374 - crf_viterbi_accuracy: 0.9175 - val_loss: 1.2482 - val_crf_viterbi_accuracy: 0.9104\n"
     ]
    },
    {
     "name": "stdout",
     "output_type": "stream",
     "text": [
      "Epoch 44/50\n",
      "4050/4050 [==============================] - 5s 1ms/step - loss: 1.2366 - crf_viterbi_accuracy: 0.9179 - val_loss: 1.2470 - val_crf_viterbi_accuracy: 0.9123\n",
      "Epoch 45/50\n",
      "4050/4050 [==============================] - 5s 1ms/step - loss: 1.2357 - crf_viterbi_accuracy: 0.9179 - val_loss: 1.2455 - val_crf_viterbi_accuracy: 0.9113\n",
      "\n",
      "Epoch 00045: val_loss improved from 1.25213 to 1.24549, saving model to ../checkpoints/_entity_model45-0.91.h5\n",
      "Epoch 46/50\n",
      "4050/4050 [==============================] - 5s 1ms/step - loss: 1.2343 - crf_viterbi_accuracy: 0.9185 - val_loss: 1.2451 - val_crf_viterbi_accuracy: 0.9113\n",
      "Epoch 47/50\n",
      "4050/4050 [==============================] - 5s 1ms/step - loss: 1.2329 - crf_viterbi_accuracy: 0.9188 - val_loss: 1.2440 - val_crf_viterbi_accuracy: 0.9120\n",
      "Epoch 48/50\n",
      "4050/4050 [==============================] - 5s 1ms/step - loss: 1.2324 - crf_viterbi_accuracy: 0.9180 - val_loss: 1.2425 - val_crf_viterbi_accuracy: 0.9128\n",
      "Epoch 49/50\n",
      "4050/4050 [==============================] - 5s 1ms/step - loss: 1.2315 - crf_viterbi_accuracy: 0.9193 - val_loss: 1.2414 - val_crf_viterbi_accuracy: 0.9112\n",
      "Epoch 50/50\n",
      "4050/4050 [==============================] - 5s 1ms/step - loss: 1.2298 - crf_viterbi_accuracy: 0.9195 - val_loss: 1.2407 - val_crf_viterbi_accuracy: 0.9121\n",
      "\n",
      "Epoch 00050: val_loss improved from 1.24549 to 1.24074, saving model to ../checkpoints/_entity_model50-0.91.h5\n"
     ]
    }
   ],
   "source": [
    "# callbacks\n",
    "from keras.callbacks import ReduceLROnPlateau, EarlyStopping, TerminateOnNaN, ModelCheckpoint\n",
    "cb_redlr = ReduceLROnPlateau(monitor='val_crf_viterbi_accuracy', factor=0.5, patience=3, min_lr=0.0001, verbose=1)\n",
    "cb_early = EarlyStopping(monitor='val_crf_viterbi_accuracy', min_delta=0, patience=5, verbose=1)\n",
    "cb_chkpt = ModelCheckpoint('../checkpoints/_'+modelname+'{epoch:02d}-{val_crf_viterbi_accuracy:.2f}.h5', verbose=1, save_best_only=True, save_weights_only=True, period=5)\n",
    "\n",
    "callbacks_list=[cb_redlr, cb_early, cb_chkpt]\n",
    "\n",
    "# start training\n",
    "log = model.fit(X_train, np.array(y_train), batch_size=32, epochs=50,\n",
    "                callbacks=callbacks_list,\n",
    "                validation_split=0.1, verbose=1)"
   ]
  },
  {
   "cell_type": "code",
   "execution_count": 33,
   "metadata": {},
   "outputs": [
    {
     "data": {
      "image/png": "[encoded data removed]",
      "text/plain": [
       "<Figure size 864x864 with 1 Axes>"
      ]
     },
     "metadata": {},
     "output_type": "display_data"
    }
   ],
   "source": [
    "# plot accuracies\n",
    "import pandas as pd\n",
    "hist = pd.DataFrame(log.history)\n",
    "# print(hist)\n",
    "%matplotlib inline\n",
    "import matplotlib.pyplot as plt\n",
    "plt.style.use(\"ggplot\")\n",
    "plt.figure(figsize=(12,12))\n",
    "plt.plot(hist[\"crf_viterbi_accuracy\"], label='Training accuracy')\n",
    "plt.plot(hist[\"val_crf_viterbi_accuracy\"], label='Validation accuracy')\n",
    "plt.legend()\n",
    "plt.show()"
   ]
  },
  {
   "cell_type": "code",
   "execution_count": 34,
   "metadata": {},
   "outputs": [],
   "source": [
    "# save model\n",
    "from keras_contrib.utils import save_load_utils\n",
    "with open('../models/' + modelname + '.json', 'w') as f:\n",
    "    f.write(model.to_json())\n",
    "# save weights\n",
    "save_load_utils.save_all_weights(model, '../models/'+modelname+'.h5')"
   ]
  },
  {
   "cell_type": "code",
   "execution_count": 35,
   "metadata": {},
   "outputs": [
    {
     "name": "stderr",
     "output_type": "stream",
     "text": [
      "/mpqa_new/miniconda3/envs/kbqa/lib/python3.6/site-packages/keras_contrib/layers/crf.py:346: UserWarning: CRF.loss_function is deprecated and it might be removed in the future. Please use losses.crf_loss instead.\n",
      "  warnings.warn('CRF.loss_function is deprecated '\n",
      "/mpqa_new/miniconda3/envs/kbqa/lib/python3.6/site-packages/keras_contrib/layers/crf.py:353: UserWarning: CRF.accuracy is deprecated and it might be removed in the future. Please use metrics.crf_accuracy\n",
      "  warnings.warn('CRF.accuracy is deprecated and it '\n"
     ]
    },
    {
     "name": "stdout",
     "output_type": "stream",
     "text": [
      "_________________________________________________________________\n",
      "Layer (type)                 Output Shape              Param #   \n",
      "=================================================================\n",
      "input_5 (InputLayer)         (None, 25)                0         \n",
      "_________________________________________________________________\n",
      "embedding_5 (Embedding)      (None, 25, 100)           711400    \n",
      "_________________________________________________________________\n",
      "bidirectional_5 (Bidirection (None, 25, 100)           60400     \n",
      "_________________________________________________________________\n",
      "time_distributed_5 (TimeDist (None, 25, 50)            5050      \n",
      "_________________________________________________________________\n",
      "crf_5 (CRF)                  (None, 25, 2)             110       \n",
      "=================================================================\n",
      "Total params: 776,960\n",
      "Trainable params: 65,560\n",
      "Non-trainable params: 711,400\n",
      "_________________________________________________________________\n",
      "500/500 [==============================] - 1s 2ms/step\n",
      "F1-score: 60.5%\n",
      "Precision-score: 61.7%\n",
      "Recall-score: 59.4%\n"
     ]
    }
   ],
   "source": [
    "# load model settings\n",
    "import pickle as pkl\n",
    "with open('%s_%s.pkl'%(dataset_name, embeddings_choice), 'rb') as f:\n",
    "    model_settings = pkl.load(f)\n",
    "model = build_model(model_settings)\n",
    "\n",
    "# load weights\n",
    "model.load_weights('../models/'+modelname+'.h5')\n",
    "\n",
    "# evaluate model on the test set\n",
    "test_pred = model.predict(X_test, verbose=1)\n",
    "\n",
    "idx2tag = {1: 'I', 0: 'O'}\n",
    "pred_labels = [[idx2tag[np.argmax(p)] for p in pred_i] for pred_i in test_pred]\n",
    "test_labels = [[idx2tag[np.argmax(p)] for p in pred_i] for pred_i in y_test]\n",
    "\n",
    "from seqeval.metrics import precision_score, recall_score, f1_score, classification_report\n",
    "print(\"F1-score: {:.1%}\".format(f1_score(test_labels, pred_labels, average='weighted')))\n",
    "print(\"Precision-score: {:.1%}\".format(precision_score(test_labels, pred_labels, average='weighted')))\n",
    "print(\"Recall-score: {:.1%}\".format(recall_score(test_labels, pred_labels, average='weighted')))"
   ]
  },
  {
   "cell_type": "code",
   "execution_count": 18,
   "metadata": {},
   "outputs": [
    {
     "name": "stdout",
     "output_type": "stream",
     "text": [
      "Word           ||True ||Pred\n",
      "==============================\n",
      "what           :     0 0\n",
      "are            :     0 0\n",
      "some           :     0 0\n",
      "musical        :     0 0\n",
      "artists        :     0 0\n",
      "associated     :     0 0\n",
      "with           :     0 0\n",
      "the            :     0 0\n",
      "ones           :     0 0\n",
      "signed         :     0 0\n",
      "up             :     0 0\n",
      "with           :     0 0\n",
      "emi            :     1 1\n"
     ]
    }
   ],
   "source": [
    "# show sample test prediction\n",
    "# i = 1\n",
    "p = model.predict(np.array([X_test[i]]))\n",
    "p = np.argmax(p, axis=-1)\n",
    "true = np.argmax(y_test[i], -1)\n",
    "print(\"{:15}||{:5}||{}\".format(\"Word\", \"True\", \"Pred\"))\n",
    "print(30 * \"=\")\n",
    "for w, t, pred in zip(X_test[i], true, p[0]):\n",
    "    if w != 0:\n",
    "        print(\"{:15}: {:5} {}\".format(words[w-1], t, pred))"
   ]
  },
  {
   "cell_type": "markdown",
   "metadata": {},
   "source": [
    "## Predicate mentions"
   ]
  },
  {
   "cell_type": "code",
   "execution_count": 19,
   "metadata": {},
   "outputs": [
    {
     "name": "stdout",
     "output_type": "stream",
     "text": [
      "Training on 4500 samples testing on 500 samples\n"
     ]
    }
   ],
   "source": [
    "# train entity mention span model\n",
    "y = y_p\n",
    "modelname = 'predicate_model'\n",
    "\n",
    "# prepare data\n",
    "y = pad_sequences(maxlen=max_len, sequences=y, padding=\"post\", value=0)\n",
    "from keras.utils import to_categorical\n",
    "y = [to_categorical(i, num_classes=n_tags) for i in y]\n",
    "\n",
    "# split dataset into training and testing subsets\n",
    "from sklearn.model_selection import train_test_split\n",
    "X_train, X_test, y_train, y_test = train_test_split(X, y, test_size=0.1)\n",
    "print(\"Training on %d samples testing on %d samples\" % (len(X_train), len(X_test)))"
   ]
  },
  {
   "cell_type": "code",
   "execution_count": 20,
   "metadata": {},
   "outputs": [
    {
     "name": "stdout",
     "output_type": "stream",
     "text": [
      "Train on 4050 samples, validate on 450 samples\n",
      "Epoch 1/50\n",
      "4050/4050 [==============================] - 5s 1ms/step - loss: 1.6766 - crf_viterbi_accuracy: 0.7527 - val_loss: 1.4922 - val_crf_viterbi_accuracy: 0.8087\n",
      "Epoch 2/50\n",
      "4050/4050 [==============================] - 5s 1ms/step - loss: 1.5141 - crf_viterbi_accuracy: 0.8011 - val_loss: 1.4431 - val_crf_viterbi_accuracy: 0.8134\n",
      "Epoch 3/50\n",
      "4050/4050 [==============================] - 5s 1ms/step - loss: 1.4714 - crf_viterbi_accuracy: 0.8061 - val_loss: 1.4066 - val_crf_viterbi_accuracy: 0.8202\n",
      "Epoch 4/50\n",
      "4050/4050 [==============================] - 5s 1ms/step - loss: 1.4407 - crf_viterbi_accuracy: 0.8184 - val_loss: 1.3827 - val_crf_viterbi_accuracy: 0.8368\n",
      "Epoch 5/50\n",
      "4050/4050 [==============================] - 5s 1ms/step - loss: 1.4201 - crf_viterbi_accuracy: 0.8294 - val_loss: 1.3665 - val_crf_viterbi_accuracy: 0.8445\n",
      "\n",
      "Epoch 00005: val_loss improved from inf to 1.36649, saving model to ../checkpoints/_predicate_model05-0.84.h5\n",
      "Epoch 6/50\n",
      "4050/4050 [==============================] - 5s 1ms/step - loss: 1.4046 - crf_viterbi_accuracy: 0.8401 - val_loss: 1.3546 - val_crf_viterbi_accuracy: 0.8499\n",
      "Epoch 7/50\n",
      "4050/4050 [==============================] - 5s 1ms/step - loss: 1.3931 - crf_viterbi_accuracy: 0.8483 - val_loss: 1.3461 - val_crf_viterbi_accuracy: 0.8608\n",
      "Epoch 8/50\n",
      "4050/4050 [==============================] - 5s 1ms/step - loss: 1.3844 - crf_viterbi_accuracy: 0.8536 - val_loss: 1.3389 - val_crf_viterbi_accuracy: 0.8678\n",
      "Epoch 9/50\n",
      "4050/4050 [==============================] - 5s 1ms/step - loss: 1.3774 - crf_viterbi_accuracy: 0.8591 - val_loss: 1.3321 - val_crf_viterbi_accuracy: 0.8707\n",
      "Epoch 10/50\n",
      "4050/4050 [==============================] - 5s 1ms/step - loss: 1.3705 - crf_viterbi_accuracy: 0.8607 - val_loss: 1.3269 - val_crf_viterbi_accuracy: 0.8713\n",
      "\n",
      "Epoch 00010: val_loss improved from 1.36649 to 1.32686, saving model to ../checkpoints/_predicate_model10-0.87.h5\n",
      "Epoch 11/50\n",
      "4050/4050 [==============================] - 5s 1ms/step - loss: 1.3652 - crf_viterbi_accuracy: 0.8656 - val_loss: 1.3225 - val_crf_viterbi_accuracy: 0.8736\n",
      "Epoch 12/50\n",
      "4050/4050 [==============================] - 5s 1ms/step - loss: 1.3604 - crf_viterbi_accuracy: 0.8668 - val_loss: 1.3196 - val_crf_viterbi_accuracy: 0.8766\n",
      "Epoch 13/50\n",
      "4050/4050 [==============================] - 5s 1ms/step - loss: 1.3562 - crf_viterbi_accuracy: 0.8700 - val_loss: 1.3163 - val_crf_viterbi_accuracy: 0.8773\n",
      "Epoch 14/50\n",
      "4050/4050 [==============================] - 5s 1ms/step - loss: 1.3533 - crf_viterbi_accuracy: 0.8715 - val_loss: 1.3136 - val_crf_viterbi_accuracy: 0.8769\n",
      "Epoch 15/50\n",
      "4050/4050 [==============================] - 5s 1ms/step - loss: 1.3505 - crf_viterbi_accuracy: 0.8733 - val_loss: 1.3113 - val_crf_viterbi_accuracy: 0.8782\n",
      "\n",
      "Epoch 00015: val_loss improved from 1.32686 to 1.31135, saving model to ../checkpoints/_predicate_model15-0.88.h5\n",
      "Epoch 16/50\n",
      "4050/4050 [==============================] - 5s 1ms/step - loss: 1.3471 - crf_viterbi_accuracy: 0.8758 - val_loss: 1.3085 - val_crf_viterbi_accuracy: 0.8790\n",
      "Epoch 17/50\n",
      "4050/4050 [==============================] - 5s 1ms/step - loss: 1.3447 - crf_viterbi_accuracy: 0.8759 - val_loss: 1.3065 - val_crf_viterbi_accuracy: 0.8794\n",
      "Epoch 18/50\n",
      "4050/4050 [==============================] - 5s 1ms/step - loss: 1.3419 - crf_viterbi_accuracy: 0.8773 - val_loss: 1.3051 - val_crf_viterbi_accuracy: 0.8803\n",
      "Epoch 19/50\n",
      "4050/4050 [==============================] - 5s 1ms/step - loss: 1.3400 - crf_viterbi_accuracy: 0.8777 - val_loss: 1.3028 - val_crf_viterbi_accuracy: 0.8795\n",
      "Epoch 20/50\n",
      "4050/4050 [==============================] - 5s 1ms/step - loss: 1.3386 - crf_viterbi_accuracy: 0.8792 - val_loss: 1.3018 - val_crf_viterbi_accuracy: 0.8815\n",
      "\n",
      "Epoch 00020: val_loss improved from 1.31135 to 1.30179, saving model to ../checkpoints/_predicate_model20-0.88.h5\n",
      "Epoch 21/50\n",
      "4050/4050 [==============================] - 5s 1ms/step - loss: 1.3360 - crf_viterbi_accuracy: 0.8810 - val_loss: 1.3013 - val_crf_viterbi_accuracy: 0.8808\n",
      "Epoch 22/50\n",
      "4050/4050 [==============================] - 5s 1ms/step - loss: 1.3345 - crf_viterbi_accuracy: 0.8816 - val_loss: 1.2990 - val_crf_viterbi_accuracy: 0.8809\n",
      "Epoch 23/50\n",
      "4050/4050 [==============================] - 5s 1ms/step - loss: 1.3329 - crf_viterbi_accuracy: 0.8825 - val_loss: 1.2975 - val_crf_viterbi_accuracy: 0.8819\n",
      "Epoch 24/50\n",
      "4050/4050 [==============================] - 5s 1ms/step - loss: 1.3319 - crf_viterbi_accuracy: 0.8826 - val_loss: 1.2972 - val_crf_viterbi_accuracy: 0.8820\n",
      "Epoch 25/50\n",
      "4050/4050 [==============================] - 5s 1ms/step - loss: 1.3303 - crf_viterbi_accuracy: 0.8844 - val_loss: 1.2957 - val_crf_viterbi_accuracy: 0.8824\n",
      "\n",
      "Epoch 00025: val_loss improved from 1.30179 to 1.29568, saving model to ../checkpoints/_predicate_model25-0.88.h5\n",
      "Epoch 26/50\n",
      "4050/4050 [==============================] - 5s 1ms/step - loss: 1.3288 - crf_viterbi_accuracy: 0.8844 - val_loss: 1.2955 - val_crf_viterbi_accuracy: 0.8836\n",
      "Epoch 27/50\n",
      "4050/4050 [==============================] - 5s 1ms/step - loss: 1.3277 - crf_viterbi_accuracy: 0.8850 - val_loss: 1.2943 - val_crf_viterbi_accuracy: 0.8828\n",
      "Epoch 28/50\n",
      "4050/4050 [==============================] - 5s 1ms/step - loss: 1.3265 - crf_viterbi_accuracy: 0.8856 - val_loss: 1.2940 - val_crf_viterbi_accuracy: 0.8834\n",
      "Epoch 29/50\n",
      "4050/4050 [==============================] - 5s 1ms/step - loss: 1.3256 - crf_viterbi_accuracy: 0.8856 - val_loss: 1.2944 - val_crf_viterbi_accuracy: 0.8822\n",
      "Epoch 30/50\n",
      "4050/4050 [==============================] - 5s 1ms/step - loss: 1.3249 - crf_viterbi_accuracy: 0.8861 - val_loss: 1.2934 - val_crf_viterbi_accuracy: 0.8823\n",
      "\n",
      "Epoch 00030: val_loss improved from 1.29568 to 1.29335, saving model to ../checkpoints/_predicate_model30-0.88.h5\n",
      "Epoch 31/50\n",
      "4050/4050 [==============================] - 5s 1ms/step - loss: 1.3237 - crf_viterbi_accuracy: 0.8872 - val_loss: 1.2918 - val_crf_viterbi_accuracy: 0.8854\n",
      "Epoch 32/50\n",
      "4050/4050 [==============================] - 5s 1ms/step - loss: 1.3228 - crf_viterbi_accuracy: 0.8877 - val_loss: 1.2913 - val_crf_viterbi_accuracy: 0.8855\n",
      "Epoch 33/50\n",
      "4050/4050 [==============================] - 5s 1ms/step - loss: 1.3219 - crf_viterbi_accuracy: 0.8870 - val_loss: 1.2902 - val_crf_viterbi_accuracy: 0.8861\n",
      "Epoch 34/50\n",
      "4050/4050 [==============================] - 5s 1ms/step - loss: 1.3209 - crf_viterbi_accuracy: 0.8885 - val_loss: 1.2906 - val_crf_viterbi_accuracy: 0.8835\n",
      "Epoch 35/50\n",
      "4050/4050 [==============================] - 5s 1ms/step - loss: 1.3200 - crf_viterbi_accuracy: 0.8884 - val_loss: 1.2896 - val_crf_viterbi_accuracy: 0.8855\n",
      "\n",
      "Epoch 00035: val_loss improved from 1.29335 to 1.28955, saving model to ../checkpoints/_predicate_model35-0.89.h5\n",
      "Epoch 36/50\n",
      "4050/4050 [==============================] - 5s 1ms/step - loss: 1.3190 - crf_viterbi_accuracy: 0.8894 - val_loss: 1.2884 - val_crf_viterbi_accuracy: 0.8853\n",
      "Epoch 37/50\n",
      "4050/4050 [==============================] - 5s 1ms/step - loss: 1.3185 - crf_viterbi_accuracy: 0.8889 - val_loss: 1.2882 - val_crf_viterbi_accuracy: 0.8866\n",
      "Epoch 38/50\n",
      "4050/4050 [==============================] - 5s 1ms/step - loss: 1.3178 - crf_viterbi_accuracy: 0.8897 - val_loss: 1.2883 - val_crf_viterbi_accuracy: 0.8845\n",
      "Epoch 39/50\n",
      "4050/4050 [==============================] - 5s 1ms/step - loss: 1.3164 - crf_viterbi_accuracy: 0.8903 - val_loss: 1.2871 - val_crf_viterbi_accuracy: 0.8865\n",
      "Epoch 40/50\n",
      "4050/4050 [==============================] - 5s 1ms/step - loss: 1.3164 - crf_viterbi_accuracy: 0.8903 - val_loss: 1.2869 - val_crf_viterbi_accuracy: 0.8858\n",
      "\n",
      "Epoch 00040: val_loss improved from 1.28955 to 1.28690, saving model to ../checkpoints/_predicate_model40-0.89.h5\n",
      "Epoch 41/50\n",
      "4050/4050 [==============================] - 5s 1ms/step - loss: 1.3156 - crf_viterbi_accuracy: 0.8919 - val_loss: 1.2864 - val_crf_viterbi_accuracy: 0.8870\n",
      "Epoch 42/50\n",
      "4050/4050 [==============================] - 5s 1ms/step - loss: 1.3142 - crf_viterbi_accuracy: 0.8914 - val_loss: 1.2870 - val_crf_viterbi_accuracy: 0.8880\n",
      "Epoch 43/50\n",
      "4050/4050 [==============================] - 5s 1ms/step - loss: 1.3146 - crf_viterbi_accuracy: 0.8917 - val_loss: 1.2860 - val_crf_viterbi_accuracy: 0.8865\n"
     ]
    },
    {
     "name": "stdout",
     "output_type": "stream",
     "text": [
      "Epoch 44/50\n",
      "4050/4050 [==============================] - 5s 1ms/step - loss: 1.3135 - crf_viterbi_accuracy: 0.8912 - val_loss: 1.2854 - val_crf_viterbi_accuracy: 0.8860\n",
      "Epoch 45/50\n",
      "4050/4050 [==============================] - 5s 1ms/step - loss: 1.3125 - crf_viterbi_accuracy: 0.8917 - val_loss: 1.2846 - val_crf_viterbi_accuracy: 0.8868\n",
      "\n",
      "Epoch 00045: val_loss improved from 1.28690 to 1.28457, saving model to ../checkpoints/_predicate_model45-0.89.h5\n",
      "Epoch 46/50\n",
      "4050/4050 [==============================] - 5s 1ms/step - loss: 1.3117 - crf_viterbi_accuracy: 0.8929 - val_loss: 1.2844 - val_crf_viterbi_accuracy: 0.8866\n",
      "Epoch 47/50\n",
      "4050/4050 [==============================] - 5s 1ms/step - loss: 1.3113 - crf_viterbi_accuracy: 0.8928 - val_loss: 1.2841 - val_crf_viterbi_accuracy: 0.8866\n",
      "Epoch 00047: early stopping\n"
     ]
    }
   ],
   "source": [
    "# callbacks\n",
    "from keras.callbacks import ReduceLROnPlateau, EarlyStopping, TerminateOnNaN, ModelCheckpoint\n",
    "cb_redlr = ReduceLROnPlateau(monitor='val_crf_viterbi_accuracy', factor=0.5, patience=3, min_lr=0.0001, verbose=1)\n",
    "cb_early = EarlyStopping(monitor='val_crf_viterbi_accuracy', min_delta=0, patience=5, verbose=1)\n",
    "cb_chkpt = ModelCheckpoint('../checkpoints/_'+modelname+'{epoch:02d}-{val_crf_viterbi_accuracy:.2f}.h5', verbose=1, save_best_only=True, save_weights_only=True, period=5)\n",
    "\n",
    "callbacks_list=[cb_redlr, cb_early, cb_chkpt]\n",
    "\n",
    "# start training\n",
    "log = model.fit(X_train, np.array(y_train), batch_size=32, epochs=50,\n",
    "                callbacks=callbacks_list,\n",
    "                validation_split=0.1, verbose=1)"
   ]
  },
  {
   "cell_type": "code",
   "execution_count": 21,
   "metadata": {},
   "outputs": [
    {
     "data": {
      "image/png": "[encoded data removed]",
      "text/plain": [
       "<Figure size 864x864 with 1 Axes>"
      ]
     },
     "metadata": {},
     "output_type": "display_data"
    }
   ],
   "source": [
    "# plot accuracies\n",
    "import pandas as pd\n",
    "hist = pd.DataFrame(log.history)\n",
    "# print(hist)\n",
    "%matplotlib inline\n",
    "import matplotlib.pyplot as plt\n",
    "plt.style.use(\"ggplot\")\n",
    "plt.figure(figsize=(12,12))\n",
    "plt.plot(hist[\"crf_viterbi_accuracy\"], label='Training accuracy')\n",
    "plt.plot(hist[\"val_crf_viterbi_accuracy\"], label='Validation accuracy')\n",
    "plt.legend()\n",
    "plt.show()"
   ]
  },
  {
   "cell_type": "code",
   "execution_count": 22,
   "metadata": {},
   "outputs": [
    {
     "name": "stdout",
     "output_type": "stream",
     "text": [
      "500/500 [==============================] - 0s 491us/step\n",
      "F1-score: 53.7%\n"
     ]
    }
   ],
   "source": [
    "# save model\n",
    "from keras_contrib.utils import save_load_utils\n",
    "with open('../models/' + modelname + '.json', 'w') as f:\n",
    "    f.write(model.to_json())\n",
    "# save weights\n",
    "save_load_utils.save_all_weights(model, '../models/'+modelname+'.h5')\n",
    "\n",
    "# load weights\n",
    "model.load_weights('../models/'+modelname+'.h5')\n",
    "\n",
    "# evaluate model on the test set\n",
    "test_pred = model.predict(X_test, verbose=1)\n",
    "\n",
    "idx2tag = {1: 'I', 0: 'O'}\n",
    "pred_labels = [[idx2tag[np.argmax(p)] for p in pred_i] for pred_i in test_pred]\n",
    "test_labels = [[idx2tag[np.argmax(p)] for p in pred_i] for pred_i in y_test]\n",
    "\n",
    "from seqeval.metrics import precision_score, recall_score, f1_score, classification_report\n",
    "print(\"F1-score: {:.1%}\".format(f1_score(test_labels, pred_labels, average='weighted')))"
   ]
  },
  {
   "cell_type": "code",
   "execution_count": 23,
   "metadata": {},
   "outputs": [
    {
     "name": "stdout",
     "output_type": "stream",
     "text": [
      "Word           ||True ||Pred\n",
      "==============================\n",
      "give           :     0 0\n",
      "me             :     0 0\n",
      "the            :     0 0\n",
      "total          :     0 0\n",
      "number         :     0 0\n",
      "of             :     0 0\n",
      "lines          :     0 0\n",
      "owned          :     0 1\n",
      "by             :     0 0\n",
      "owner          :     1 1\n",
      "of             :     0 0\n",
      "mwtro          :     0 0\n",
      "noth           :     0 0\n",
      "railroad       :     0 0\n"
     ]
    }
   ],
   "source": [
    "# show sample test prediction\n",
    "i = 1\n",
    "p = model.predict(np.array([X_test[i]]))\n",
    "p = np.argmax(p, axis=-1)\n",
    "true = np.argmax(y_test[i], -1)\n",
    "print(\"{:15}||{:5}||{}\".format(\"Word\", \"True\", \"Pred\"))\n",
    "print(30 * \"=\")\n",
    "for w, t, pred in zip(X_test[i], true, p[0]):\n",
    "    if w != 0:\n",
    "        print(\"{:15}: {:5} {}\".format(words[w-1], t, pred))"
   ]
  },
  {
   "cell_type": "code",
   "execution_count": null,
   "metadata": {},
   "outputs": [],
   "source": []
  }
 ],
 "metadata": {
  "kernelspec": {
   "display_name": "Python 3",
   "language": "python",
   "name": "python3"
  },
  "language_info": {
   "codemirror_mode": {
    "name": "ipython",
    "version": 3
   },
   "file_extension": ".py",
   "mimetype": "text/x-python",
   "name": "python",
   "nbconvert_exporter": "python",
   "pygments_lexer": "ipython3",
   "version": "3.6.13"
  }
 },
 "nbformat": 4,
 "nbformat_minor": 2
}
